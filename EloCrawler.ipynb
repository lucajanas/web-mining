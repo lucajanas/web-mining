{
 "cells": [
  {
   "cell_type": "markdown",
   "metadata": {},
   "source": [
    "# Elo-Crawler"
   ]
  },
  {
   "cell_type": "markdown",
   "metadata": {},
   "source": [
    "### First download the Elo list for one day and each season starting from 2005"
   ]
  },
  {
   "cell_type": "code",
   "execution_count": 48,
   "metadata": {},
   "outputs": [],
   "source": [
    "import requests\n",
    "import pandas as pd\n",
    "import os\n",
    "PATH_ELO_DATES = 'data/elo/elo-date/'\n",
    "PATH_ELO_CLUBS = 'data/elo/elo-clubs'"
   ]
  },
  {
   "cell_type": "code",
   "execution_count": 17,
   "metadata": {},
   "outputs": [],
   "source": [
    "elo_dates = [\n",
    "    '2005-01-01',\n",
    "    '2006-01-01',\n",
    "    '2007-01-01',\n",
    "    '2008-01-01',\n",
    "    '2009-01-01',\n",
    "    '2010-01-01',\n",
    "    '2011-01-01',\n",
    "    '2012-01-01',\n",
    "    '2013-01-01',\n",
    "    '2014-01-01',\n",
    "    '2015-01-01',\n",
    "    '2016-01-01',\n",
    "    '2017-01-01',\n",
    "    '2018-01-01',\n",
    "    '2019-01-01',\n",
    "    '2020-01-01',\n",
    "    '2021-01-01',\n",
    "    '2022-01-01',\n",
    "    '2023-01-01',\n",
    "]"
   ]
  },
  {
   "cell_type": "code",
   "execution_count": 28,
   "metadata": {},
   "outputs": [],
   "source": [
    "for date in elo_dates:\n",
    "    base = f'http://api.clubelo.com/{date}'\n",
    "    resp = requests.get(base)\n",
    "    if resp.status_code == 200:\n",
    "        with open(f'{PATH_ELO_DATES}{date}.csv', 'wb') as output_file:\n",
    "            output_file.write(resp.content)\n",
    "    else:\n",
    "         print(f'Request failed for {base}')"
   ]
  },
  {
   "cell_type": "markdown",
   "metadata": {},
   "source": [
    "### Collect all club names from selected country"
   ]
  },
  {
   "cell_type": "code",
   "execution_count": 50,
   "metadata": {},
   "outputs": [],
   "source": [
    "country = 'GER' # <= select your country here"
   ]
  },
  {
   "cell_type": "code",
   "execution_count": 42,
   "metadata": {},
   "outputs": [],
   "source": [
    "dataframes = []\n",
    "club_names = []\n",
    "for filename in os.listdir(PATH_ELO_DATES):\n",
    "    if filename.endswith('.csv'):\n",
    "        df = pd.read_csv(os.path.join(PATH_ELO_DATES, filename))\n",
    "        dataframes.append(df)\n",
    "\n",
    "for tmp_df in dataframes:\n",
    "    tmp_df = tmp_df[tmp_df['Country'] == country]\n",
    "    for club in tmp_df['Club']:\n",
    "        if club not in club_names:\n",
    "            club_names.append(club)"
   ]
  },
  {
   "cell_type": "code",
   "execution_count": 45,
   "metadata": {},
   "outputs": [
    {
     "name": "stdout",
     "output_type": "stream",
     "text": [
      "Number of clubs 60\n",
      "['Bayern', 'Werder', 'Stuttgart', 'Leverkusen', 'Schalke', 'Hertha', 'Hamburg', 'Dortmund', 'Hannover', 'Wolfsburg', 'Bochum', 'Nuernberg', 'Lautern', 'Gladbach', 'Bielefeld', 'Mainz', 'Rostock', 'Aachen', 'Koeln', 'Duisburg', 'Frankfurt', 'Fuerth', 'Freiburg', 'Muenchen 60', 'Cottbus', 'Aue', 'Burghausen', 'Ahlen', 'Trier', 'Saarbruecken', 'Oberhausen', 'Karlsruhe', 'Unterhaching', 'Erfurt', 'Dresden', 'Essen', 'Paderborn', 'Braunschweig', 'Siegen', 'Offenbach', 'Augsburg', 'Koblenz', 'Jena', 'Wehen', 'Hoffenheim', 'St Pauli', 'Osnabrueck', 'Ingolstadt', 'FSV Frankfurt', 'Duesseldorf', 'Union Berlin', 'Aalen', 'Sandhausen', 'Regensburg', 'Darmstadt', 'RB Leipzig', 'Heidenheim', 'Wuerzburg', 'Holstein', 'Magdeburg']\n"
     ]
    }
   ],
   "source": [
    "print(f'Number of clubs {len(club_names)}')\n",
    "print(club_names)"
   ]
  },
  {
   "cell_type": "markdown",
   "metadata": {},
   "source": [
    "### Download elo score list for all clubs from selected country"
   ]
  },
  {
   "cell_type": "code",
   "execution_count": 54,
   "metadata": {},
   "outputs": [],
   "source": [
    "dir_path = f'{PATH_ELO_CLUBS}/{country}'"
   ]
  },
  {
   "cell_type": "code",
   "execution_count": 58,
   "metadata": {},
   "outputs": [],
   "source": [
    "if not os.path.exists(dir_path):\n",
    "    os.makedirs(dir_path)\n",
    "    \n",
    "for club in club_names:\n",
    "    base = f'http://api.clubelo.com/{club}'\n",
    "    resp = requests.get(base)\n",
    "    if resp.status_code == 200:\n",
    "        with open(f'{dir_path}/{club}.csv', 'wb') as output_file:\n",
    "            output_file.write(resp.content)\n",
    "    else:\n",
    "        print(f'Request failed for {base}')\n",
    "    "
   ]
  },
  {
   "cell_type": "markdown",
   "metadata": {},
   "source": [
    "### Cut elo lists to a selected year"
   ]
  },
  {
   "cell_type": "code",
   "execution_count": null,
   "metadata": {},
   "outputs": [],
   "source": [
    "year = 2005 # <= select year here"
   ]
  },
  {
   "cell_type": "code",
   "execution_count": 60,
   "metadata": {},
   "outputs": [],
   "source": [
    "for filename in os.listdir(dir_path):\n",
    "    if filename.endswith('.csv'):\n",
    "        df = pd.read_csv(os.path.join(dir_path, filename))\n",
    "        # Convert 'from' column to datetime objects\n",
    "        df['From'] = pd.to_datetime(df['From'])\n",
    "        df = df[df['From'].dt.year >= year ]\n",
    "        df.to_csv(f'{dir_path}/{filename}')\n"
   ]
  }
 ],
 "metadata": {
  "kernelspec": {
   "display_name": "darts_org",
   "language": "python",
   "name": "python3"
  },
  "language_info": {
   "codemirror_mode": {
    "name": "ipython",
    "version": 3
   },
   "file_extension": ".py",
   "mimetype": "text/x-python",
   "name": "python",
   "nbconvert_exporter": "python",
   "pygments_lexer": "ipython3",
   "version": "3.9.16"
  },
  "orig_nbformat": 4
 },
 "nbformat": 4,
 "nbformat_minor": 2
}
