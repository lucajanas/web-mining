{
 "cells": [
  {
   "cell_type": "markdown",
   "metadata": {},
   "source": [
    "# Prepare data and convert data types"
   ]
  },
  {
   "cell_type": "code",
   "execution_count": 73,
   "metadata": {},
   "outputs": [],
   "source": [
    "import pandas as pd\n",
    "from sklearn.preprocessing import LabelEncoder"
   ]
  },
  {
   "cell_type": "code",
   "execution_count": 74,
   "metadata": {},
   "outputs": [
    {
     "name": "stdout",
     "output_type": "stream",
     "text": [
      "DATE                            datetime64[ns]\n",
      "WEEKDAY                                  int64\n",
      "MONTH                                    int64\n",
      "SEASON                                   int32\n",
      "MATCHDAY                                 int64\n",
      "HOME_TEAM                               object\n",
      "PLACE_HOME_TEAM                         object\n",
      "AWAY_TEAM                               object\n",
      "PLACE_AWAY_TEAM                         object\n",
      "WIN_PERC_HOME                          float64\n",
      "REMIS_PERC                             float64\n",
      "WIN_PERC_AWAY                          float64\n",
      "HOME_GOALS                             float64\n",
      "AWAY_GOALS                             float64\n",
      "RESULT                                  object\n",
      "REFEREE                                 object\n",
      "HOME_PLAYERS_COUNT                      object\n",
      "HOME_PLAYERS_AVG_AGE                    object\n",
      "HOME_LEGIONARIES_COUNT                  object\n",
      "HOME_AVG_MARKET_VALUE                   object\n",
      "HOME_TOTAL_MARKET_VALUE                 object\n",
      "HOME_AVG_AGE_JOINING                   float64\n",
      "HOME_AVG_AGE_LEAVING                    object\n",
      "HOME_TOTAL_VALUE_JOINING_MIO            object\n",
      "HOME_TOTAL_VALUE_LEAVING_MIO            object\n",
      "HOME_EXPENSES_JOINING_MIO               object\n",
      "HOME_REVENUE_LEAVING_MIO                object\n",
      "AWAY_PLAYERS_COUNT                      object\n",
      "AWAY_PLAYERS_AVG_AGE                    object\n",
      "AWAY_LEGIONARIES_COUNT                  object\n",
      "AWAY_AVG_MARKET_VALUE                   object\n",
      "AWAY_TOTAL_MARKET_VALUE                 object\n",
      "AWAY_AVG_AGE_JOINING                   float64\n",
      "AWAY_AVG_AGE_LEAVING                    object\n",
      "AWAY_TOTAL_VALUE_JOINING_MIO            object\n",
      "AWAY_TOTAL_VALUE_LEAVING_MIO            object\n",
      "AWAY_EXPENSES_JOINING_MIO               object\n",
      "AWAY_REVENUE_LEAVING_MIO                object\n",
      "dtype: object\n"
     ]
    }
   ],
   "source": [
    "df = pd.read_pickle(\"./df_merge_club_transfer_data.pkl\")\n",
    "print(df.dtypes)"
   ]
  },
  {
   "cell_type": "code",
   "execution_count": 75,
   "metadata": {},
   "outputs": [
    {
     "name": "stdout",
     "output_type": "stream",
     "text": [
      "DATE                               0\n",
      "WEEKDAY                            0\n",
      "MONTH                              0\n",
      "SEASON                             0\n",
      "MATCHDAY                           0\n",
      "HOME_TEAM                          0\n",
      "PLACE_HOME_TEAM                    0\n",
      "AWAY_TEAM                          0\n",
      "PLACE_AWAY_TEAM                    0\n",
      "WIN_PERC_HOME                   1530\n",
      "REMIS_PERC                      1530\n",
      "WIN_PERC_AWAY                   1530\n",
      "HOME_GOALS                         0\n",
      "AWAY_GOALS                         0\n",
      "RESULT                             0\n",
      "REFEREE                            0\n",
      "HOME_PLAYERS_COUNT                 0\n",
      "HOME_PLAYERS_AVG_AGE               0\n",
      "HOME_LEGIONARIES_COUNT             0\n",
      "HOME_AVG_MARKET_VALUE              0\n",
      "HOME_TOTAL_MARKET_VALUE            0\n",
      "HOME_AVG_AGE_JOINING               0\n",
      "HOME_AVG_AGE_LEAVING               0\n",
      "HOME_TOTAL_VALUE_JOINING_MIO       0\n",
      "HOME_TOTAL_VALUE_LEAVING_MIO       0\n",
      "HOME_EXPENSES_JOINING_MIO          0\n",
      "HOME_REVENUE_LEAVING_MIO           0\n",
      "AWAY_PLAYERS_COUNT                 0\n",
      "AWAY_PLAYERS_AVG_AGE               0\n",
      "AWAY_LEGIONARIES_COUNT             0\n",
      "AWAY_AVG_MARKET_VALUE              0\n",
      "AWAY_TOTAL_MARKET_VALUE            0\n",
      "AWAY_AVG_AGE_JOINING               0\n",
      "AWAY_AVG_AGE_LEAVING               0\n",
      "AWAY_TOTAL_VALUE_JOINING_MIO       0\n",
      "AWAY_TOTAL_VALUE_LEAVING_MIO       0\n",
      "AWAY_EXPENSES_JOINING_MIO          0\n",
      "AWAY_REVENUE_LEAVING_MIO           0\n",
      "dtype: int64\n",
      "5814\n"
     ]
    }
   ],
   "source": [
    "nan_count = df.isna().sum()\n",
    "print(nan_count)\n",
    "print(len(df))"
   ]
  },
  {
   "cell_type": "markdown",
   "metadata": {},
   "source": [
    "## 1st step of data preparation"
   ]
  },
  {
   "cell_type": "code",
   "execution_count": 76,
   "metadata": {},
   "outputs": [
    {
     "name": "stdout",
     "output_type": "stream",
     "text": [
      "Index(['HOME_TEAM', 'PLACE_HOME_TEAM', 'AWAY_TEAM', 'PLACE_AWAY_TEAM',\n",
      "       'RESULT', 'REFEREE', 'HOME_PLAYERS_COUNT', 'HOME_PLAYERS_AVG_AGE',\n",
      "       'HOME_LEGIONARIES_COUNT', 'HOME_AVG_MARKET_VALUE',\n",
      "       'HOME_TOTAL_MARKET_VALUE', 'HOME_AVG_AGE_LEAVING',\n",
      "       'HOME_TOTAL_VALUE_JOINING_MIO', 'HOME_TOTAL_VALUE_LEAVING_MIO',\n",
      "       'HOME_EXPENSES_JOINING_MIO', 'HOME_REVENUE_LEAVING_MIO',\n",
      "       'AWAY_PLAYERS_COUNT', 'AWAY_PLAYERS_AVG_AGE', 'AWAY_LEGIONARIES_COUNT',\n",
      "       'AWAY_AVG_MARKET_VALUE', 'AWAY_TOTAL_MARKET_VALUE',\n",
      "       'AWAY_AVG_AGE_LEAVING', 'AWAY_TOTAL_VALUE_JOINING_MIO',\n",
      "       'AWAY_TOTAL_VALUE_LEAVING_MIO', 'AWAY_EXPENSES_JOINING_MIO',\n",
      "       'AWAY_REVENUE_LEAVING_MIO'],\n",
      "      dtype='object')\n"
     ]
    }
   ],
   "source": [
    "df1 = df.copy()\n",
    "object_columns = df1.select_dtypes(include=['object']).columns\n",
    "print(object_columns)"
   ]
  },
  {
   "cell_type": "code",
   "execution_count": 77,
   "metadata": {},
   "outputs": [
    {
     "name": "stdout",
     "output_type": "stream",
     "text": [
      "HOME_TEAM                       SV Werder Bremen\n",
      "PLACE_HOME_TEAM                                3\n",
      "AWAY_TEAM                          FC Schalke 04\n",
      "PLACE_AWAY_TEAM                                2\n",
      "RESULT                                  HOME_WIN\n",
      "REFEREE                         Stefan Trautmann\n",
      "HOME_PLAYERS_COUNT                            29\n",
      "HOME_PLAYERS_AVG_AGE                        25,0\n",
      "HOME_LEGIONARIES_COUNT                        14\n",
      "HOME_AVG_MARKET_VALUE                3,40 Mio. €\n",
      "HOME_TOTAL_MARKET_VALUE             98,48 Mio. €\n",
      "HOME_AVG_AGE_LEAVING                        26.4\n",
      "HOME_TOTAL_VALUE_JOINING_MIO                    \n",
      "HOME_TOTAL_VALUE_LEAVING_MIO                    \n",
      "HOME_EXPENSES_JOINING_MIO                    9.0\n",
      "HOME_REVENUE_LEAVING_MIO                    6.45\n",
      "AWAY_PLAYERS_COUNT                            33\n",
      "AWAY_PLAYERS_AVG_AGE                        25,6\n",
      "AWAY_LEGIONARIES_COUNT                        15\n",
      "AWAY_AVG_MARKET_VALUE                2,62 Mio. €\n",
      "AWAY_TOTAL_MARKET_VALUE             86,33 Mio. €\n",
      "AWAY_AVG_AGE_LEAVING                        27.8\n",
      "AWAY_TOTAL_VALUE_JOINING_MIO                    \n",
      "AWAY_TOTAL_VALUE_LEAVING_MIO                    \n",
      "AWAY_EXPENSES_JOINING_MIO                   4.65\n",
      "AWAY_REVENUE_LEAVING_MIO                    0.05\n",
      "Name: 0, dtype: object\n"
     ]
    }
   ],
   "source": [
    "print(df1[object_columns].iloc[0])"
   ]
  },
  {
   "cell_type": "code",
   "execution_count": 78,
   "metadata": {},
   "outputs": [],
   "source": [
    "columns_to_convert = ['PLACE_HOME_TEAM','PLACE_AWAY_TEAM','HOME_PLAYERS_COUNT','HOME_PLAYERS_AVG_AGE','HOME_LEGIONARIES_COUNT',\n",
    "                     'HOME_AVG_AGE_LEAVING','HOME_EXPENSES_JOINING_MIO','HOME_REVENUE_LEAVING_MIO', \n",
    "                     'AWAY_PLAYERS_COUNT','AWAY_PLAYERS_AVG_AGE','AWAY_LEGIONARIES_COUNT','AWAY_AVG_AGE_LEAVING',\n",
    "                     'AWAY_EXPENSES_JOINING_MIO', 'AWAY_REVENUE_LEAVING_MIO']\n",
    "for column in columns_to_convert:\n",
    "    if df1[column].dtype == 'object':  # Nur Spalten vom Typ 'object' verarbeiten\n",
    "        df1[column] = df1[column].astype(str).str.replace(',', '.')\n",
    "        df1[column] = pd.to_numeric(df1[column], errors='coerce')"
   ]
  },
  {
   "cell_type": "code",
   "execution_count": 79,
   "metadata": {},
   "outputs": [
    {
     "name": "stdout",
     "output_type": "stream",
     "text": [
      "DATE                               0\n",
      "WEEKDAY                            0\n",
      "MONTH                              0\n",
      "SEASON                             0\n",
      "MATCHDAY                           0\n",
      "HOME_TEAM                          0\n",
      "PLACE_HOME_TEAM                    0\n",
      "AWAY_TEAM                          0\n",
      "PLACE_AWAY_TEAM                    0\n",
      "WIN_PERC_HOME                   1530\n",
      "REMIS_PERC                      1530\n",
      "WIN_PERC_AWAY                   1530\n",
      "HOME_GOALS                         0\n",
      "AWAY_GOALS                         0\n",
      "RESULT                             0\n",
      "REFEREE                            0\n",
      "HOME_PLAYERS_COUNT                 0\n",
      "HOME_PLAYERS_AVG_AGE               0\n",
      "HOME_LEGIONARIES_COUNT             0\n",
      "HOME_AVG_MARKET_VALUE              0\n",
      "HOME_TOTAL_MARKET_VALUE            0\n",
      "HOME_AVG_AGE_JOINING               0\n",
      "HOME_AVG_AGE_LEAVING               0\n",
      "HOME_TOTAL_VALUE_JOINING_MIO       0\n",
      "HOME_TOTAL_VALUE_LEAVING_MIO       0\n",
      "HOME_EXPENSES_JOINING_MIO         85\n",
      "HOME_REVENUE_LEAVING_MIO         272\n",
      "AWAY_PLAYERS_COUNT                 0\n",
      "AWAY_PLAYERS_AVG_AGE               0\n",
      "AWAY_LEGIONARIES_COUNT             0\n",
      "AWAY_AVG_MARKET_VALUE              0\n",
      "AWAY_TOTAL_MARKET_VALUE            0\n",
      "AWAY_AVG_AGE_JOINING               0\n",
      "AWAY_AVG_AGE_LEAVING               0\n",
      "AWAY_TOTAL_VALUE_JOINING_MIO       0\n",
      "AWAY_TOTAL_VALUE_LEAVING_MIO       0\n",
      "AWAY_EXPENSES_JOINING_MIO         85\n",
      "AWAY_REVENUE_LEAVING_MIO         272\n",
      "dtype: int64\n"
     ]
    }
   ],
   "source": [
    "nan_count = df1.isna().sum()\n",
    "print(nan_count)"
   ]
  },
  {
   "cell_type": "code",
   "execution_count": 80,
   "metadata": {},
   "outputs": [
    {
     "name": "stdout",
     "output_type": "stream",
     "text": [
      "5503\n",
      "\n"
     ]
    }
   ],
   "source": [
    "\n",
    "first_nan_index = df1[df1['AWAY_EXPENSES_JOINING_MIO'].isna()].index.max()\n",
    "print(first_nan_index)\n",
    "value = df.loc[first_nan_index, 'AWAY_EXPENSES_JOINING_MIO']\n",
    "print(df.loc[first_nan_index, 'AWAY_EXPENSES_JOINING_MIO'])"
   ]
  },
  {
   "cell_type": "code",
   "execution_count": 81,
   "metadata": {},
   "outputs": [
    {
     "name": "stdout",
     "output_type": "stream",
     "text": [
      "{'1.FSV Mainz 05', 'Hannover 96', 'Arminia Bielefeld', 'MSV Duisburg', 'VfL Wolfsburg', 'Borussia Mönchengladbach', 'FC Ingolstadt 04', 'Eintracht Braunschweig', 'TSG 1899 Hoffenheim', 'Eintracht Frankfurt', '1.FC Nürnberg', 'Hertha BSC', 'FC Hansa Rostock', 'Fortuna Düsseldorf', 'RasenBallsport Leipzig', '1.FC Kaiserslautern', 'SpVgg Greuther Fürth', 'SV Werder Bremen', 'VfL Bochum', 'Karlsruher SC', 'FC Augsburg', 'FC Schalke 04', 'SV Darmstadt 98', 'SC Paderborn 07', 'Bayer 04 Leverkusen', '1.FC Köln', 'VfB Stuttgart', '1.FC Union Berlin', 'Alemannia Aachen', 'SC Freiburg', 'FC Bayern München', 'FC Energie Cottbus', 'FC St. Pauli', 'Hamburger SV', 'Borussia Dortmund'}\n"
     ]
    }
   ],
   "source": [
    "# Ein Set für die Teamnamen erstellen\n",
    "unique_teams = set()\n",
    "\n",
    "# Durch alle Zeilen im DataFrame iterieren und die Teamnamen in das Set aufnehmen, falls \"AWAY_EXPENSES_JOINING_MIO\" einen bestimmten Wert hat\n",
    "for index, row in df.iterrows():\n",
    "    if pd.notna(row['AWAY_EXPENSES_JOINING_MIO']):  # pd.notna prüft, ob der Wert nicht NaN ist\n",
    "        unique_teams.add(row['AWAY_TEAM'])\n",
    "\n",
    "# Das Set enthält jetzt die einzigartigen Teamnamen, wo \"AWAY_EXPENSES_JOINING_MIO\" nicht NaN ist\n",
    "print(unique_teams)"
   ]
  },
  {
   "cell_type": "code",
   "execution_count": 82,
   "metadata": {},
   "outputs": [],
   "source": [
    "def convert_market_value(value):\n",
    "    try:\n",
    "        # Entferne Kommas und ersetze sie durch Punkte\n",
    "        value = value.replace(\",\", \".\")\n",
    "        \n",
    "        # Millionen\n",
    "        if \"Mio. €\" in value:\n",
    "            value = value.replace(\"Mio. €\", \"\")\n",
    "            return float(value) * 1e6  # Multipliziere mit 1 Million\n",
    "\n",
    "        # Tausend\n",
    "        elif \"Tsd. €\" in value:\n",
    "            value = value.replace(\"Tsd. €\", \"\")\n",
    "            return float(value) * 1e3  # Multipliziere mit 1 Tausend\n",
    "\n",
    "        else:\n",
    "            return None  # Falls die Konvertierung fehlschlägt, gebe None zurück\n",
    "\n",
    "    except Exception as e:\n",
    "        print(f\"Konvertierungsfehler: {e}, Wert: {value}\")\n",
    "        return None  # Falls die Konvertierung fehlschlägt, gebe None zurück"
   ]
  },
  {
   "cell_type": "code",
   "execution_count": 83,
   "metadata": {},
   "outputs": [
    {
     "name": "stdout",
     "output_type": "stream",
     "text": [
      "DATE                            datetime64[ns]\n",
      "WEEKDAY                                  int64\n",
      "MONTH                                    int64\n",
      "SEASON                                   int32\n",
      "MATCHDAY                                 int64\n",
      "HOME_TEAM                               object\n",
      "PLACE_HOME_TEAM                          int64\n",
      "AWAY_TEAM                               object\n",
      "PLACE_AWAY_TEAM                          int64\n",
      "WIN_PERC_HOME                          float64\n",
      "REMIS_PERC                             float64\n",
      "WIN_PERC_AWAY                          float64\n",
      "HOME_GOALS                             float64\n",
      "AWAY_GOALS                             float64\n",
      "RESULT                                  object\n",
      "REFEREE                                 object\n",
      "HOME_PLAYERS_COUNT                       int64\n",
      "HOME_PLAYERS_AVG_AGE                   float64\n",
      "HOME_LEGIONARIES_COUNT                   int64\n",
      "HOME_AVG_MARKET_VALUE                  float64\n",
      "HOME_TOTAL_MARKET_VALUE                float64\n",
      "HOME_AVG_AGE_JOINING                   float64\n",
      "HOME_AVG_AGE_LEAVING                   float64\n",
      "HOME_TOTAL_VALUE_JOINING_MIO            object\n",
      "HOME_TOTAL_VALUE_LEAVING_MIO            object\n",
      "HOME_EXPENSES_JOINING_MIO              float64\n",
      "HOME_REVENUE_LEAVING_MIO               float64\n",
      "AWAY_PLAYERS_COUNT                       int64\n",
      "AWAY_PLAYERS_AVG_AGE                   float64\n",
      "AWAY_LEGIONARIES_COUNT                   int64\n",
      "AWAY_AVG_MARKET_VALUE                  float64\n",
      "AWAY_TOTAL_MARKET_VALUE                float64\n",
      "AWAY_AVG_AGE_JOINING                   float64\n",
      "AWAY_AVG_AGE_LEAVING                   float64\n",
      "AWAY_TOTAL_VALUE_JOINING_MIO            object\n",
      "AWAY_TOTAL_VALUE_LEAVING_MIO            object\n",
      "AWAY_EXPENSES_JOINING_MIO              float64\n",
      "AWAY_REVENUE_LEAVING_MIO               float64\n",
      "dtype: object\n"
     ]
    }
   ],
   "source": [
    "df1 = df1.copy()\n",
    "df1['HOME_AVG_MARKET_VALUE'] = df1['HOME_AVG_MARKET_VALUE'].apply(convert_market_value)\n",
    "df1['HOME_TOTAL_MARKET_VALUE'] = df1['HOME_TOTAL_MARKET_VALUE'].apply(convert_market_value)\n",
    "df1['AWAY_AVG_MARKET_VALUE'] = df1['AWAY_AVG_MARKET_VALUE'].apply(convert_market_value)\n",
    "df1['AWAY_TOTAL_MARKET_VALUE'] = df1['AWAY_TOTAL_MARKET_VALUE'].apply(convert_market_value)\n",
    "print(df1.dtypes)"
   ]
  },
  {
   "cell_type": "code",
   "execution_count": 84,
   "metadata": {},
   "outputs": [
    {
     "name": "stdout",
     "output_type": "stream",
     "text": [
      "HOME_TEAM                       SV Werder Bremen\n",
      "PLACE_HOME_TEAM                                3\n",
      "AWAY_TEAM                          FC Schalke 04\n",
      "PLACE_AWAY_TEAM                                2\n",
      "RESULT                                  HOME_WIN\n",
      "REFEREE                         Stefan Trautmann\n",
      "HOME_PLAYERS_COUNT                            29\n",
      "HOME_PLAYERS_AVG_AGE                        25.0\n",
      "HOME_LEGIONARIES_COUNT                        14\n",
      "HOME_AVG_MARKET_VALUE                  3400000.0\n",
      "HOME_TOTAL_MARKET_VALUE               98480000.0\n",
      "HOME_AVG_AGE_LEAVING                        26.4\n",
      "HOME_TOTAL_VALUE_JOINING_MIO                    \n",
      "HOME_TOTAL_VALUE_LEAVING_MIO                    \n",
      "HOME_EXPENSES_JOINING_MIO                    9.0\n",
      "HOME_REVENUE_LEAVING_MIO                    6.45\n",
      "AWAY_PLAYERS_COUNT                            33\n",
      "AWAY_PLAYERS_AVG_AGE                        25.6\n",
      "AWAY_LEGIONARIES_COUNT                        15\n",
      "AWAY_AVG_MARKET_VALUE                  2620000.0\n",
      "AWAY_TOTAL_MARKET_VALUE               86330000.0\n",
      "AWAY_AVG_AGE_LEAVING                        27.8\n",
      "AWAY_TOTAL_VALUE_JOINING_MIO                    \n",
      "AWAY_TOTAL_VALUE_LEAVING_MIO                    \n",
      "AWAY_EXPENSES_JOINING_MIO                   4.65\n",
      "AWAY_REVENUE_LEAVING_MIO                    0.05\n",
      "Name: 0, dtype: object\n"
     ]
    }
   ],
   "source": [
    "print(df1[object_columns].iloc[0])"
   ]
  },
  {
   "cell_type": "code",
   "execution_count": 85,
   "metadata": {},
   "outputs": [
    {
     "name": "stdout",
     "output_type": "stream",
     "text": [
      "DATE                               0\n",
      "WEEKDAY                            0\n",
      "MONTH                              0\n",
      "SEASON                             0\n",
      "MATCHDAY                           0\n",
      "HOME_TEAM                          0\n",
      "PLACE_HOME_TEAM                    0\n",
      "AWAY_TEAM                          0\n",
      "PLACE_AWAY_TEAM                    0\n",
      "WIN_PERC_HOME                   1530\n",
      "REMIS_PERC                      1530\n",
      "WIN_PERC_AWAY                   1530\n",
      "HOME_GOALS                         0\n",
      "AWAY_GOALS                         0\n",
      "RESULT                             0\n",
      "REFEREE                            0\n",
      "HOME_PLAYERS_COUNT                 0\n",
      "HOME_PLAYERS_AVG_AGE               0\n",
      "HOME_LEGIONARIES_COUNT             0\n",
      "HOME_AVG_MARKET_VALUE              0\n",
      "HOME_TOTAL_MARKET_VALUE            0\n",
      "HOME_AVG_AGE_JOINING               0\n",
      "HOME_AVG_AGE_LEAVING               0\n",
      "HOME_TOTAL_VALUE_JOINING_MIO       0\n",
      "HOME_TOTAL_VALUE_LEAVING_MIO       0\n",
      "HOME_EXPENSES_JOINING_MIO         85\n",
      "HOME_REVENUE_LEAVING_MIO         272\n",
      "AWAY_PLAYERS_COUNT                 0\n",
      "AWAY_PLAYERS_AVG_AGE               0\n",
      "AWAY_LEGIONARIES_COUNT             0\n",
      "AWAY_AVG_MARKET_VALUE              0\n",
      "AWAY_TOTAL_MARKET_VALUE            0\n",
      "AWAY_AVG_AGE_JOINING               0\n",
      "AWAY_AVG_AGE_LEAVING               0\n",
      "AWAY_TOTAL_VALUE_JOINING_MIO       0\n",
      "AWAY_TOTAL_VALUE_LEAVING_MIO       0\n",
      "AWAY_EXPENSES_JOINING_MIO         85\n",
      "AWAY_REVENUE_LEAVING_MIO         272\n",
      "dtype: int64\n"
     ]
    }
   ],
   "source": [
    "nan_count = df1.isna().sum()\n",
    "print(nan_count)"
   ]
  },
  {
   "cell_type": "code",
   "execution_count": 86,
   "metadata": {},
   "outputs": [],
   "source": [
    "df1.to_pickle(\"df_merge_club_transfer_data_prep1.pkl\")"
   ]
  },
  {
   "cell_type": "markdown",
   "metadata": {},
   "source": [
    "## 2nd step of data preparation"
   ]
  },
  {
   "cell_type": "code",
   "execution_count": 112,
   "metadata": {},
   "outputs": [],
   "source": [
    "df2 = df1.copy()"
   ]
  },
  {
   "cell_type": "code",
   "execution_count": 113,
   "metadata": {},
   "outputs": [
    {
     "name": "stdout",
     "output_type": "stream",
     "text": [
      "Label Mapping: {0: '1.FC Kaiserslautern', 1: '1.FC Köln', 2: '1.FC Nürnberg', 3: '1.FC Union Berlin', 4: '1.FSV Mainz 05', 5: 'Alemannia Aachen', 6: 'Arminia Bielefeld', 7: 'Bayer 04 Leverkusen', 8: 'Borussia Dortmund', 9: 'Borussia Mönchengladbach', 10: 'Eintracht Braunschweig', 11: 'Eintracht Frankfurt', 12: 'FC Augsburg', 13: 'FC Bayern München', 14: 'FC Energie Cottbus', 15: 'FC Hansa Rostock', 16: 'FC Ingolstadt 04', 17: 'FC Schalke 04', 18: 'FC St. Pauli', 19: 'Fortuna Düsseldorf', 20: 'Hamburger SV', 21: 'Hannover 96', 22: 'Hertha BSC', 23: 'Karlsruher SC', 24: 'MSV Duisburg', 25: 'RasenBallsport Leipzig', 26: 'SC Freiburg', 27: 'SC Paderborn 07', 28: 'SV Darmstadt 98', 29: 'SV Werder Bremen', 30: 'SpVgg Greuther Fürth', 31: 'TSG 1899 Hoffenheim', 32: 'VfB Stuttgart', 33: 'VfL Bochum', 34: 'VfL Wolfsburg'}\n"
     ]
    }
   ],
   "source": [
    "le_HOME_TEAM = LabelEncoder()\n",
    "encoded_HOME_TEAM = le_HOME_TEAM.fit_transform(df2['HOME_TEAM'])\n",
    "df2['HOME_TEAM'] = encoded_HOME_TEAM\n",
    "\n",
    "label_mapping_HOME_TEAM = {idx: label for idx, label in enumerate(le_HOME_TEAM.classes_)}\n",
    "print(\"Label Mapping:\", label_mapping_HOME_TEAM)"
   ]
  },
  {
   "cell_type": "code",
   "execution_count": 114,
   "metadata": {},
   "outputs": [
    {
     "name": "stdout",
     "output_type": "stream",
     "text": [
      "Label Mapping: {0: 'Babak Rafati', 1: 'Bastian Dankert', 2: 'Benjamin Brand', 3: 'Benjamin Cortus', 4: 'Bibiana Steinhaus-Webb', 5: 'Christian Dingert', 6: 'Daniel Schlager', 7: 'Daniel Siebert', 8: 'Deniz Aytekin', 9: 'Dr. Arne Aarnink', 10: 'Dr. Felix Brych', 11: 'Dr. Franz-Xaver Wack', 12: 'Dr. Helmut Fleischer', 13: 'Dr. Jochen Drees', 14: 'Dr. Markus Merk', 15: 'Dr. Martin Thomsen', 16: 'Dr. Matthias Jöllenbeck', 17: 'Dr. Robert Kampka', 18: 'Dr. Robin Braun', 19: 'Felix Zwayer', 20: 'Florian Badstübner', 21: 'Florian Meyer', 22: 'Frank Willenborg', 23: 'Guido Winkmann', 24: 'Günter Perl', 25: 'Harm Osmers', 26: 'Herbert Fandel', 27: 'Hermann Albrecht', 28: 'Jörg Keßler', 29: 'Jürgen Jansen', 30: 'Knut Kircher', 31: 'Lutz Wagner', 32: 'Lutz-Michael Fröhlich', 33: 'Manuel Gräfe', 34: 'Marc Seemann', 35: 'Marco Fritz', 36: 'Markus Schmidt', 37: 'Markus Wingenbach', 38: 'Martin Petersen', 39: 'Michael Kempter', 40: 'Michael Weiner', 41: 'Patrick Ittrich', 42: 'Peter Gagelmann', 43: 'Peter Sippel', 44: 'Robert Hartmann', 45: 'Robert Schröder', 46: 'Sascha Stegemann', 47: 'Stefan Trautmann', 48: 'Sven Jablonski', 49: 'Sören Storks', 50: 'Thorsten Kinhöfer', 51: 'Timo Gerach', 52: 'Tobias Reichel', 53: 'Tobias Stieler', 54: 'Tobias Welz', 55: 'Uwe Kemmling', 56: 'Wolfgang Stark'}\n"
     ]
    }
   ],
   "source": [
    "le_REFEREE = LabelEncoder()\n",
    "encoded_REFEREE = le_REFEREE.fit_transform(df2['REFEREE'])\n",
    "df2['REFEREE'] = encoded_REFEREE\n",
    "\n",
    "label_mapping_REFEREE = {idx: label for idx, label in enumerate(le_REFEREE.classes_)}\n",
    "print(\"Label Mapping:\", label_mapping_REFEREE)"
   ]
  },
  {
   "cell_type": "code",
   "execution_count": 115,
   "metadata": {},
   "outputs": [
    {
     "name": "stdout",
     "output_type": "stream",
     "text": [
      "Label Mapping: {0: 'AWAY_WIN', 1: 'DRAW', 2: 'HOME_WIN'}\n"
     ]
    }
   ],
   "source": [
    "le_RESULT = LabelEncoder()\n",
    "encoded_RESULT = le_RESULT.fit_transform(df2['RESULT'])\n",
    "df2['RESULT'] = encoded_RESULT\n",
    "\n",
    "label_mapping_RESULT = {idx: label for idx, label in enumerate(le_RESULT.classes_)}\n",
    "print(\"Label Mapping:\", label_mapping_RESULT)"
   ]
  },
  {
   "cell_type": "code",
   "execution_count": 117,
   "metadata": {},
   "outputs": [
    {
     "name": "stdout",
     "output_type": "stream",
     "text": [
      "HOME_TEAM                                2\n",
      "PLACE_HOME_TEAM                          3\n",
      "AWAY_TEAM                               17\n",
      "PLACE_AWAY_TEAM                          2\n",
      "RESULT                                   2\n",
      "REFEREE                                 47\n",
      "HOME_PLAYERS_COUNT                      29\n",
      "HOME_PLAYERS_AVG_AGE                  25.0\n",
      "HOME_LEGIONARIES_COUNT                  14\n",
      "HOME_AVG_MARKET_VALUE            3400000.0\n",
      "HOME_TOTAL_MARKET_VALUE         98480000.0\n",
      "HOME_AVG_AGE_LEAVING                  26.4\n",
      "HOME_TOTAL_VALUE_JOINING_MIO              \n",
      "HOME_TOTAL_VALUE_LEAVING_MIO              \n",
      "HOME_EXPENSES_JOINING_MIO              9.0\n",
      "HOME_REVENUE_LEAVING_MIO              6.45\n",
      "AWAY_PLAYERS_COUNT                      33\n",
      "AWAY_PLAYERS_AVG_AGE                  25.6\n",
      "AWAY_LEGIONARIES_COUNT                  15\n",
      "AWAY_AVG_MARKET_VALUE            2620000.0\n",
      "AWAY_TOTAL_MARKET_VALUE         86330000.0\n",
      "AWAY_AVG_AGE_LEAVING                  27.8\n",
      "AWAY_TOTAL_VALUE_JOINING_MIO              \n",
      "AWAY_TOTAL_VALUE_LEAVING_MIO              \n",
      "AWAY_EXPENSES_JOINING_MIO             4.65\n",
      "AWAY_REVENUE_LEAVING_MIO              0.05\n",
      "Name: 0, dtype: object\n"
     ]
    }
   ],
   "source": [
    "print(df2[object_columns].iloc[0])"
   ]
  },
  {
   "cell_type": "code",
   "execution_count": 118,
   "metadata": {},
   "outputs": [
    {
     "name": "stdout",
     "output_type": "stream",
     "text": [
      "Classes: ['AWAY_WIN' 'DRAW' 'HOME_WIN']\n"
     ]
    }
   ],
   "source": [
    "print(\"Classes:\", le.classes_)"
   ]
  }
 ],
 "metadata": {
  "kernelspec": {
   "display_name": "darts_org",
   "language": "python",
   "name": "python3"
  },
  "language_info": {
   "codemirror_mode": {
    "name": "ipython",
    "version": 3
   },
   "file_extension": ".py",
   "mimetype": "text/x-python",
   "name": "python",
   "nbconvert_exporter": "python",
   "pygments_lexer": "ipython3",
   "version": "3.9.16"
  },
  "orig_nbformat": 4
 },
 "nbformat": 4,
 "nbformat_minor": 2
}
