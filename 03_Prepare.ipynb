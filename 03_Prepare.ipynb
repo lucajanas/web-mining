{
 "cells": [
  {
   "cell_type": "markdown",
   "metadata": {},
   "source": [
    "# Prepare data and convert data types"
   ]
  },
  {
   "cell_type": "code",
   "execution_count": 1,
   "metadata": {},
   "outputs": [],
   "source": [
    "import pandas as pd\n",
    "from sklearn.preprocessing import LabelEncoder"
   ]
  },
  {
   "cell_type": "code",
   "execution_count": 2,
   "metadata": {},
   "outputs": [
    {
     "name": "stdout",
     "output_type": "stream",
     "text": [
      "DATE                            datetime64[ns]\n",
      "WEEKDAY                                  int64\n",
      "MONTH                                    int64\n",
      "SEASON                                   int32\n",
      "MATCHDAY                                 int64\n",
      "HOME_TEAM                               object\n",
      "PLACE_HOME_TEAM                         object\n",
      "AWAY_TEAM                               object\n",
      "PLACE_AWAY_TEAM                         object\n",
      "WIN_PERC_HOME                          float64\n",
      "REMIS_PERC                             float64\n",
      "WIN_PERC_AWAY                          float64\n",
      "HOME_GOALS                             float64\n",
      "AWAY_GOALS                             float64\n",
      "RESULT                                  object\n",
      "REFEREE                                 object\n",
      "HOME_PLAYERS_COUNT                      object\n",
      "HOME_PLAYERS_AVG_AGE                    object\n",
      "HOME_LEGIONARIES_COUNT                  object\n",
      "HOME_AVG_MARKET_VALUE                   object\n",
      "HOME_TOTAL_MARKET_VALUE                 object\n",
      "HOME_AVG_AGE_JOINING                   float64\n",
      "HOME_AVG_AGE_LEAVING                    object\n",
      "HOME_TOTAL_VALUE_JOINING_MIO            object\n",
      "HOME_TOTAL_VALUE_LEAVING_MIO            object\n",
      "HOME_EXPENSES_JOINING_MIO               object\n",
      "HOME_REVENUE_LEAVING_MIO                object\n",
      "AWAY_PLAYERS_COUNT                      object\n",
      "AWAY_PLAYERS_AVG_AGE                    object\n",
      "AWAY_LEGIONARIES_COUNT                  object\n",
      "AWAY_AVG_MARKET_VALUE                   object\n",
      "AWAY_TOTAL_MARKET_VALUE                 object\n",
      "AWAY_AVG_AGE_JOINING                   float64\n",
      "AWAY_AVG_AGE_LEAVING                    object\n",
      "AWAY_TOTAL_VALUE_JOINING_MIO            object\n",
      "AWAY_TOTAL_VALUE_LEAVING_MIO            object\n",
      "AWAY_EXPENSES_JOINING_MIO               object\n",
      "AWAY_REVENUE_LEAVING_MIO                object\n",
      "dtype: object\n"
     ]
    }
   ],
   "source": [
    "df = pd.read_pickle(\"./df_merge_club_transfer_data.pkl\")\n",
    "print(df.dtypes)"
   ]
  },
  {
   "cell_type": "code",
   "execution_count": 3,
   "metadata": {},
   "outputs": [
    {
     "name": "stdout",
     "output_type": "stream",
     "text": [
      "DATE                               0\n",
      "WEEKDAY                            0\n",
      "MONTH                              0\n",
      "SEASON                             0\n",
      "MATCHDAY                           0\n",
      "HOME_TEAM                          0\n",
      "PLACE_HOME_TEAM                    0\n",
      "AWAY_TEAM                          0\n",
      "PLACE_AWAY_TEAM                    0\n",
      "WIN_PERC_HOME                   1530\n",
      "REMIS_PERC                      1530\n",
      "WIN_PERC_AWAY                   1530\n",
      "HOME_GOALS                         0\n",
      "AWAY_GOALS                         0\n",
      "RESULT                             0\n",
      "REFEREE                            0\n",
      "HOME_PLAYERS_COUNT                 0\n",
      "HOME_PLAYERS_AVG_AGE               0\n",
      "HOME_LEGIONARIES_COUNT             0\n",
      "HOME_AVG_MARKET_VALUE              0\n",
      "HOME_TOTAL_MARKET_VALUE            0\n",
      "HOME_AVG_AGE_JOINING               0\n",
      "HOME_AVG_AGE_LEAVING               0\n",
      "HOME_TOTAL_VALUE_JOINING_MIO       0\n",
      "HOME_TOTAL_VALUE_LEAVING_MIO       0\n",
      "HOME_EXPENSES_JOINING_MIO          0\n",
      "HOME_REVENUE_LEAVING_MIO           0\n",
      "AWAY_PLAYERS_COUNT                 0\n",
      "AWAY_PLAYERS_AVG_AGE               0\n",
      "AWAY_LEGIONARIES_COUNT             0\n",
      "AWAY_AVG_MARKET_VALUE              0\n",
      "AWAY_TOTAL_MARKET_VALUE            0\n",
      "AWAY_AVG_AGE_JOINING               0\n",
      "AWAY_AVG_AGE_LEAVING               0\n",
      "AWAY_TOTAL_VALUE_JOINING_MIO       0\n",
      "AWAY_TOTAL_VALUE_LEAVING_MIO       0\n",
      "AWAY_EXPENSES_JOINING_MIO          0\n",
      "AWAY_REVENUE_LEAVING_MIO           0\n",
      "dtype: int64\n",
      "5814\n"
     ]
    }
   ],
   "source": [
    "nan_count = df.isna().sum()\n",
    "print(nan_count)\n",
    "print(len(df))"
   ]
  },
  {
   "cell_type": "markdown",
   "metadata": {},
   "source": [
    "## 1st step of data preparation"
   ]
  },
  {
   "cell_type": "code",
   "execution_count": 4,
   "metadata": {},
   "outputs": [
    {
     "name": "stdout",
     "output_type": "stream",
     "text": [
      "Index(['HOME_TEAM', 'PLACE_HOME_TEAM', 'AWAY_TEAM', 'PLACE_AWAY_TEAM',\n",
      "       'RESULT', 'REFEREE', 'HOME_PLAYERS_COUNT', 'HOME_PLAYERS_AVG_AGE',\n",
      "       'HOME_LEGIONARIES_COUNT', 'HOME_AVG_MARKET_VALUE',\n",
      "       'HOME_TOTAL_MARKET_VALUE', 'HOME_AVG_AGE_LEAVING',\n",
      "       'HOME_TOTAL_VALUE_JOINING_MIO', 'HOME_TOTAL_VALUE_LEAVING_MIO',\n",
      "       'HOME_EXPENSES_JOINING_MIO', 'HOME_REVENUE_LEAVING_MIO',\n",
      "       'AWAY_PLAYERS_COUNT', 'AWAY_PLAYERS_AVG_AGE', 'AWAY_LEGIONARIES_COUNT',\n",
      "       'AWAY_AVG_MARKET_VALUE', 'AWAY_TOTAL_MARKET_VALUE',\n",
      "       'AWAY_AVG_AGE_LEAVING', 'AWAY_TOTAL_VALUE_JOINING_MIO',\n",
      "       'AWAY_TOTAL_VALUE_LEAVING_MIO', 'AWAY_EXPENSES_JOINING_MIO',\n",
      "       'AWAY_REVENUE_LEAVING_MIO'],\n",
      "      dtype='object')\n"
     ]
    }
   ],
   "source": [
    "df1 = df.copy()\n",
    "object_columns = df1.select_dtypes(include=['object']).columns\n",
    "print(object_columns)"
   ]
  },
  {
   "cell_type": "code",
   "execution_count": 5,
   "metadata": {},
   "outputs": [
    {
     "name": "stdout",
     "output_type": "stream",
     "text": [
      "HOME_TEAM                       SV Werder Bremen\n",
      "PLACE_HOME_TEAM                                3\n",
      "AWAY_TEAM                          FC Schalke 04\n",
      "PLACE_AWAY_TEAM                                2\n",
      "RESULT                                  HOME_WIN\n",
      "REFEREE                         Stefan Trautmann\n",
      "HOME_PLAYERS_COUNT                            29\n",
      "HOME_PLAYERS_AVG_AGE                        25,0\n",
      "HOME_LEGIONARIES_COUNT                        14\n",
      "HOME_AVG_MARKET_VALUE                3,40 Mio. €\n",
      "HOME_TOTAL_MARKET_VALUE             98,48 Mio. €\n",
      "HOME_AVG_AGE_LEAVING                        26.4\n",
      "HOME_TOTAL_VALUE_JOINING_MIO                    \n",
      "HOME_TOTAL_VALUE_LEAVING_MIO                    \n",
      "HOME_EXPENSES_JOINING_MIO                    9.0\n",
      "HOME_REVENUE_LEAVING_MIO                    6.45\n",
      "AWAY_PLAYERS_COUNT                            33\n",
      "AWAY_PLAYERS_AVG_AGE                        25,6\n",
      "AWAY_LEGIONARIES_COUNT                        15\n",
      "AWAY_AVG_MARKET_VALUE                2,62 Mio. €\n",
      "AWAY_TOTAL_MARKET_VALUE             86,33 Mio. €\n",
      "AWAY_AVG_AGE_LEAVING                        27.8\n",
      "AWAY_TOTAL_VALUE_JOINING_MIO                    \n",
      "AWAY_TOTAL_VALUE_LEAVING_MIO                    \n",
      "AWAY_EXPENSES_JOINING_MIO                   4.65\n",
      "AWAY_REVENUE_LEAVING_MIO                    0.05\n",
      "Name: 0, dtype: object\n"
     ]
    }
   ],
   "source": [
    "print(df1[object_columns].iloc[0])"
   ]
  },
  {
   "cell_type": "code",
   "execution_count": 6,
   "metadata": {},
   "outputs": [],
   "source": [
    "columns_to_convert = ['PLACE_HOME_TEAM','PLACE_AWAY_TEAM','HOME_PLAYERS_COUNT','HOME_PLAYERS_AVG_AGE','HOME_LEGIONARIES_COUNT',\n",
    "                     'HOME_AVG_AGE_LEAVING', \"HOME_TOTAL_VALUE_JOINING_MIO\", \"HOME_TOTAL_VALUE_LEAVING_MIO\", 'HOME_EXPENSES_JOINING_MIO','HOME_REVENUE_LEAVING_MIO', \n",
    "                     'AWAY_PLAYERS_COUNT','AWAY_PLAYERS_AVG_AGE','AWAY_LEGIONARIES_COUNT','AWAY_AVG_AGE_LEAVING', \"AWAY_TOTAL_VALUE_JOINING_MIO\", \"AWAY_TOTAL_VALUE_LEAVING_MIO\",\n",
    "                     'AWAY_EXPENSES_JOINING_MIO', 'AWAY_REVENUE_LEAVING_MIO']\n",
    "for column in columns_to_convert:\n",
    "    if df1[column].dtype == 'object':  # Nur Spalten vom Typ 'object' verarbeiten\n",
    "        df1[column] = df1[column].astype(str).str.replace(',', '.')\n",
    "        df1[column] = pd.to_numeric(df1[column], errors='coerce')"
   ]
  },
  {
   "cell_type": "code",
   "execution_count": 7,
   "metadata": {},
   "outputs": [
    {
     "name": "stdout",
     "output_type": "stream",
     "text": [
      "DATE                               0\n",
      "WEEKDAY                            0\n",
      "MONTH                              0\n",
      "SEASON                             0\n",
      "MATCHDAY                           0\n",
      "HOME_TEAM                          0\n",
      "PLACE_HOME_TEAM                    0\n",
      "AWAY_TEAM                          0\n",
      "PLACE_AWAY_TEAM                    0\n",
      "WIN_PERC_HOME                   1530\n",
      "REMIS_PERC                      1530\n",
      "WIN_PERC_AWAY                   1530\n",
      "HOME_GOALS                         0\n",
      "AWAY_GOALS                         0\n",
      "RESULT                             0\n",
      "REFEREE                            0\n",
      "HOME_PLAYERS_COUNT                 0\n",
      "HOME_PLAYERS_AVG_AGE               0\n",
      "HOME_LEGIONARIES_COUNT             0\n",
      "HOME_AVG_MARKET_VALUE              0\n",
      "HOME_TOTAL_MARKET_VALUE            0\n",
      "HOME_AVG_AGE_JOINING               0\n",
      "HOME_AVG_AGE_LEAVING               0\n",
      "HOME_TOTAL_VALUE_JOINING_MIO     748\n",
      "HOME_TOTAL_VALUE_LEAVING_MIO    1224\n",
      "HOME_EXPENSES_JOINING_MIO         85\n",
      "HOME_REVENUE_LEAVING_MIO         272\n",
      "AWAY_PLAYERS_COUNT                 0\n",
      "AWAY_PLAYERS_AVG_AGE               0\n",
      "AWAY_LEGIONARIES_COUNT             0\n",
      "AWAY_AVG_MARKET_VALUE              0\n",
      "AWAY_TOTAL_MARKET_VALUE            0\n",
      "AWAY_AVG_AGE_JOINING               0\n",
      "AWAY_AVG_AGE_LEAVING               0\n",
      "AWAY_TOTAL_VALUE_JOINING_MIO     748\n",
      "AWAY_TOTAL_VALUE_LEAVING_MIO    1224\n",
      "AWAY_EXPENSES_JOINING_MIO         85\n",
      "AWAY_REVENUE_LEAVING_MIO         272\n",
      "dtype: int64\n"
     ]
    }
   ],
   "source": [
    "nan_count = df1.isna().sum()\n",
    "print(nan_count)"
   ]
  },
  {
   "cell_type": "code",
   "execution_count": 8,
   "metadata": {},
   "outputs": [
    {
     "name": "stdout",
     "output_type": "stream",
     "text": [
      "5503\n",
      "\n"
     ]
    }
   ],
   "source": [
    "\n",
    "first_nan_index = df1[df1['AWAY_EXPENSES_JOINING_MIO'].isna()].index.max()\n",
    "print(first_nan_index)\n",
    "value = df.loc[first_nan_index, 'AWAY_EXPENSES_JOINING_MIO']\n",
    "print(df.loc[first_nan_index, 'AWAY_EXPENSES_JOINING_MIO'])"
   ]
  },
  {
   "cell_type": "code",
   "execution_count": 9,
   "metadata": {},
   "outputs": [
    {
     "name": "stdout",
     "output_type": "stream",
     "text": [
      "{'Hamburger SV', 'Fortuna Düsseldorf', 'VfL Wolfsburg', 'SC Freiburg', 'VfB Stuttgart', 'TSG 1899 Hoffenheim', 'Hannover 96', 'SV Werder Bremen', 'Hertha BSC', 'FC Augsburg', 'FC Hansa Rostock', 'VfL Bochum', '1.FC Nürnberg', 'Borussia Mönchengladbach', 'FC Schalke 04', 'Alemannia Aachen', 'Bayer 04 Leverkusen', 'SpVgg Greuther Fürth', '1.FC Union Berlin', 'Borussia Dortmund', 'Arminia Bielefeld', 'FC Ingolstadt 04', 'Karlsruher SC', 'RasenBallsport Leipzig', 'MSV Duisburg', 'Eintracht Braunschweig', 'SC Paderborn 07', '1.FSV Mainz 05', 'FC St. Pauli', 'Eintracht Frankfurt', '1.FC Köln', 'FC Energie Cottbus', 'SV Darmstadt 98', '1.FC Kaiserslautern', 'FC Bayern München'}\n"
     ]
    }
   ],
   "source": [
    "# Ein Set für die Teamnamen erstellen\n",
    "unique_teams = set()\n",
    "\n",
    "# Durch alle Zeilen im DataFrame iterieren und die Teamnamen in das Set aufnehmen, falls \"AWAY_EXPENSES_JOINING_MIO\" einen bestimmten Wert hat\n",
    "for index, row in df.iterrows():\n",
    "    if pd.notna(row['AWAY_EXPENSES_JOINING_MIO']):  # pd.notna prüft, ob der Wert nicht NaN ist\n",
    "        unique_teams.add(row['AWAY_TEAM'])\n",
    "\n",
    "# Das Set enthält jetzt die einzigartigen Teamnamen, wo \"AWAY_EXPENSES_JOINING_MIO\" nicht NaN ist\n",
    "print(unique_teams)"
   ]
  },
  {
   "cell_type": "code",
   "execution_count": 10,
   "metadata": {},
   "outputs": [],
   "source": [
    "def convert_market_value(value):\n",
    "    try:\n",
    "        # Entferne Kommas und ersetze sie durch Punkte\n",
    "        value = value.replace(\",\", \".\")\n",
    "        \n",
    "        # Millionen\n",
    "        if \"Mio. €\" in value:\n",
    "            value = value.replace(\"Mio. €\", \"\")\n",
    "            return float(value) * 1e6  # Multipliziere mit 1 Million\n",
    "\n",
    "        # Tausend\n",
    "        elif \"Tsd. €\" in value:\n",
    "            value = value.replace(\"Tsd. €\", \"\")\n",
    "            return float(value) * 1e3  # Multipliziere mit 1 Tausend\n",
    "\n",
    "        else:\n",
    "            return None  # Falls die Konvertierung fehlschlägt, gebe None zurück\n",
    "\n",
    "    except Exception as e:\n",
    "        print(f\"Konvertierungsfehler: {e}, Wert: {value}\")\n",
    "        return None  # Falls die Konvertierung fehlschlägt, gebe None zurück"
   ]
  },
  {
   "cell_type": "code",
   "execution_count": 11,
   "metadata": {},
   "outputs": [
    {
     "name": "stdout",
     "output_type": "stream",
     "text": [
      "DATE                            datetime64[ns]\n",
      "WEEKDAY                                  int64\n",
      "MONTH                                    int64\n",
      "SEASON                                   int32\n",
      "MATCHDAY                                 int64\n",
      "HOME_TEAM                               object\n",
      "PLACE_HOME_TEAM                          int64\n",
      "AWAY_TEAM                               object\n",
      "PLACE_AWAY_TEAM                          int64\n",
      "WIN_PERC_HOME                          float64\n",
      "REMIS_PERC                             float64\n",
      "WIN_PERC_AWAY                          float64\n",
      "HOME_GOALS                             float64\n",
      "AWAY_GOALS                             float64\n",
      "RESULT                                  object\n",
      "REFEREE                                 object\n",
      "HOME_PLAYERS_COUNT                       int64\n",
      "HOME_PLAYERS_AVG_AGE                   float64\n",
      "HOME_LEGIONARIES_COUNT                   int64\n",
      "HOME_AVG_MARKET_VALUE                  float64\n",
      "HOME_TOTAL_MARKET_VALUE                float64\n",
      "HOME_AVG_AGE_JOINING                   float64\n",
      "HOME_AVG_AGE_LEAVING                   float64\n",
      "HOME_TOTAL_VALUE_JOINING_MIO           float64\n",
      "HOME_TOTAL_VALUE_LEAVING_MIO           float64\n",
      "HOME_EXPENSES_JOINING_MIO              float64\n",
      "HOME_REVENUE_LEAVING_MIO               float64\n",
      "AWAY_PLAYERS_COUNT                       int64\n",
      "AWAY_PLAYERS_AVG_AGE                   float64\n",
      "AWAY_LEGIONARIES_COUNT                   int64\n",
      "AWAY_AVG_MARKET_VALUE                  float64\n",
      "AWAY_TOTAL_MARKET_VALUE                float64\n",
      "AWAY_AVG_AGE_JOINING                   float64\n",
      "AWAY_AVG_AGE_LEAVING                   float64\n",
      "AWAY_TOTAL_VALUE_JOINING_MIO           float64\n",
      "AWAY_TOTAL_VALUE_LEAVING_MIO           float64\n",
      "AWAY_EXPENSES_JOINING_MIO              float64\n",
      "AWAY_REVENUE_LEAVING_MIO               float64\n",
      "dtype: object\n"
     ]
    }
   ],
   "source": [
    "df1 = df1.copy()\n",
    "df1['HOME_AVG_MARKET_VALUE'] = df1['HOME_AVG_MARKET_VALUE'].apply(convert_market_value)\n",
    "df1['HOME_TOTAL_MARKET_VALUE'] = df1['HOME_TOTAL_MARKET_VALUE'].apply(convert_market_value)\n",
    "df1['AWAY_AVG_MARKET_VALUE'] = df1['AWAY_AVG_MARKET_VALUE'].apply(convert_market_value)\n",
    "df1['AWAY_TOTAL_MARKET_VALUE'] = df1['AWAY_TOTAL_MARKET_VALUE'].apply(convert_market_value)\n",
    "print(df1.dtypes)"
   ]
  },
  {
   "cell_type": "code",
   "execution_count": 12,
   "metadata": {},
   "outputs": [
    {
     "name": "stdout",
     "output_type": "stream",
     "text": [
      "HOME_TEAM                       SV Werder Bremen\n",
      "PLACE_HOME_TEAM                                3\n",
      "AWAY_TEAM                          FC Schalke 04\n",
      "PLACE_AWAY_TEAM                                2\n",
      "RESULT                                  HOME_WIN\n",
      "REFEREE                         Stefan Trautmann\n",
      "HOME_PLAYERS_COUNT                            29\n",
      "HOME_PLAYERS_AVG_AGE                        25.0\n",
      "HOME_LEGIONARIES_COUNT                        14\n",
      "HOME_AVG_MARKET_VALUE                  3400000.0\n",
      "HOME_TOTAL_MARKET_VALUE               98480000.0\n",
      "HOME_AVG_AGE_LEAVING                        26.4\n",
      "HOME_TOTAL_VALUE_JOINING_MIO                 NaN\n",
      "HOME_TOTAL_VALUE_LEAVING_MIO                 NaN\n",
      "HOME_EXPENSES_JOINING_MIO                    9.0\n",
      "HOME_REVENUE_LEAVING_MIO                    6.45\n",
      "AWAY_PLAYERS_COUNT                            33\n",
      "AWAY_PLAYERS_AVG_AGE                        25.6\n",
      "AWAY_LEGIONARIES_COUNT                        15\n",
      "AWAY_AVG_MARKET_VALUE                  2620000.0\n",
      "AWAY_TOTAL_MARKET_VALUE               86330000.0\n",
      "AWAY_AVG_AGE_LEAVING                        27.8\n",
      "AWAY_TOTAL_VALUE_JOINING_MIO                 NaN\n",
      "AWAY_TOTAL_VALUE_LEAVING_MIO                 NaN\n",
      "AWAY_EXPENSES_JOINING_MIO                   4.65\n",
      "AWAY_REVENUE_LEAVING_MIO                    0.05\n",
      "Name: 0, dtype: object\n"
     ]
    }
   ],
   "source": [
    "print(df1[object_columns].iloc[0])"
   ]
  },
  {
   "cell_type": "code",
   "execution_count": 13,
   "metadata": {},
   "outputs": [
    {
     "name": "stdout",
     "output_type": "stream",
     "text": [
      "DATE                               0\n",
      "WEEKDAY                            0\n",
      "MONTH                              0\n",
      "SEASON                             0\n",
      "MATCHDAY                           0\n",
      "HOME_TEAM                          0\n",
      "PLACE_HOME_TEAM                    0\n",
      "AWAY_TEAM                          0\n",
      "PLACE_AWAY_TEAM                    0\n",
      "WIN_PERC_HOME                   1530\n",
      "REMIS_PERC                      1530\n",
      "WIN_PERC_AWAY                   1530\n",
      "HOME_GOALS                         0\n",
      "AWAY_GOALS                         0\n",
      "RESULT                             0\n",
      "REFEREE                            0\n",
      "HOME_PLAYERS_COUNT                 0\n",
      "HOME_PLAYERS_AVG_AGE               0\n",
      "HOME_LEGIONARIES_COUNT             0\n",
      "HOME_AVG_MARKET_VALUE              0\n",
      "HOME_TOTAL_MARKET_VALUE            0\n",
      "HOME_AVG_AGE_JOINING               0\n",
      "HOME_AVG_AGE_LEAVING               0\n",
      "HOME_TOTAL_VALUE_JOINING_MIO     748\n",
      "HOME_TOTAL_VALUE_LEAVING_MIO    1224\n",
      "HOME_EXPENSES_JOINING_MIO         85\n",
      "HOME_REVENUE_LEAVING_MIO         272\n",
      "AWAY_PLAYERS_COUNT                 0\n",
      "AWAY_PLAYERS_AVG_AGE               0\n",
      "AWAY_LEGIONARIES_COUNT             0\n",
      "AWAY_AVG_MARKET_VALUE              0\n",
      "AWAY_TOTAL_MARKET_VALUE            0\n",
      "AWAY_AVG_AGE_JOINING               0\n",
      "AWAY_AVG_AGE_LEAVING               0\n",
      "AWAY_TOTAL_VALUE_JOINING_MIO     748\n",
      "AWAY_TOTAL_VALUE_LEAVING_MIO    1224\n",
      "AWAY_EXPENSES_JOINING_MIO         85\n",
      "AWAY_REVENUE_LEAVING_MIO         272\n",
      "dtype: int64\n"
     ]
    }
   ],
   "source": [
    "nan_count = df1.isna().sum()\n",
    "print(nan_count)"
   ]
  },
  {
   "cell_type": "code",
   "execution_count": 14,
   "metadata": {},
   "outputs": [],
   "source": [
    "df1.to_pickle(\"df_merge_club_transfer_data_prep1.pkl\")"
   ]
  }
 ],
 "metadata": {
  "kernelspec": {
   "display_name": "darts_org",
   "language": "python",
   "name": "python3"
  },
  "language_info": {
   "codemirror_mode": {
    "name": "ipython",
    "version": 3
   },
   "file_extension": ".py",
   "mimetype": "text/x-python",
   "name": "python",
   "nbconvert_exporter": "python",
   "pygments_lexer": "ipython3",
   "version": "3.9.16"
  },
  "orig_nbformat": 4
 },
 "nbformat": 4,
 "nbformat_minor": 2
}
