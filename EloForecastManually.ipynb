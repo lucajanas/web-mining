{
 "cells": [
  {
   "cell_type": "markdown",
   "metadata": {},
   "source": [
    "# Elo forecast"
   ]
  },
  {
   "cell_type": "code",
   "execution_count": 6,
   "metadata": {},
   "outputs": [],
   "source": [
    "import pandas as pd\n",
    "import os\n",
    "PATH_ELO_CLUBS = 'data/elo/elo-clubs'\n",
    "country = 'GER'\n",
    "dir_path = f'{PATH_ELO_CLUBS}/{country}'"
   ]
  },
  {
   "cell_type": "markdown",
   "metadata": {},
   "source": [
    "### Select manually club1, club2, the date of the match and the home team"
   ]
  },
  {
   "cell_type": "code",
   "execution_count": 7,
   "metadata": {},
   "outputs": [],
   "source": [
    "club1 = 'Bayern'    # <= Select here club 1\n",
    "club2 = 'Gladbach'  # <= Select here club 2\n",
    "match_date = pd.to_datetime('2005-08-05') # <= Select here match date\n",
    "home_team = 1      # <= set the home team"
   ]
  },
  {
   "cell_type": "code",
   "execution_count": 8,
   "metadata": {},
   "outputs": [],
   "source": [
    "# download elo scores\n",
    "df1 = pd.read_csv(f'{dir_path}/{club1}.csv')\n",
    "df2 = pd.read_csv(f'{dir_path}/{club2}.csv')"
   ]
  },
  {
   "cell_type": "code",
   "execution_count": 9,
   "metadata": {},
   "outputs": [
    {
     "data": {
      "text/html": [
       "<div>\n",
       "<style scoped>\n",
       "    .dataframe tbody tr th:only-of-type {\n",
       "        vertical-align: middle;\n",
       "    }\n",
       "\n",
       "    .dataframe tbody tr th {\n",
       "        vertical-align: top;\n",
       "    }\n",
       "\n",
       "    .dataframe thead th {\n",
       "        text-align: right;\n",
       "    }\n",
       "</style>\n",
       "<table border=\"1\" class=\"dataframe\">\n",
       "  <thead>\n",
       "    <tr style=\"text-align: right;\">\n",
       "      <th></th>\n",
       "      <th>Unnamed: 0</th>\n",
       "      <th>Rank</th>\n",
       "      <th>Club</th>\n",
       "      <th>Country</th>\n",
       "      <th>Level</th>\n",
       "      <th>Elo</th>\n",
       "      <th>From</th>\n",
       "      <th>To</th>\n",
       "    </tr>\n",
       "  </thead>\n",
       "  <tbody>\n",
       "    <tr>\n",
       "      <th>0</th>\n",
       "      <td>3238</td>\n",
       "      <td>10</td>\n",
       "      <td>Bayern</td>\n",
       "      <td>GER</td>\n",
       "      <td>1</td>\n",
       "      <td>1838.988403</td>\n",
       "      <td>2004-01-12</td>\n",
       "      <td>2004-01-31</td>\n",
       "    </tr>\n",
       "    <tr>\n",
       "      <th>1</th>\n",
       "      <td>3239</td>\n",
       "      <td>9</td>\n",
       "      <td>Bayern</td>\n",
       "      <td>GER</td>\n",
       "      <td>1</td>\n",
       "      <td>1833.371338</td>\n",
       "      <td>2004-02-01</td>\n",
       "      <td>2004-02-01</td>\n",
       "    </tr>\n",
       "    <tr>\n",
       "      <th>2</th>\n",
       "      <td>3240</td>\n",
       "      <td>11</td>\n",
       "      <td>Bayern</td>\n",
       "      <td>GER</td>\n",
       "      <td>1</td>\n",
       "      <td>1833.371338</td>\n",
       "      <td>2004-02-02</td>\n",
       "      <td>2004-02-08</td>\n",
       "    </tr>\n",
       "    <tr>\n",
       "      <th>3</th>\n",
       "      <td>3241</td>\n",
       "      <td>12</td>\n",
       "      <td>Bayern</td>\n",
       "      <td>GER</td>\n",
       "      <td>1</td>\n",
       "      <td>1836.353882</td>\n",
       "      <td>2004-02-09</td>\n",
       "      <td>2004-02-14</td>\n",
       "    </tr>\n",
       "    <tr>\n",
       "      <th>4</th>\n",
       "      <td>3242</td>\n",
       "      <td>12</td>\n",
       "      <td>Bayern</td>\n",
       "      <td>GER</td>\n",
       "      <td>1</td>\n",
       "      <td>1826.195312</td>\n",
       "      <td>2004-02-15</td>\n",
       "      <td>2004-02-21</td>\n",
       "    </tr>\n",
       "    <tr>\n",
       "      <th>...</th>\n",
       "      <td>...</td>\n",
       "      <td>...</td>\n",
       "      <td>...</td>\n",
       "      <td>...</td>\n",
       "      <td>...</td>\n",
       "      <td>...</td>\n",
       "      <td>...</td>\n",
       "      <td>...</td>\n",
       "    </tr>\n",
       "    <tr>\n",
       "      <th>1570</th>\n",
       "      <td>4808</td>\n",
       "      <td>3</td>\n",
       "      <td>Bayern</td>\n",
       "      <td>GER</td>\n",
       "      <td>1</td>\n",
       "      <td>1935.604126</td>\n",
       "      <td>2023-05-28</td>\n",
       "      <td>2023-08-18</td>\n",
       "    </tr>\n",
       "    <tr>\n",
       "      <th>1571</th>\n",
       "      <td>4809</td>\n",
       "      <td>3</td>\n",
       "      <td>Bayern</td>\n",
       "      <td>GER</td>\n",
       "      <td>1</td>\n",
       "      <td>1940.378906</td>\n",
       "      <td>2023-08-19</td>\n",
       "      <td>2023-08-27</td>\n",
       "    </tr>\n",
       "    <tr>\n",
       "      <th>1572</th>\n",
       "      <td>4810</td>\n",
       "      <td>3</td>\n",
       "      <td>Bayern</td>\n",
       "      <td>GER</td>\n",
       "      <td>1</td>\n",
       "      <td>1940.378906</td>\n",
       "      <td>2023-08-28</td>\n",
       "      <td>2023-09-02</td>\n",
       "    </tr>\n",
       "    <tr>\n",
       "      <th>1573</th>\n",
       "      <td>4811</td>\n",
       "      <td>3</td>\n",
       "      <td>Bayern</td>\n",
       "      <td>GER</td>\n",
       "      <td>1</td>\n",
       "      <td>1940.378906</td>\n",
       "      <td>2023-09-03</td>\n",
       "      <td>2023-09-03</td>\n",
       "    </tr>\n",
       "    <tr>\n",
       "      <th>1574</th>\n",
       "      <td>4812</td>\n",
       "      <td>3</td>\n",
       "      <td>Bayern</td>\n",
       "      <td>GER</td>\n",
       "      <td>1</td>\n",
       "      <td>1940.378906</td>\n",
       "      <td>2023-09-04</td>\n",
       "      <td>2023-12-31</td>\n",
       "    </tr>\n",
       "  </tbody>\n",
       "</table>\n",
       "<p>1575 rows × 8 columns</p>\n",
       "</div>"
      ],
      "text/plain": [
       "      Unnamed: 0  Rank    Club Country  Level          Elo        From  \\\n",
       "0           3238    10  Bayern     GER      1  1838.988403  2004-01-12   \n",
       "1           3239     9  Bayern     GER      1  1833.371338  2004-02-01   \n",
       "2           3240    11  Bayern     GER      1  1833.371338  2004-02-02   \n",
       "3           3241    12  Bayern     GER      1  1836.353882  2004-02-09   \n",
       "4           3242    12  Bayern     GER      1  1826.195312  2004-02-15   \n",
       "...          ...   ...     ...     ...    ...          ...         ...   \n",
       "1570        4808     3  Bayern     GER      1  1935.604126  2023-05-28   \n",
       "1571        4809     3  Bayern     GER      1  1940.378906  2023-08-19   \n",
       "1572        4810     3  Bayern     GER      1  1940.378906  2023-08-28   \n",
       "1573        4811     3  Bayern     GER      1  1940.378906  2023-09-03   \n",
       "1574        4812     3  Bayern     GER      1  1940.378906  2023-09-04   \n",
       "\n",
       "              To  \n",
       "0     2004-01-31  \n",
       "1     2004-02-01  \n",
       "2     2004-02-08  \n",
       "3     2004-02-14  \n",
       "4     2004-02-21  \n",
       "...          ...  \n",
       "1570  2023-08-18  \n",
       "1571  2023-08-27  \n",
       "1572  2023-09-02  \n",
       "1573  2023-09-03  \n",
       "1574  2023-12-31  \n",
       "\n",
       "[1575 rows x 8 columns]"
      ]
     },
     "execution_count": 9,
     "metadata": {},
     "output_type": "execute_result"
    }
   ],
   "source": [
    "df1"
   ]
  },
  {
   "cell_type": "code",
   "execution_count": 10,
   "metadata": {},
   "outputs": [
    {
     "name": "stdout",
     "output_type": "stream",
     "text": [
      "     Unnamed: 0  Rank    Club Country  Level         Elo       From         To\n",
      "120        3358     8  Bayern     GER      1  1865.66394 2005-07-29 2005-08-05\n",
      "\n",
      "\n",
      "     Unnamed: 0 Rank      Club Country  Level          Elo       From  \\\n",
      "120        3690   93  Gladbach     GER      1  1637.013916 2005-07-29   \n",
      "\n",
      "            To  \n",
      "120 2005-08-05  \n"
     ]
    }
   ],
   "source": [
    "df1['From'] = pd.to_datetime(df1['From'])\n",
    "df1['To'] = pd.to_datetime(df1['To'])\n",
    "df2['From'] = pd.to_datetime(df1['From'])\n",
    "df2['To'] = pd.to_datetime(df1['To'])\n",
    "\n",
    "df_club1= df1[(df1['From'] <= match_date) & (df1['To'] >= match_date)]\n",
    "df_club2= df2[(df2['From'] <= match_date) & (df2['To'] >= match_date)]\n",
    "\n",
    "print(df_club1)\n",
    "print('')\n",
    "print('')\n",
    "print(df_club2)\n",
    "\n",
    "elo1 = df_club1['Elo'].values[0]\n",
    "elo2 = df_club2['Elo'].values[0]\n"
   ]
  },
  {
   "cell_type": "code",
   "execution_count": 11,
   "metadata": {},
   "outputs": [
    {
     "name": "stdout",
     "output_type": "stream",
     "text": [
      "1865.66394043\n",
      "1637.01391602\n"
     ]
    }
   ],
   "source": [
    "print(elo1)\n",
    "print(elo2)"
   ]
  },
  {
   "cell_type": "markdown",
   "metadata": {},
   "source": [
    "### Calculate the expected result based on elo score from club1 perspective\n",
    "\n",
    "https://de.wikipedia.org/wiki/World_Football_Elo_Ratings"
   ]
  },
  {
   "cell_type": "markdown",
   "metadata": {},
   "source": [
    "$W_e$ is always larger than 0 and smaller than 1. The limiting cases 0 would correspond to a defeat expected as certain, 1 to a victory expected as certain."
   ]
  },
  {
   "cell_type": "code",
   "execution_count": 12,
   "metadata": {},
   "outputs": [],
   "source": [
    "dr = elo1 - elo2\n",
    "if home_team == 1:\n",
    "    dr+=100\n",
    "else:\n",
    "    dr-=100"
   ]
  },
  {
   "cell_type": "code",
   "execution_count": 13,
   "metadata": {},
   "outputs": [
    {
     "data": {
      "text/plain": [
       "0.868967645326058"
      ]
     },
     "execution_count": 13,
     "metadata": {},
     "output_type": "execute_result"
    }
   ],
   "source": [
    "w_e = 1 / (pow(10, -dr / 400) + 1)\n",
    "w_e"
   ]
  }
 ],
 "metadata": {
  "kernelspec": {
   "display_name": "darts_org",
   "language": "python",
   "name": "python3"
  },
  "language_info": {
   "codemirror_mode": {
    "name": "ipython",
    "version": 3
   },
   "file_extension": ".py",
   "mimetype": "text/x-python",
   "name": "python",
   "nbconvert_exporter": "python",
   "pygments_lexer": "ipython3",
   "version": "3.9.16"
  },
  "orig_nbformat": 4
 },
 "nbformat": 4,
 "nbformat_minor": 2
}
