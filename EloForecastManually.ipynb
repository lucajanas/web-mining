{
 "cells": [
  {
   "cell_type": "markdown",
   "metadata": {},
   "source": [
    "# Elo forecast"
   ]
  },
  {
   "cell_type": "code",
   "execution_count": null,
   "metadata": {},
   "outputs": [],
   "source": [
    "import pandas as pd\n",
    "import os\n",
    "PATH_ELO_CLUBS = 'data/elo/elo-clubs'\n",
    "country = 'GER'\n",
    "dir_path = f'{PATH_ELO_CLUBS}/{country}'"
   ]
  },
  {
   "cell_type": "markdown",
   "metadata": {},
   "source": [
    "### Select manually club1, club2, the date of the match and the home team"
   ]
  },
  {
   "cell_type": "code",
   "execution_count": 32,
   "metadata": {},
   "outputs": [],
   "source": [
    "club1 = 'Bayern'    # <= Select here club 1\n",
    "club2 = 'Gladbach'  # <= Select here club 2\n",
    "match_date = pd.to_datetime('2005-08-05') # <= Select here match date\n",
    "home_team = 1      # <= set the home team"
   ]
  },
  {
   "cell_type": "code",
   "execution_count": 12,
   "metadata": {},
   "outputs": [],
   "source": [
    "# download elo scores\n",
    "df1 = pd.read_csv(f'{dir_path}/{club1}.csv')\n",
    "df2 = pd.read_csv(f'{dir_path}/{club2}.csv')"
   ]
  },
  {
   "cell_type": "code",
   "execution_count": 19,
   "metadata": {},
   "outputs": [
    {
     "name": "stdout",
     "output_type": "stream",
     "text": [
      "    Unnamed: 0  Rank    Club Country  Level         Elo       From         To\n",
      "35        3358     8  Bayern     GER      1  1865.66394 2005-07-29 2005-08-05\n",
      "    Unnamed: 0  Rank      Club Country  Level          Elo       From  \\\n",
      "35        3666  None  Gladbach     GER      1  1608.206787 2005-07-29   \n",
      "\n",
      "           To  \n",
      "35 2005-08-05  \n"
     ]
    }
   ],
   "source": [
    "df1['From'] = pd.to_datetime(df1['From'])\n",
    "df1['To'] = pd.to_datetime(df1['To'])\n",
    "df2['From'] = pd.to_datetime(df1['From'])\n",
    "df2['To'] = pd.to_datetime(df1['To'])\n",
    "\n",
    "df_club1= df1[(df1['From'] <= match_date) & (df1['To'] >= match_date)]\n",
    "df_club2= df2[(df2['From'] <= match_date) & (df2['To'] >= match_date)]\n",
    "\n",
    "# print(df_club1)\n",
    "# print(df_club2)\n",
    "\n",
    "elo1 = df_club1['Elo'].values[0]\n",
    "elo2 = df_club2['Elo'].values[0]\n"
   ]
  },
  {
   "cell_type": "code",
   "execution_count": 20,
   "metadata": {},
   "outputs": [
    {
     "name": "stdout",
     "output_type": "stream",
     "text": [
      "1865.66394043\n",
      "1608.20678711\n"
     ]
    }
   ],
   "source": [
    "print(elo1)\n",
    "print(elo2)"
   ]
  },
  {
   "cell_type": "markdown",
   "metadata": {},
   "source": [
    "### Calculate the expected result based on elo score from club1 perspective\n",
    "\n",
    "https://de.wikipedia.org/wiki/World_Football_Elo_Ratings"
   ]
  },
  {
   "cell_type": "markdown",
   "metadata": {},
   "source": [
    "$W_e$ is always larger than 0 and smaller than 1. The limiting cases 0 would correspond to a defeat expected as certain, 1 to a victory expected as certain."
   ]
  },
  {
   "cell_type": "code",
   "execution_count": 35,
   "metadata": {},
   "outputs": [],
   "source": [
    "dr = elo1 - elo2\n",
    "if home_team == 1:\n",
    "    dr+=100\n",
    "else:\n",
    "    dr-=100"
   ]
  },
  {
   "cell_type": "code",
   "execution_count": 36,
   "metadata": {},
   "outputs": [
    {
     "data": {
      "text/plain": [
       "0.8867222248778812"
      ]
     },
     "execution_count": 36,
     "metadata": {},
     "output_type": "execute_result"
    }
   ],
   "source": [
    "w_e = 1 / (pow(10, -dr / 400) + 1)\n",
    "w_e"
   ]
  }
 ],
 "metadata": {
  "kernelspec": {
   "display_name": "darts_org",
   "language": "python",
   "name": "python3"
  },
  "language_info": {
   "codemirror_mode": {
    "name": "ipython",
    "version": 3
   },
   "file_extension": ".py",
   "mimetype": "text/x-python",
   "name": "python",
   "nbconvert_exporter": "python",
   "pygments_lexer": "ipython3",
   "version": "3.9.16"
  },
  "orig_nbformat": 4
 },
 "nbformat": 4,
 "nbformat_minor": 2
}
