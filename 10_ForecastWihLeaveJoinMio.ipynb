{
 "cells": [
  {
   "cell_type": "code",
   "execution_count": 1,
   "metadata": {},
   "outputs": [],
   "source": [
    "import helpers\n",
    "import pandas as pd\n",
    "from sklearn.preprocessing import LabelEncoder\n",
    "from sklearn.model_selection import train_test_split\n",
    "from sklearn.ensemble import RandomForestClassifier\n",
    "from xgboost import XGBClassifier\n",
    "from sklearn.metrics import classification_report, accuracy_score,  balanced_accuracy_score\n",
    "from sklearn.metrics import confusion_matrix\n",
    "import numpy as np\n",
    "import matplotlib.pyplot as plt\n",
    "from skopt import BayesSearchCV\n",
    "from skopt.space import Integer\n",
    "from skopt.space import Categorical\n",
    "from skopt.space import Real\n",
    "import warnings\n",
    "import json\n",
    "warnings.filterwarnings(\"ignore\", category=DeprecationWarning)\n",
    "'''\n",
    "In dem Notebook werden noch die Merkmale \"HOME_TOTAL_VALUE_JOINING_MIO\", \"HOME_TOTAL_VALUE_LEAVING_MIO\" \n",
    "\"AWAY_TOTAL_VALUE_JOINING_MIO\", \"AWAY_TOTAL_VALUE_LEAVING_MIO\" mit einbezogen. Die Merkmale stehen erst zu \n",
    "einem spätern Zeitpunkt zur Verfügung. Die Ergebnisse sind vergleichbar mit dem Notebook \"06_Forecast.ipynb\"\n",
    "und führen zu keinen wesentlichen Verbesserungen.\n",
    "'''"
   ]
  },
  {
   "cell_type": "code",
   "execution_count": 2,
   "metadata": {},
   "outputs": [],
   "source": [
    "df = pd.read_pickle(\"./data/df_merge_club_transfer_data.pkl\")\n",
    "df1 = pd.read_pickle(\"./data/df_merge_club_transfer_data_with_leave_join_mio_prep1.pkl\")\n",
    "object_columns = df.select_dtypes(include=['object']).columns\n",
    "RANDOM_STATE = 42\n",
    "TEST_SIZE_PERCENT = 0.2"
   ]
  },
  {
   "cell_type": "code",
   "execution_count": 3,
   "metadata": {},
   "outputs": [],
   "source": [
    "df2 = df1.copy()"
   ]
  },
  {
   "cell_type": "code",
   "execution_count": 4,
   "metadata": {},
   "outputs": [
    {
     "name": "stdout",
     "output_type": "stream",
     "text": [
      "Label Mapping: {0: '1.FC Kaiserslautern', 1: '1.FC Köln', 2: '1.FC Nürnberg', 3: '1.FC Union Berlin', 4: '1.FSV Mainz 05', 5: 'Arminia Bielefeld', 6: 'Bayer 04 Leverkusen', 7: 'Borussia Dortmund', 8: 'Borussia Mönchengladbach', 9: 'Eintracht Frankfurt', 10: 'FC Augsburg', 11: 'FC Bayern München', 12: 'FC Energie Cottbus', 13: 'FC Ingolstadt 04', 14: 'FC Schalke 04', 15: 'Fortuna Düsseldorf', 16: 'Hamburger SV', 17: 'Hannover 96', 18: 'Hertha BSC', 19: 'RasenBallsport Leipzig', 20: 'SC Freiburg', 21: 'SC Paderborn 07', 22: 'SV Darmstadt 98', 23: 'SV Werder Bremen', 24: 'SpVgg Greuther Fürth', 25: 'TSG 1899 Hoffenheim', 26: 'VfB Stuttgart', 27: 'VfL Bochum', 28: 'VfL Wolfsburg'}\n"
     ]
    }
   ],
   "source": [
    "# Kombinieren die Werte beider Spalten in eine Serie\n",
    "combined_teams = pd.concat([df2['HOME_TEAM'], df2['AWAY_TEAM']])\n",
    "\n",
    "# Initialisieren und anpassen Sie den LabelEncoder\n",
    "le_teams = LabelEncoder()\n",
    "le_teams.fit(combined_teams)\n",
    "\n",
    "# Codieren Sie die 'HOME_TEAM' und 'AWAY_TEAM' Spalten\n",
    "df2['HOME_TEAM'] = le_teams.transform(df2['HOME_TEAM'])\n",
    "df2['AWAY_TEAM'] = le_teams.transform(df2['AWAY_TEAM'])\n",
    "\n",
    "# Erstellen ein Mapping-Dictionary für die Decodierung\n",
    "label_mapping_TEAM = {idx: label for idx, label in enumerate(le_teams.classes_)}\n",
    "\n",
    "print(\"Label Mapping:\", label_mapping_TEAM)"
   ]
  },
  {
   "cell_type": "code",
   "execution_count": 5,
   "metadata": {},
   "outputs": [
    {
     "name": "stdout",
     "output_type": "stream",
     "text": [
      "Label Mapping: {0: 'Babak Rafati', 1: 'Bastian Dankert', 2: 'Benjamin Brand', 3: 'Benjamin Cortus', 4: 'Bibiana Steinhaus-Webb', 5: 'Christian Dingert', 6: 'Daniel Schlager', 7: 'Daniel Siebert', 8: 'Deniz Aytekin', 9: 'Dr. Arne Aarnink', 10: 'Dr. Felix Brych', 11: 'Dr. Helmut Fleischer', 12: 'Dr. Jochen Drees', 13: 'Dr. Markus Merk', 14: 'Dr. Martin Thomsen', 15: 'Dr. Matthias Jöllenbeck', 16: 'Dr. Robert Kampka', 17: 'Dr. Robin Braun', 18: 'Felix Zwayer', 19: 'Florian Badstübner', 20: 'Florian Meyer', 21: 'Frank Willenborg', 22: 'Guido Winkmann', 23: 'Günter Perl', 24: 'Harm Osmers', 25: 'Herbert Fandel', 26: 'Knut Kircher', 27: 'Lutz Wagner', 28: 'Manuel Gräfe', 29: 'Marc Seemann', 30: 'Marco Fritz', 31: 'Markus Schmidt', 32: 'Markus Wingenbach', 33: 'Martin Petersen', 34: 'Michael Kempter', 35: 'Michael Weiner', 36: 'Patrick Ittrich', 37: 'Peter Gagelmann', 38: 'Peter Sippel', 39: 'Robert Hartmann', 40: 'Robert Schröder', 41: 'Sascha Stegemann', 42: 'Sven Jablonski', 43: 'Sören Storks', 44: 'Thorsten Kinhöfer', 45: 'Timo Gerach', 46: 'Tobias Reichel', 47: 'Tobias Stieler', 48: 'Tobias Welz', 49: 'Wolfgang Stark'}\n"
     ]
    }
   ],
   "source": [
    "le_REFEREE = LabelEncoder()\n",
    "encoded_REFEREE = le_REFEREE.fit_transform(df2['REFEREE'])\n",
    "df2['REFEREE'] = encoded_REFEREE\n",
    "\n",
    "label_mapping_REFEREE = {idx: label for idx, label in enumerate(le_REFEREE.classes_)}\n",
    "print(\"Label Mapping:\", label_mapping_REFEREE)"
   ]
  },
  {
   "cell_type": "code",
   "execution_count": 6,
   "metadata": {},
   "outputs": [
    {
     "name": "stdout",
     "output_type": "stream",
     "text": [
      "Label Mapping: {0: 'AWAY_WIN', 1: 'DRAW', 2: 'HOME_WIN'}\n"
     ]
    }
   ],
   "source": [
    "le_RESULT = LabelEncoder()\n",
    "encoded_RESULT = le_RESULT.fit_transform(df2['RESULT'])\n",
    "df2['RESULT'] = encoded_RESULT\n",
    "\n",
    "label_mapping_RESULT = {idx: label for idx, label in enumerate(le_RESULT.classes_)}\n",
    "print(\"Label Mapping:\", label_mapping_RESULT)"
   ]
  },
  {
   "cell_type": "code",
   "execution_count": 7,
   "metadata": {},
   "outputs": [
    {
     "name": "stdout",
     "output_type": "stream",
     "text": [
      "HOME_TEAM                       1.800000e+01\n",
      "PLACE_HOME_TEAM                 1.400000e+01\n",
      "AWAY_TEAM                       2.600000e+01\n",
      "PLACE_AWAY_TEAM                 8.000000e+00\n",
      "RESULT                          2.000000e+00\n",
      "REFEREE                         4.400000e+01\n",
      "HOME_PLAYERS_COUNT              3.600000e+01\n",
      "HOME_PLAYERS_AVG_AGE            2.450000e+01\n",
      "HOME_LEGIONARIES_COUNT          2.200000e+01\n",
      "HOME_AVG_MARKET_VALUE           2.250000e+06\n",
      "HOME_TOTAL_MARKET_VALUE         8.100000e+07\n",
      "HOME_AVG_AGE_LEAVING            2.490000e+01\n",
      "HOME_TOTAL_VALUE_JOINING_MIO    2.250000e-01\n",
      "HOME_TOTAL_VALUE_LEAVING_MIO    8.750000e-01\n",
      "HOME_EXPENSES_JOINING_MIO       1.735000e+01\n",
      "HOME_REVENUE_LEAVING_MIO        1.880000e+01\n",
      "AWAY_PLAYERS_COUNT              3.500000e+01\n",
      "AWAY_PLAYERS_AVG_AGE            2.490000e+01\n",
      "AWAY_LEGIONARIES_COUNT          1.700000e+01\n",
      "AWAY_AVG_MARKET_VALUE           3.110000e+06\n",
      "AWAY_TOTAL_MARKET_VALUE         1.088500e+08\n",
      "AWAY_AVG_AGE_LEAVING            2.610000e+01\n",
      "AWAY_TOTAL_VALUE_JOINING_MIO    1.030000e+00\n",
      "AWAY_TOTAL_VALUE_LEAVING_MIO    3.750000e-01\n",
      "AWAY_EXPENSES_JOINING_MIO       1.070000e+01\n",
      "AWAY_REVENUE_LEAVING_MIO        3.700000e+00\n",
      "Name: 930, dtype: float64\n"
     ]
    }
   ],
   "source": [
    "print(df2[object_columns].iloc[0])"
   ]
  },
  {
   "cell_type": "code",
   "execution_count": 8,
   "metadata": {},
   "outputs": [
    {
     "name": "stdout",
     "output_type": "stream",
     "text": [
      "DATE                             0\n",
      "WEEKDAY                          0\n",
      "MONTH                            0\n",
      "SEASON                           0\n",
      "MATCHDAY                         0\n",
      "HOME_TEAM                        0\n",
      "PLACE_HOME_TEAM                  0\n",
      "AWAY_TEAM                        0\n",
      "PLACE_AWAY_TEAM                  0\n",
      "WIN_PERC_HOME                   92\n",
      "REMIS_PERC                      92\n",
      "WIN_PERC_AWAY                   92\n",
      "HOME_GOALS                       0\n",
      "AWAY_GOALS                       0\n",
      "RESULT                           0\n",
      "REFEREE                          0\n",
      "HOME_PLAYERS_COUNT               0\n",
      "HOME_PLAYERS_AVG_AGE             0\n",
      "HOME_LEGIONARIES_COUNT           0\n",
      "HOME_AVG_MARKET_VALUE            0\n",
      "HOME_TOTAL_MARKET_VALUE          0\n",
      "HOME_AVG_AGE_JOINING             0\n",
      "HOME_AVG_AGE_LEAVING             0\n",
      "HOME_TOTAL_VALUE_JOINING_MIO     0\n",
      "HOME_TOTAL_VALUE_LEAVING_MIO     0\n",
      "HOME_EXPENSES_JOINING_MIO        0\n",
      "HOME_REVENUE_LEAVING_MIO         0\n",
      "AWAY_PLAYERS_COUNT               0\n",
      "AWAY_PLAYERS_AVG_AGE             0\n",
      "AWAY_LEGIONARIES_COUNT           0\n",
      "AWAY_AVG_MARKET_VALUE            0\n",
      "AWAY_TOTAL_MARKET_VALUE          0\n",
      "AWAY_AVG_AGE_JOINING             0\n",
      "AWAY_AVG_AGE_LEAVING             0\n",
      "AWAY_TOTAL_VALUE_JOINING_MIO     0\n",
      "AWAY_TOTAL_VALUE_LEAVING_MIO     0\n",
      "AWAY_EXPENSES_JOINING_MIO        0\n",
      "AWAY_REVENUE_LEAVING_MIO         0\n",
      "dtype: int64\n",
      "5814\n"
     ]
    }
   ],
   "source": [
    "nan_count = df2.isna().sum()\n",
    "print(nan_count)\n",
    "print(len(df))"
   ]
  },
  {
   "cell_type": "code",
   "execution_count": 9,
   "metadata": {},
   "outputs": [],
   "source": [
    "selected_features = [\n",
    "\"HOME_TEAM\", \"PLACE_HOME_TEAM\", \"HOME_PLAYERS_COUNT\", \"HOME_PLAYERS_AVG_AGE\", \"HOME_LEGIONARIES_COUNT\",\n",
    "\"HOME_AVG_MARKET_VALUE\", \"HOME_TOTAL_MARKET_VALUE\", \"HOME_AVG_AGE_JOINING\", \"HOME_AVG_AGE_LEAVING\", \n",
    "\"HOME_TOTAL_VALUE_JOINING_MIO\",\"HOME_TOTAL_VALUE_LEAVING_MIO\",\n",
    "\"AWAY_TEAM\", \"PLACE_AWAY_TEAM\", \"AWAY_PLAYERS_COUNT\", \"AWAY_PLAYERS_AVG_AGE\", \"AWAY_LEGIONARIES_COUNT\",\n",
    "\"AWAY_AVG_MARKET_VALUE\", \"AWAY_TOTAL_MARKET_VALUE\", \"AWAY_AVG_AGE_JOINING\", \"AWAY_AVG_AGE_LEAVING\", \n",
    "\"AWAY_TOTAL_VALUE_JOINING_MIO\", \"AWAY_TOTAL_VALUE_LEAVING_MIO\",\n",
    "\"MATCHDAY\"\n",
    "]"
   ]
  },
  {
   "cell_type": "code",
   "execution_count": 10,
   "metadata": {},
   "outputs": [],
   "source": [
    "X = df2[selected_features]\n",
    "y = df2['RESULT']\n",
    "# Daten aufteilen\n",
    "X_train, X_test, y_train, y_test = train_test_split(X, y, test_size=TEST_SIZE_PERCENT, shuffle=False)\n",
    "\n",
    "X_test = X_test.reset_index(drop=True)\n",
    "y_test = y_test.reset_index(drop=True)"
   ]
  },
  {
   "cell_type": "code",
   "execution_count": 11,
   "metadata": {},
   "outputs": [
    {
     "data": {
      "text/html": [
       "<div>\n",
       "<style scoped>\n",
       "    .dataframe tbody tr th:only-of-type {\n",
       "        vertical-align: middle;\n",
       "    }\n",
       "\n",
       "    .dataframe tbody tr th {\n",
       "        vertical-align: top;\n",
       "    }\n",
       "\n",
       "    .dataframe thead th {\n",
       "        text-align: right;\n",
       "    }\n",
       "</style>\n",
       "<table border=\"1\" class=\"dataframe\">\n",
       "  <thead>\n",
       "    <tr style=\"text-align: right;\">\n",
       "      <th></th>\n",
       "      <th>HOME_TEAM</th>\n",
       "      <th>PLACE_HOME_TEAM</th>\n",
       "      <th>HOME_PLAYERS_COUNT</th>\n",
       "      <th>HOME_PLAYERS_AVG_AGE</th>\n",
       "      <th>HOME_LEGIONARIES_COUNT</th>\n",
       "      <th>HOME_AVG_MARKET_VALUE</th>\n",
       "      <th>HOME_TOTAL_MARKET_VALUE</th>\n",
       "      <th>HOME_AVG_AGE_JOINING</th>\n",
       "      <th>HOME_AVG_AGE_LEAVING</th>\n",
       "      <th>HOME_TOTAL_VALUE_JOINING_MIO</th>\n",
       "      <th>...</th>\n",
       "      <th>AWAY_PLAYERS_COUNT</th>\n",
       "      <th>AWAY_PLAYERS_AVG_AGE</th>\n",
       "      <th>AWAY_LEGIONARIES_COUNT</th>\n",
       "      <th>AWAY_AVG_MARKET_VALUE</th>\n",
       "      <th>AWAY_TOTAL_MARKET_VALUE</th>\n",
       "      <th>AWAY_AVG_AGE_JOINING</th>\n",
       "      <th>AWAY_AVG_AGE_LEAVING</th>\n",
       "      <th>AWAY_TOTAL_VALUE_JOINING_MIO</th>\n",
       "      <th>AWAY_TOTAL_VALUE_LEAVING_MIO</th>\n",
       "      <th>MATCHDAY</th>\n",
       "    </tr>\n",
       "  </thead>\n",
       "  <tbody>\n",
       "    <tr>\n",
       "      <th>0</th>\n",
       "      <td>19</td>\n",
       "      <td>4</td>\n",
       "      <td>32</td>\n",
       "      <td>23.7</td>\n",
       "      <td>23</td>\n",
       "      <td>17970000.0</td>\n",
       "      <td>574950000.0</td>\n",
       "      <td>20.8</td>\n",
       "      <td>20.8</td>\n",
       "      <td>132.05</td>\n",
       "      <td>...</td>\n",
       "      <td>33</td>\n",
       "      <td>24.9</td>\n",
       "      <td>15</td>\n",
       "      <td>1720000.0</td>\n",
       "      <td>56730000.0</td>\n",
       "      <td>22.3</td>\n",
       "      <td>24.8</td>\n",
       "      <td>36.00</td>\n",
       "      <td>17.28</td>\n",
       "      <td>9</td>\n",
       "    </tr>\n",
       "    <tr>\n",
       "      <th>1</th>\n",
       "      <td>3</td>\n",
       "      <td>5</td>\n",
       "      <td>33</td>\n",
       "      <td>25.8</td>\n",
       "      <td>10</td>\n",
       "      <td>2490000.0</td>\n",
       "      <td>82050000.0</td>\n",
       "      <td>23.7</td>\n",
       "      <td>24.9</td>\n",
       "      <td>95.15</td>\n",
       "      <td>...</td>\n",
       "      <td>36</td>\n",
       "      <td>25.6</td>\n",
       "      <td>24</td>\n",
       "      <td>7480000.0</td>\n",
       "      <td>269150000.0</td>\n",
       "      <td>22.0</td>\n",
       "      <td>26.6</td>\n",
       "      <td>58.60</td>\n",
       "      <td>55.93</td>\n",
       "      <td>9</td>\n",
       "    </tr>\n",
       "    <tr>\n",
       "      <th>2</th>\n",
       "      <td>10</td>\n",
       "      <td>10</td>\n",
       "      <td>31</td>\n",
       "      <td>25.8</td>\n",
       "      <td>19</td>\n",
       "      <td>3000000.0</td>\n",
       "      <td>93050000.0</td>\n",
       "      <td>25.1</td>\n",
       "      <td>25.2</td>\n",
       "      <td>50.50</td>\n",
       "      <td>...</td>\n",
       "      <td>30</td>\n",
       "      <td>25.2</td>\n",
       "      <td>13</td>\n",
       "      <td>4640000.0</td>\n",
       "      <td>139100000.0</td>\n",
       "      <td>24.0</td>\n",
       "      <td>25.7</td>\n",
       "      <td>45.25</td>\n",
       "      <td>68.75</td>\n",
       "      <td>9</td>\n",
       "    </tr>\n",
       "    <tr>\n",
       "      <th>3</th>\n",
       "      <td>26</td>\n",
       "      <td>8</td>\n",
       "      <td>32</td>\n",
       "      <td>23.8</td>\n",
       "      <td>16</td>\n",
       "      <td>5910000.0</td>\n",
       "      <td>189250000.0</td>\n",
       "      <td>22.0</td>\n",
       "      <td>24.6</td>\n",
       "      <td>87.78</td>\n",
       "      <td>...</td>\n",
       "      <td>45</td>\n",
       "      <td>23.9</td>\n",
       "      <td>22</td>\n",
       "      <td>19070000.0</td>\n",
       "      <td>858230000.0</td>\n",
       "      <td>22.8</td>\n",
       "      <td>24.2</td>\n",
       "      <td>232.10</td>\n",
       "      <td>66.00</td>\n",
       "      <td>9</td>\n",
       "    </tr>\n",
       "    <tr>\n",
       "      <th>4</th>\n",
       "      <td>6</td>\n",
       "      <td>3</td>\n",
       "      <td>33</td>\n",
       "      <td>25.0</td>\n",
       "      <td>22</td>\n",
       "      <td>11310000.0</td>\n",
       "      <td>373250000.0</td>\n",
       "      <td>21.6</td>\n",
       "      <td>24.6</td>\n",
       "      <td>185.30</td>\n",
       "      <td>...</td>\n",
       "      <td>38</td>\n",
       "      <td>24.4</td>\n",
       "      <td>21</td>\n",
       "      <td>6020000.0</td>\n",
       "      <td>228880000.0</td>\n",
       "      <td>22.6</td>\n",
       "      <td>25.1</td>\n",
       "      <td>78.25</td>\n",
       "      <td>36.00</td>\n",
       "      <td>9</td>\n",
       "    </tr>\n",
       "    <tr>\n",
       "      <th>...</th>\n",
       "      <td>...</td>\n",
       "      <td>...</td>\n",
       "      <td>...</td>\n",
       "      <td>...</td>\n",
       "      <td>...</td>\n",
       "      <td>...</td>\n",
       "      <td>...</td>\n",
       "      <td>...</td>\n",
       "      <td>...</td>\n",
       "      <td>...</td>\n",
       "      <td>...</td>\n",
       "      <td>...</td>\n",
       "      <td>...</td>\n",
       "      <td>...</td>\n",
       "      <td>...</td>\n",
       "      <td>...</td>\n",
       "      <td>...</td>\n",
       "      <td>...</td>\n",
       "      <td>...</td>\n",
       "      <td>...</td>\n",
       "      <td>...</td>\n",
       "    </tr>\n",
       "    <tr>\n",
       "      <th>747</th>\n",
       "      <td>8</td>\n",
       "      <td>11</td>\n",
       "      <td>35</td>\n",
       "      <td>25.4</td>\n",
       "      <td>16</td>\n",
       "      <td>6910000.0</td>\n",
       "      <td>241680000.0</td>\n",
       "      <td>22.1</td>\n",
       "      <td>23.8</td>\n",
       "      <td>45.55</td>\n",
       "      <td>...</td>\n",
       "      <td>42</td>\n",
       "      <td>25.0</td>\n",
       "      <td>23</td>\n",
       "      <td>3150000.0</td>\n",
       "      <td>132280000.0</td>\n",
       "      <td>22.6</td>\n",
       "      <td>24.6</td>\n",
       "      <td>69.20</td>\n",
       "      <td>39.50</td>\n",
       "      <td>34</td>\n",
       "    </tr>\n",
       "    <tr>\n",
       "      <th>748</th>\n",
       "      <td>9</td>\n",
       "      <td>8</td>\n",
       "      <td>36</td>\n",
       "      <td>25.0</td>\n",
       "      <td>22</td>\n",
       "      <td>9020000.0</td>\n",
       "      <td>324550000.0</td>\n",
       "      <td>22.6</td>\n",
       "      <td>24.2</td>\n",
       "      <td>157.75</td>\n",
       "      <td>...</td>\n",
       "      <td>29</td>\n",
       "      <td>26.0</td>\n",
       "      <td>11</td>\n",
       "      <td>6930000.0</td>\n",
       "      <td>200950000.0</td>\n",
       "      <td>23.3</td>\n",
       "      <td>23.1</td>\n",
       "      <td>59.75</td>\n",
       "      <td>92.15</td>\n",
       "      <td>34</td>\n",
       "    </tr>\n",
       "    <tr>\n",
       "      <th>749</th>\n",
       "      <td>28</td>\n",
       "      <td>7</td>\n",
       "      <td>33</td>\n",
       "      <td>24.7</td>\n",
       "      <td>20</td>\n",
       "      <td>7220000.0</td>\n",
       "      <td>238300000.0</td>\n",
       "      <td>22.3</td>\n",
       "      <td>24.6</td>\n",
       "      <td>78.60</td>\n",
       "      <td>...</td>\n",
       "      <td>41</td>\n",
       "      <td>25.4</td>\n",
       "      <td>21</td>\n",
       "      <td>2290000.0</td>\n",
       "      <td>94000000.0</td>\n",
       "      <td>23.7</td>\n",
       "      <td>24.4</td>\n",
       "      <td>84.83</td>\n",
       "      <td>80.78</td>\n",
       "      <td>34</td>\n",
       "    </tr>\n",
       "    <tr>\n",
       "      <th>750</th>\n",
       "      <td>27</td>\n",
       "      <td>16</td>\n",
       "      <td>32</td>\n",
       "      <td>27.7</td>\n",
       "      <td>18</td>\n",
       "      <td>1680000.0</td>\n",
       "      <td>53700000.0</td>\n",
       "      <td>25.4</td>\n",
       "      <td>26.0</td>\n",
       "      <td>26.80</td>\n",
       "      <td>...</td>\n",
       "      <td>35</td>\n",
       "      <td>24.2</td>\n",
       "      <td>24</td>\n",
       "      <td>12930000.0</td>\n",
       "      <td>452550000.0</td>\n",
       "      <td>21.8</td>\n",
       "      <td>24.6</td>\n",
       "      <td>55.85</td>\n",
       "      <td>27.65</td>\n",
       "      <td>34</td>\n",
       "    </tr>\n",
       "    <tr>\n",
       "      <th>751</th>\n",
       "      <td>26</td>\n",
       "      <td>15</td>\n",
       "      <td>39</td>\n",
       "      <td>23.2</td>\n",
       "      <td>21</td>\n",
       "      <td>3870000.0</td>\n",
       "      <td>151050000.0</td>\n",
       "      <td>22.8</td>\n",
       "      <td>22.8</td>\n",
       "      <td>72.75</td>\n",
       "      <td>...</td>\n",
       "      <td>37</td>\n",
       "      <td>25.8</td>\n",
       "      <td>21</td>\n",
       "      <td>4830000.0</td>\n",
       "      <td>178800000.0</td>\n",
       "      <td>23.9</td>\n",
       "      <td>25.0</td>\n",
       "      <td>66.50</td>\n",
       "      <td>84.50</td>\n",
       "      <td>34</td>\n",
       "    </tr>\n",
       "  </tbody>\n",
       "</table>\n",
       "<p>752 rows × 23 columns</p>\n",
       "</div>"
      ],
      "text/plain": [
       "     HOME_TEAM  PLACE_HOME_TEAM  HOME_PLAYERS_COUNT  HOME_PLAYERS_AVG_AGE  \\\n",
       "0           19                4                  32                  23.7   \n",
       "1            3                5                  33                  25.8   \n",
       "2           10               10                  31                  25.8   \n",
       "3           26                8                  32                  23.8   \n",
       "4            6                3                  33                  25.0   \n",
       "..         ...              ...                 ...                   ...   \n",
       "747          8               11                  35                  25.4   \n",
       "748          9                8                  36                  25.0   \n",
       "749         28                7                  33                  24.7   \n",
       "750         27               16                  32                  27.7   \n",
       "751         26               15                  39                  23.2   \n",
       "\n",
       "     HOME_LEGIONARIES_COUNT  HOME_AVG_MARKET_VALUE  HOME_TOTAL_MARKET_VALUE  \\\n",
       "0                        23             17970000.0              574950000.0   \n",
       "1                        10              2490000.0               82050000.0   \n",
       "2                        19              3000000.0               93050000.0   \n",
       "3                        16              5910000.0              189250000.0   \n",
       "4                        22             11310000.0              373250000.0   \n",
       "..                      ...                    ...                      ...   \n",
       "747                      16              6910000.0              241680000.0   \n",
       "748                      22              9020000.0              324550000.0   \n",
       "749                      20              7220000.0              238300000.0   \n",
       "750                      18              1680000.0               53700000.0   \n",
       "751                      21              3870000.0              151050000.0   \n",
       "\n",
       "     HOME_AVG_AGE_JOINING  HOME_AVG_AGE_LEAVING  HOME_TOTAL_VALUE_JOINING_MIO  \\\n",
       "0                    20.8                  20.8                        132.05   \n",
       "1                    23.7                  24.9                         95.15   \n",
       "2                    25.1                  25.2                         50.50   \n",
       "3                    22.0                  24.6                         87.78   \n",
       "4                    21.6                  24.6                        185.30   \n",
       "..                    ...                   ...                           ...   \n",
       "747                  22.1                  23.8                         45.55   \n",
       "748                  22.6                  24.2                        157.75   \n",
       "749                  22.3                  24.6                         78.60   \n",
       "750                  25.4                  26.0                         26.80   \n",
       "751                  22.8                  22.8                         72.75   \n",
       "\n",
       "     ...  AWAY_PLAYERS_COUNT  AWAY_PLAYERS_AVG_AGE  AWAY_LEGIONARIES_COUNT  \\\n",
       "0    ...                  33                  24.9                      15   \n",
       "1    ...                  36                  25.6                      24   \n",
       "2    ...                  30                  25.2                      13   \n",
       "3    ...                  45                  23.9                      22   \n",
       "4    ...                  38                  24.4                      21   \n",
       "..   ...                 ...                   ...                     ...   \n",
       "747  ...                  42                  25.0                      23   \n",
       "748  ...                  29                  26.0                      11   \n",
       "749  ...                  41                  25.4                      21   \n",
       "750  ...                  35                  24.2                      24   \n",
       "751  ...                  37                  25.8                      21   \n",
       "\n",
       "     AWAY_AVG_MARKET_VALUE  AWAY_TOTAL_MARKET_VALUE  AWAY_AVG_AGE_JOINING  \\\n",
       "0                1720000.0               56730000.0                  22.3   \n",
       "1                7480000.0              269150000.0                  22.0   \n",
       "2                4640000.0              139100000.0                  24.0   \n",
       "3               19070000.0              858230000.0                  22.8   \n",
       "4                6020000.0              228880000.0                  22.6   \n",
       "..                     ...                      ...                   ...   \n",
       "747              3150000.0              132280000.0                  22.6   \n",
       "748              6930000.0              200950000.0                  23.3   \n",
       "749              2290000.0               94000000.0                  23.7   \n",
       "750             12930000.0              452550000.0                  21.8   \n",
       "751              4830000.0              178800000.0                  23.9   \n",
       "\n",
       "     AWAY_AVG_AGE_LEAVING  AWAY_TOTAL_VALUE_JOINING_MIO  \\\n",
       "0                    24.8                         36.00   \n",
       "1                    26.6                         58.60   \n",
       "2                    25.7                         45.25   \n",
       "3                    24.2                        232.10   \n",
       "4                    25.1                         78.25   \n",
       "..                    ...                           ...   \n",
       "747                  24.6                         69.20   \n",
       "748                  23.1                         59.75   \n",
       "749                  24.4                         84.83   \n",
       "750                  24.6                         55.85   \n",
       "751                  25.0                         66.50   \n",
       "\n",
       "     AWAY_TOTAL_VALUE_LEAVING_MIO  MATCHDAY  \n",
       "0                           17.28         9  \n",
       "1                           55.93         9  \n",
       "2                           68.75         9  \n",
       "3                           66.00         9  \n",
       "4                           36.00         9  \n",
       "..                            ...       ...  \n",
       "747                         39.50        34  \n",
       "748                         92.15        34  \n",
       "749                         80.78        34  \n",
       "750                         27.65        34  \n",
       "751                         84.50        34  \n",
       "\n",
       "[752 rows x 23 columns]"
      ]
     },
     "execution_count": 11,
     "metadata": {},
     "output_type": "execute_result"
    }
   ],
   "source": [
    "X_test"
   ]
  },
  {
   "cell_type": "markdown",
   "metadata": {},
   "source": [
    "## RandomForestClassifier"
   ]
  },
  {
   "cell_type": "code",
   "execution_count": 12,
   "metadata": {},
   "outputs": [
    {
     "name": "stdout",
     "output_type": "stream",
     "text": [
      "Best parameters found: OrderedDict([('class_weight', None), ('criterion', 'entropy'), ('max_depth', 8), ('max_features', 0.1), ('n_estimators', 300)])\n"
     ]
    }
   ],
   "source": [
    "warnings.filterwarnings(\"ignore\", category=UserWarning, message=\".*Precision and F-score are ill-defined.*\") \n",
    "warnings.filterwarnings(\"ignore\", category=UserWarning, message=\".*The objective has been evaluated at this point before.*\") \n",
    "search_space = {\n",
    "    'n_estimators': Integer(10, 300),          # Ganzzahlige Variable\n",
    "    'max_depth': Integer(3, 10),               # Ganzzahlige Variable\n",
    "    'criterion': Categorical(['gini', 'entropy']),  # Kategorische Variable\n",
    "    'class_weight': Categorical([None, 'balanced']),  # Keine Klassengewichtung, Automatische Klassengweichtung\n",
    "    'max_features': Real(0.1, 0.999, prior='uniform')  # Reelle Variable\n",
    "    # 'min_samples_split': Integer(2, 20),\n",
    "    # 'min_samples_leaf': Integer(1, 20),\n",
    "}\n",
    "\n",
    "# Bayes'sche Optimierung\n",
    "opt_rmforest = BayesSearchCV(\n",
    "    RandomForestClassifier(),\n",
    "    search_space,\n",
    "    cv=5,  # 5-fache Kreuzvalidierung\n",
    "    n_iter=50,  # Anzahl der Iterationen\n",
    "    n_jobs=-1  # Parallelisierung (-1: alle Kerne verwenden)\n",
    ")\n",
    "\n",
    "# Optimierung auf dem Trainings- und Validierungsdatensatz\n",
    "opt_rmforest.fit(X_train, y_train)\n",
    "\n",
    "# Beste Parameter ausgeben\n",
    "print(\"Best parameters found:\", opt_rmforest.best_params_)"
   ]
  },
  {
   "cell_type": "code",
   "execution_count": 13,
   "metadata": {},
   "outputs": [
    {
     "name": "stdout",
     "output_type": "stream",
     "text": [
      "Accuracy: 0.523936170212766\n",
      "Balanced Accuracy: 0.43976791829817774\n",
      "\n",
      "Classification Report:\n",
      "               precision    recall  f1-score   support\n",
      "\n",
      "           0       0.48      0.50      0.49       220\n",
      "           1       0.20      0.01      0.01       185\n",
      "           2       0.55      0.82      0.66       347\n",
      "\n",
      "    accuracy                           0.52       752\n",
      "   macro avg       0.41      0.44      0.38       752\n",
      "weighted avg       0.44      0.52      0.45       752\n",
      "\n"
     ]
    }
   ],
   "source": [
    "model_name = 'random_forest'\n",
    "result = helpers.get_model_forecast_results(opt_rmforest, X_test, y_test, le_teams, is_optimizer=True)\n",
    "with open(f'./resultsLeaveJoinMio/{model_name}_results.json', 'w') as f:\n",
    "  json.dump(result, f) "
   ]
  },
  {
   "cell_type": "code",
   "execution_count": 14,
   "metadata": {},
   "outputs": [
    {
     "data": {
      "image/png": "[encoded data removed]",
      "text/plain": [
       "<Figure size 1000x600 with 1 Axes>"
      ]
     },
     "metadata": {},
     "output_type": "display_data"
    }
   ],
   "source": [
    "best_model = opt_rmforest.best_estimator_\n",
    "\n",
    "# Feature-Importance auslesen\n",
    "feature_importance = best_model.feature_importances_\n",
    "\n",
    "feature_names = X.columns.tolist()  # Ersetzen Sie dies durch die echten Feature-Namen\n",
    "feature_importance_df = pd.DataFrame({\n",
    "    'Feature': feature_names,\n",
    "    'Importance': feature_importance\n",
    "})\n",
    "\n",
    "feature_importance_df.sort_values(by='Importance', ascending=True, inplace=True)\n",
    "\n",
    "# Plot\n",
    "plt.figure(figsize=(10, 6))\n",
    "plt.barh(feature_importance_df['Feature'], feature_importance_df['Importance'])\n",
    "plt.xlabel('Importance')\n",
    "plt.ylabel('Feature')\n",
    "plt.title('Feature Importance')\n",
    "plt.show()"
   ]
  },
  {
   "cell_type": "markdown",
   "metadata": {},
   "source": [
    "## KNeighborsClassifier"
   ]
  },
  {
   "cell_type": "code",
   "execution_count": 15,
   "metadata": {},
   "outputs": [
    {
     "name": "stdout",
     "output_type": "stream",
     "text": [
      "Best parameters found: OrderedDict([('algorithm', 'auto'), ('metric', 'manhattan'), ('n_neighbors', 30), ('p', 6), ('weights', 'uniform')])\n"
     ]
    }
   ],
   "source": [
    "from sklearn.neighbors import KNeighborsClassifier\n",
    "warnings.filterwarnings(\"ignore\", message=\"The objective has been evaluated at this point before.\")\n",
    "search_space = {\n",
    "  'n_neighbors': Integer(1, 30),\n",
    "    'weights': Categorical(['uniform', 'distance']),\n",
    "    'metric': Categorical(['euclidean', 'manhattan', 'minkowski']),\n",
    "    'p': Integer(1, 6),\n",
    "    'algorithm': Categorical(['auto', 'ball_tree', 'kd_tree', 'brute'])\n",
    "}\n",
    "\n",
    "# Bayes'sche Optimierung\n",
    "opt_knn = BayesSearchCV(\n",
    "    KNeighborsClassifier(),\n",
    "    search_space,\n",
    "    cv=5,  # 5-fache Kreuzvalidierung\n",
    "    n_iter=40,  # Anzahl der Iterationen\n",
    "    n_jobs=-1  # Parallelisierung (-1: alle Kerne verwenden)\n",
    ")\n",
    "\n",
    "# Optimierung auf dem Trainings- und Validierungsdatensatz\n",
    "opt_knn.fit(X_train, y_train)\n",
    "\n",
    "# Beste Parameter ausgeben\n",
    "print(\"Best parameters found:\", opt_knn.best_params_)"
   ]
  },
  {
   "cell_type": "code",
   "execution_count": 16,
   "metadata": {},
   "outputs": [
    {
     "name": "stdout",
     "output_type": "stream",
     "text": [
      "Accuracy: 0.49867021276595747\n",
      "Balanced Accuracy: 0.42627670898564274\n",
      "\n",
      "Classification Report:\n",
      "               precision    recall  f1-score   support\n",
      "\n",
      "           0       0.42      0.50      0.46       220\n",
      "           1       0.24      0.03      0.06       185\n",
      "           2       0.55      0.75      0.64       347\n",
      "\n",
      "    accuracy                           0.50       752\n",
      "   macro avg       0.41      0.43      0.38       752\n",
      "weighted avg       0.44      0.50      0.44       752\n",
      "\n"
     ]
    }
   ],
   "source": [
    "model_name = 'kneighbors'\n",
    "result = helpers.get_model_forecast_results(opt_knn, X_test, y_test, le_teams, is_optimizer=True)\n",
    "with open(f'./resultsLeaveJoinMio/{model_name}_results.json', 'w') as f:\n",
    "  json.dump(result, f) "
   ]
  },
  {
   "cell_type": "markdown",
   "metadata": {},
   "source": [
    "## MultinomialNB"
   ]
  },
  {
   "cell_type": "code",
   "execution_count": 17,
   "metadata": {},
   "outputs": [
    {
     "name": "stdout",
     "output_type": "stream",
     "text": [
      "Best parameters found: OrderedDict([('alpha', 0.5676795952345629), ('fit_prior', True)])\n"
     ]
    }
   ],
   "source": [
    "from sklearn.naive_bayes import MultinomialNB\n",
    "warnings.filterwarnings(\"ignore\", message=\"`np.int` is a deprecated alias for the builtin `int`\")\n",
    "search_space = {\n",
    "    'alpha': Real(0, 1, prior='uniform'),  # oder auch Integer, wenn Sie diskrete Werte möchten\n",
    "    'fit_prior': Categorical([True, False])\n",
    "}\n",
    "\n",
    "# Bayes'sche Optimierung\n",
    "opt_mnb = BayesSearchCV(\n",
    "    MultinomialNB(),\n",
    "    search_space,\n",
    "    cv=5,  # 5-fache Kreuzvalidierung\n",
    "    n_iter=40,  # Anzahl der Iterationen\n",
    "    n_jobs=-1  # Parallelisierung (-1: alle Kerne verwenden)\n",
    ")\n",
    "\n",
    "# Optimierung auf dem Trainings- und Validierungsdatensatz\n",
    "opt_mnb.fit(X_train, y_train)\n",
    "\n",
    "# Beste Parameter ausgeben\n",
    "print(\"Best parameters found:\", opt_mnb.best_params_)"
   ]
  },
  {
   "cell_type": "code",
   "execution_count": 18,
   "metadata": {},
   "outputs": [
    {
     "name": "stdout",
     "output_type": "stream",
     "text": [
      "Accuracy: 0.4800531914893617\n",
      "Balanced Accuracy: 0.44297948721579844\n",
      "\n",
      "Classification Report:\n",
      "               precision    recall  f1-score   support\n",
      "\n",
      "           0       0.42      0.60      0.50       220\n",
      "           1       0.25      0.15      0.19       185\n",
      "           2       0.61      0.58      0.59       347\n",
      "\n",
      "    accuracy                           0.48       752\n",
      "   macro avg       0.43      0.44      0.43       752\n",
      "weighted avg       0.47      0.48      0.47       752\n",
      "\n"
     ]
    }
   ],
   "source": [
    "model_name = 'multinominalNB'\n",
    "result = helpers.get_model_forecast_results(opt_mnb, X_test, y_test, le_teams, is_optimizer=True)\n",
    "with open(f'./resultsLeaveJoinMio/{model_name}_results.json', 'w') as f:\n",
    "  json.dump(result, f) "
   ]
  },
  {
   "cell_type": "markdown",
   "metadata": {},
   "source": [
    "## GaussianNB"
   ]
  },
  {
   "cell_type": "code",
   "execution_count": 19,
   "metadata": {},
   "outputs": [
    {
     "data": {
      "text/html": [
       "<style>#sk-container-id-1 {color: black;background-color: white;}#sk-container-id-1 pre{padding: 0;}#sk-container-id-1 div.sk-toggleable {background-color: white;}#sk-container-id-1 label.sk-toggleable__label {cursor: pointer;display: block;width: 100%;margin-bottom: 0;padding: 0.3em;box-sizing: border-box;text-align: center;}#sk-container-id-1 label.sk-toggleable__label-arrow:before {content: \"▸\";float: left;margin-right: 0.25em;color: #696969;}#sk-container-id-1 label.sk-toggleable__label-arrow:hover:before {color: black;}#sk-container-id-1 div.sk-estimator:hover label.sk-toggleable__label-arrow:before {color: black;}#sk-container-id-1 div.sk-toggleable__content {max-height: 0;max-width: 0;overflow: hidden;text-align: left;background-color: #f0f8ff;}#sk-container-id-1 div.sk-toggleable__content pre {margin: 0.2em;color: black;border-radius: 0.25em;background-color: #f0f8ff;}#sk-container-id-1 input.sk-toggleable__control:checked~div.sk-toggleable__content {max-height: 200px;max-width: 100%;overflow: auto;}#sk-container-id-1 input.sk-toggleable__control:checked~label.sk-toggleable__label-arrow:before {content: \"▾\";}#sk-container-id-1 div.sk-estimator input.sk-toggleable__control:checked~label.sk-toggleable__label {background-color: #d4ebff;}#sk-container-id-1 div.sk-label input.sk-toggleable__control:checked~label.sk-toggleable__label {background-color: #d4ebff;}#sk-container-id-1 input.sk-hidden--visually {border: 0;clip: rect(1px 1px 1px 1px);clip: rect(1px, 1px, 1px, 1px);height: 1px;margin: -1px;overflow: hidden;padding: 0;position: absolute;width: 1px;}#sk-container-id-1 div.sk-estimator {font-family: monospace;background-color: #f0f8ff;border: 1px dotted black;border-radius: 0.25em;box-sizing: border-box;margin-bottom: 0.5em;}#sk-container-id-1 div.sk-estimator:hover {background-color: #d4ebff;}#sk-container-id-1 div.sk-parallel-item::after {content: \"\";width: 100%;border-bottom: 1px solid gray;flex-grow: 1;}#sk-container-id-1 div.sk-label:hover label.sk-toggleable__label {background-color: #d4ebff;}#sk-container-id-1 div.sk-serial::before {content: \"\";position: absolute;border-left: 1px solid gray;box-sizing: border-box;top: 0;bottom: 0;left: 50%;z-index: 0;}#sk-container-id-1 div.sk-serial {display: flex;flex-direction: column;align-items: center;background-color: white;padding-right: 0.2em;padding-left: 0.2em;position: relative;}#sk-container-id-1 div.sk-item {position: relative;z-index: 1;}#sk-container-id-1 div.sk-parallel {display: flex;align-items: stretch;justify-content: center;background-color: white;position: relative;}#sk-container-id-1 div.sk-item::before, #sk-container-id-1 div.sk-parallel-item::before {content: \"\";position: absolute;border-left: 1px solid gray;box-sizing: border-box;top: 0;bottom: 0;left: 50%;z-index: -1;}#sk-container-id-1 div.sk-parallel-item {display: flex;flex-direction: column;z-index: 1;position: relative;background-color: white;}#sk-container-id-1 div.sk-parallel-item:first-child::after {align-self: flex-end;width: 50%;}#sk-container-id-1 div.sk-parallel-item:last-child::after {align-self: flex-start;width: 50%;}#sk-container-id-1 div.sk-parallel-item:only-child::after {width: 0;}#sk-container-id-1 div.sk-dashed-wrapped {border: 1px dashed gray;margin: 0 0.4em 0.5em 0.4em;box-sizing: border-box;padding-bottom: 0.4em;background-color: white;}#sk-container-id-1 div.sk-label label {font-family: monospace;font-weight: bold;display: inline-block;line-height: 1.2em;}#sk-container-id-1 div.sk-label-container {text-align: center;}#sk-container-id-1 div.sk-container {/* jupyter's `normalize.less` sets `[hidden] { display: none; }` but bootstrap.min.css set `[hidden] { display: none !important; }` so we also need the `!important` here to be able to override the default hidden behavior on the sphinx rendered scikit-learn.org. See: https://github.com/scikit-learn/scikit-learn/issues/21755 */display: inline-block !important;position: relative;}#sk-container-id-1 div.sk-text-repr-fallback {display: none;}</style><div id=\"sk-container-id-1\" class=\"sk-top-container\"><div class=\"sk-text-repr-fallback\"><pre>GaussianNB()</pre><b>In a Jupyter environment, please rerun this cell to show the HTML representation or trust the notebook. <br />On GitHub, the HTML representation is unable to render, please try loading this page with nbviewer.org.</b></div><div class=\"sk-container\" hidden><div class=\"sk-item\"><div class=\"sk-estimator sk-toggleable\"><input class=\"sk-toggleable__control sk-hidden--visually\" id=\"sk-estimator-id-1\" type=\"checkbox\" checked><label for=\"sk-estimator-id-1\" class=\"sk-toggleable__label sk-toggleable__label-arrow\">GaussianNB</label><div class=\"sk-toggleable__content\"><pre>GaussianNB()</pre></div></div></div></div></div>"
      ],
      "text/plain": [
       "GaussianNB()"
      ]
     },
     "execution_count": 19,
     "metadata": {},
     "output_type": "execute_result"
    }
   ],
   "source": [
    "from sklearn.naive_bayes import GaussianNB\n",
    "\n",
    "gnb = GaussianNB()\n",
    "gnb.fit(X_train, y_train)"
   ]
  },
  {
   "cell_type": "code",
   "execution_count": 20,
   "metadata": {},
   "outputs": [
    {
     "name": "stdout",
     "output_type": "stream",
     "text": [
      "Accuracy: 0.5199468085106383\n",
      "Balanced Accuracy: 0.4410357174045935\n",
      "\n",
      "Classification Report:\n",
      "               precision    recall  f1-score   support\n",
      "\n",
      "           0       0.46      0.54      0.50       220\n",
      "           1       0.00      0.00      0.00       185\n",
      "           2       0.55      0.79      0.65       347\n",
      "\n",
      "    accuracy                           0.52       752\n",
      "   macro avg       0.34      0.44      0.38       752\n",
      "weighted avg       0.39      0.52      0.44       752\n",
      "\n"
     ]
    }
   ],
   "source": [
    "model_name = 'gaussian_naive_bayes'\n",
    "result = helpers.get_model_forecast_results(gnb, X_test, y_test, le_teams, is_optimizer=False)\n",
    "with open(f'./resultsLeaveJoinMio/{model_name}_results.json', 'w') as f:\n",
    "  json.dump(result, f) "
   ]
  },
  {
   "cell_type": "markdown",
   "metadata": {},
   "source": [
    "## QuadraticDiscriminantAnalysis"
   ]
  },
  {
   "cell_type": "code",
   "execution_count": 21,
   "metadata": {},
   "outputs": [
    {
     "name": "stdout",
     "output_type": "stream",
     "text": [
      "Best parameters found: OrderedDict([('reg_param', 0.902905207839295), ('store_covariance', False), ('tol', 0.009703849384295677)])\n"
     ]
    }
   ],
   "source": [
    "from sklearn.discriminant_analysis import QuadraticDiscriminantAnalysis\n",
    "warnings.filterwarnings(\"ignore\", message=\"`np.int` is a deprecated alias for the builtin `int`\")\n",
    "search_space = {\n",
    "    'tol': Real(1e-4,  1e-2, prior='uniform'),  # Annahme von 2 Klassen\n",
    "    'reg_param': Real(0, 1, prior='uniform'),\n",
    "    'store_covariance': Categorical([True, False])\n",
    "}\n",
    "# Bayes'sche Optimierung\n",
    "opt_qda = BayesSearchCV(\n",
    "    QuadraticDiscriminantAnalysis(),\n",
    "    search_space,\n",
    "    cv=5,  # 5-fache Kreuzvalidierung\n",
    "    n_iter=40,  # Anzahl der Iterationen\n",
    "    n_jobs=-1  # Parallelisierung (-1: alle Kerne verwenden)\n",
    ")\n",
    "\n",
    "# Optimierung auf dem Trainings- und Validierungsdatensatz\n",
    "opt_qda.fit(X_train, y_train)\n",
    "\n",
    "# Beste Parameter ausgeben\n",
    "print(\"Best parameters found:\", opt_qda.best_params_)"
   ]
  },
  {
   "cell_type": "code",
   "execution_count": 22,
   "metadata": {},
   "outputs": [
    {
     "name": "stdout",
     "output_type": "stream",
     "text": [
      "Accuracy: 0.46808510638297873\n",
      "Balanced Accuracy: 0.4410259224380262\n",
      "\n",
      "Classification Report:\n",
      "               precision    recall  f1-score   support\n",
      "\n",
      "           0       0.40      0.62      0.49       220\n",
      "           1       0.26      0.17      0.21       185\n",
      "           2       0.63      0.53      0.57       347\n",
      "\n",
      "    accuracy                           0.47       752\n",
      "   macro avg       0.43      0.44      0.42       752\n",
      "weighted avg       0.47      0.47      0.46       752\n",
      "\n"
     ]
    }
   ],
   "source": [
    "model_name = 'quadratic_discriminant_analysis'\n",
    "result = helpers.get_model_forecast_results(opt_qda, X_test, y_test, le_teams, is_optimizer=False)\n",
    "with open(f'./resultsLeaveJoinMio/{model_name}_results.json', 'w') as f:\n",
    "  json.dump(result, f) "
   ]
  }
 ],
 "metadata": {
  "kernelspec": {
   "display_name": "darts_org",
   "language": "python",
   "name": "python3"
  },
  "language_info": {
   "codemirror_mode": {
    "name": "ipython",
    "version": 3
   },
   "file_extension": ".py",
   "mimetype": "text/x-python",
   "name": "python",
   "nbconvert_exporter": "python",
   "pygments_lexer": "ipython3",
   "version": "3.9.16"
  },
  "orig_nbformat": 4
 },
 "nbformat": 4,
 "nbformat_minor": 2
}
