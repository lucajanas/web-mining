{
 "cells": [
  {
   "cell_type": "code",
   "execution_count": 1,
   "metadata": {},
   "outputs": [],
   "source": [
    "import pandas as pd\n",
    "import os\n",
    "from datetime import datetime, timedelta\n",
    "PATH_ELO_CLUBS = './data/elo/elo-clubs/GER/'\n"
   ]
  },
  {
   "cell_type": "code",
   "execution_count": 2,
   "metadata": {},
   "outputs": [
    {
     "data": {
      "text/plain": [
       "Index(['DATE', 'WEEKDAY', 'MONTH', 'SEASON', 'MATCHDAY', 'HOME_TEAM',\n",
       "       'PLACE_HOME_TEAM', 'AWAY_TEAM', 'PLACE_AWAY_TEAM', 'WIN_PERC_HOME',\n",
       "       'REMIS_PERC', 'WIN_PERC_AWAY', 'HOME_GOALS', 'AWAY_GOALS', 'RESULT',\n",
       "       'REFEREE', 'HOME_PLAYERS_COUNT', 'HOME_PLAYERS_AVG_AGE',\n",
       "       'HOME_LEGIONARIES_COUNT', 'HOME_AVG_MARKET_VALUE',\n",
       "       'HOME_TOTAL_MARKET_VALUE', 'HOME_AVG_AGE_JOINING',\n",
       "       'HOME_AVG_AGE_LEAVING', 'HOME_TOTAL_VALUE_JOINING_MIO',\n",
       "       'HOME_TOTAL_VALUE_LEAVING_MIO', 'HOME_EXPENSES_JOINING_MIO',\n",
       "       'HOME_REVENUE_LEAVING_MIO', 'AWAY_PLAYERS_COUNT',\n",
       "       'AWAY_PLAYERS_AVG_AGE', 'AWAY_LEGIONARIES_COUNT',\n",
       "       'AWAY_AVG_MARKET_VALUE', 'AWAY_TOTAL_MARKET_VALUE',\n",
       "       'AWAY_AVG_AGE_JOINING', 'AWAY_AVG_AGE_LEAVING',\n",
       "       'AWAY_TOTAL_VALUE_JOINING_MIO', 'AWAY_TOTAL_VALUE_LEAVING_MIO',\n",
       "       'AWAY_EXPENSES_JOINING_MIO', 'AWAY_REVENUE_LEAVING_MIO'],\n",
       "      dtype='object')"
      ]
     },
     "execution_count": 2,
     "metadata": {},
     "output_type": "execute_result"
    }
   ],
   "source": [
    "df_merge = pd.read_pickle(\"./df_merge_club_transfer_data.pkl\")\n",
    "df_merge.columns"
   ]
  },
  {
   "cell_type": "code",
   "execution_count": 3,
   "metadata": {},
   "outputs": [
    {
     "data": {
      "text/plain": [
       "AWAY_TEAM    FC Schalke 04\n",
       "Name: 0, dtype: object"
      ]
     },
     "execution_count": 3,
     "metadata": {},
     "output_type": "execute_result"
    }
   ],
   "source": [
    "df_merge.iloc[0][['DATE']]\n",
    "df_merge.iloc[0][['HOME_TEAM']]\n",
    "df_merge.iloc[0][['AWAY_TEAM']]"
   ]
  },
  {
   "cell_type": "code",
   "execution_count": 12,
   "metadata": {},
   "outputs": [],
   "source": [
    "Mapping = {\n",
    "    '1.FC Kaiserslautern': \"Lautern.csv\", \n",
    "    '1.FC Nürnberg':'Nuernberg.csv', \n",
    "    '1.FSV Mainz 05':'Mainz.csv', \n",
    "    'Arminia Bielefeld':'Bielefeld.csv', \n",
    "    'Bayer 04 Leverkusen':'Leverkusen.csv',\n",
    "    'Bayern München':'Bayern.csv',\n",
    "    'Borussia Dortmund':'Dortmund.csv', \n",
    "    'Borussia Mönchengladbach':\"Gladbach.csv\", \n",
    "    'FC Schalke 04':'Schalke.csv', \n",
    "    'Hamburger SV':'Hamburg.csv', \n",
    "    'Hannover 96':'Hannover.csv', \n",
    "    'Hansa Rostock':'Rostock.csv', \n",
    "    'Hertha BSC':'Hertha.csv', \n",
    "    'SC Freiburg':'Freiburg.csv', \n",
    "    'VfB Stuttgart':'Stuttgart.csv', \n",
    "    'VfL Bochum': 'Bochum.csv', \n",
    "    'VfL Wolfsburg':'Wolfsburg.csv', \n",
    "    'Werder Bremen':'Werder.csv', \n",
    "    '1.FC Köln':'Koeln.csv', \n",
    "    'Eintracht Frankfurt':'Frankfurt.csv', \n",
    "    'MSV Duisburg':'Duisburg.csv', \n",
    "    'Alemannia Aachen':'Aachen.csv', \n",
    "    'Energie Cottbus':'Cottbus.csv', \n",
    "    'Karlsruher SC':'Karlsruhe.csv', \n",
    "    'TSG Hoffenheim':'Hoffenheim.csv', \n",
    "    'FC St. Pauli':'Pauli.csv', \n",
    "    'FC Augsburg':'Augsburg.csv', \n",
    "    'Fortuna Düsseldorf':'Duesseldorf.csv', \n",
    "    'Greuther Fürth':'Fuerth.csv', \n",
    "    'Eintracht Braunschweing':'Braunschweig.csv', \n",
    "    'SC Paderborn':'Paderborn.csv', \n",
    "    'Darmstadt 98':'Darmstadt.csv', \n",
    "    'FC Ingolstadt':'Ingolstadt.csv', \n",
    "    'RasenBallsport Leipzig':'RB Leipzig.csv', \n",
    "    'Union Berlin':'Union Berlin.csv'\n",
    "}"
   ]
  },
  {
   "cell_type": "code",
   "execution_count": 13,
   "metadata": {},
   "outputs": [
    {
     "name": "stdout",
     "output_type": "stream",
     "text": [
      "Alle Werte in den Spalten HOME_TEAM und AWAY_TEAM haben ein Mapping.\n"
     ]
    }
   ],
   "source": [
    "# check mappping for complete merged dataframe\n",
    "missing_mappings = set()\n",
    "\n",
    "for index, row in df_merge.iterrows():\n",
    "    home_team = row['HOME_TEAM']\n",
    "    away_team = row['AWAY_TEAM']\n",
    "\n",
    "    if home_team not in Mapping:\n",
    "        missing_mappings.add(f\"Für {home_team} fehlt ein Mapping in der Spalte HOME_TEAM.\")\n",
    "    if away_team not in Mapping:\n",
    "        missing_mappings.add(f\"Für {away_team} fehlt ein Mapping in der Spalte AWAY_TEAM.\")\n",
    "\n",
    "if missing_mappings:\n",
    "    for msg in missing_mappings:\n",
    "        print(\"Warnung:\", msg)\n",
    "else:\n",
    "    print(\"Alle Werte in den Spalten HOME_TEAM und AWAY_TEAM haben ein Mapping.\")"
   ]
  },
  {
   "cell_type": "code",
   "execution_count": 14,
   "metadata": {},
   "outputs": [
    {
     "name": "stdout",
     "output_type": "stream",
     "text": [
      "Alle CSV-Dateien sind vorhanden.\n"
     ]
    }
   ],
   "source": [
    "# check all csv files\n",
    "missing_files = set()\n",
    "\n",
    "existing_files = set(os.listdir(PATH_ELO_CLUBS))\n",
    "\n",
    "# Überprüfen Sie alle Werte in den Spalten 'HOME_TEAM' und 'AWAY_TEAM'\n",
    "for index, row in df_merge.iterrows():\n",
    "    home_team = row['HOME_TEAM']\n",
    "    away_team = row['AWAY_TEAM']\n",
    "\n",
    "    # Überprüfen, ob die Teams im mapping-Dictionary vorhanden sind\n",
    "    if home_team in Mapping:\n",
    "        if Mapping[home_team] not in existing_files:\n",
    "            missing_files.add(f\"Datei {Mapping[home_team]} für {home_team} fehlt.\")\n",
    "    else:\n",
    "        missing_files.add(f\"Mapping für {home_team} fehlt.\")\n",
    "\n",
    "    if away_team in Mapping:\n",
    "        if Mapping[away_team] not in existing_files:\n",
    "            missing_files.add(f\"Datei {Mapping[away_team]} für {away_team} fehlt.\")\n",
    "    else:\n",
    "        missing_files.add(f\"Mapping für {away_team} fehlt.\")\n",
    "\n",
    "# Ausgabe der fehlenden Dateien oder Mappings\n",
    "if missing_files:\n",
    "    for msg in missing_files:\n",
    "        print(\"Warnung:\", msg)\n",
    "else:\n",
    "    print(\"Alle CSV-Dateien sind vorhanden.\")"
   ]
  },
  {
   "cell_type": "code",
   "execution_count": 15,
   "metadata": {},
   "outputs": [],
   "source": [
    "def elo_value(path, match_date, home_team, away_team):\n",
    "    \n",
    "    home_team_path = f'{path}/{Mapping[home_team]}'\n",
    "    away_team_path = f'{path}/{Mapping[away_team]}'\n",
    "    match_date = pd.to_datetime(match_date)\n",
    "    \n",
    "    df_home = pd.read_csv(home_team_path)\n",
    "    df_away = pd.read_csv(away_team_path)\n",
    "    \n",
    "    df_home['From'] = pd.to_datetime(df_home['From'])\n",
    "    df_home['To'] = pd.to_datetime(df_home['To'])\n",
    "    df_away['From'] = pd.to_datetime(df_away['From'])\n",
    "    df_away['To'] = pd.to_datetime(df_away['To'])\n",
    "    \n",
    "    home = df_home[(df_home['From'] <= match_date) & (df_home['To'] >= match_date)]\n",
    "    away = df_away[(df_away['From'] <= match_date) & (df_away['To'] >= match_date)]\n",
    "    \n",
    "    closest_home_elo = 'N/A'\n",
    "    closest_away_elo = 'N/A'\n",
    "    \n",
    "    if not home.empty:\n",
    "        closest_home_elo = home.iloc[0]['Elo']\n",
    "    else:\n",
    "        closest_home = df_home[df_home['From'] <= match_date].sort_values('To', ascending=False)\n",
    "        if not closest_home.empty:\n",
    "            closest_home_elo = closest_home.iloc[0]['Elo']\n",
    "    \n",
    "    if not away.empty:\n",
    "        closest_away_elo = away.iloc[0]['Elo']\n",
    "    else:\n",
    "        closest_away = df_away[df_away['From'] <= match_date].sort_values('To', ascending=False)\n",
    "        if not closest_away.empty:\n",
    "            closest_away_elo = closest_away.iloc[0]['Elo']\n",
    "\n",
    "    return {\n",
    "        'home': closest_home_elo,\n",
    "        'away': closest_away_elo,\n",
    "    }\n"
   ]
  },
  {
   "cell_type": "code",
   "execution_count": 16,
   "metadata": {},
   "outputs": [],
   "source": [
    "Not_available = ['FC St. Pauli', 'RasenBallsport Leipzig','Union Berlin']"
   ]
  },
  {
   "cell_type": "code",
   "execution_count": 17,
   "metadata": {},
   "outputs": [],
   "source": [
    "def elo_rating(path, match_date, home_team, away_team):\n",
    "    '''\n",
    "    Der Elo-Wert ist aus der Perspektive der Heimmanschaft\n",
    "    0 : sichere Niederlage\n",
    "    1 : sicherer Sieg\n",
    "    '''\n",
    "    elo = elo_value(path,match_date, home_team, away_team)\n",
    "    if elo['home'] != 'N/A' and elo ['away'] != 'N/A':\n",
    "        dr = 100 + elo['home'] - elo['away']\n",
    "        w_e = 1 / (pow(10, -dr / 400) + 1)\n",
    "        return w_e\n",
    "    else:\n",
    "        return None"
   ]
  },
  {
   "cell_type": "code",
   "execution_count": 19,
   "metadata": {},
   "outputs": [],
   "source": [
    "for index, row in df_merge.iterrows():\n",
    "    if row['HOME_TEAM'] in Not_available or row['AWAY_TEAM'] in Not_available:\n",
    "        continue\n",
    "    elo = elo_rating(PATH_ELO_CLUBS,row['DATE'],row['HOME_TEAM'],row['AWAY_TEAM'])\n",
    "    if elo is None:\n",
    "        raise Exception(\"Kein Elo wert verfügbar\")\n",
    "    else:\n",
    "        pass"
   ]
  }
 ],
 "metadata": {
  "kernelspec": {
   "display_name": "darts_org",
   "language": "python",
   "name": "python3"
  },
  "language_info": {
   "codemirror_mode": {
    "name": "ipython",
    "version": 3
   },
   "file_extension": ".py",
   "mimetype": "text/x-python",
   "name": "python",
   "nbconvert_exporter": "python",
   "pygments_lexer": "ipython3",
   "version": "3.9.16"
  },
  "orig_nbformat": 4
 },
 "nbformat": 4,
 "nbformat_minor": 2
}
