{
 "cells": [
  {
   "cell_type": "code",
   "execution_count": 18,
   "metadata": {},
   "outputs": [],
   "source": [
    "import pandas as pd\n",
    "import os\n",
    "from datetime import datetime, timedelta\n",
    "PATH_ELO_CLUBS = './data/elo/elo-clubs/GER/'\n",
    "import helpers"
   ]
  },
  {
   "cell_type": "code",
   "execution_count": 19,
   "metadata": {},
   "outputs": [
    {
     "data": {
      "text/plain": [
       "Index(['DATE', 'WEEKDAY', 'MONTH', 'SEASON', 'MATCHDAY', 'HOME_TEAM',\n",
       "       'PLACE_HOME_TEAM', 'AWAY_TEAM', 'PLACE_AWAY_TEAM', 'WIN_PERC_HOME',\n",
       "       'REMIS_PERC', 'WIN_PERC_AWAY', 'HOME_GOALS', 'AWAY_GOALS', 'RESULT',\n",
       "       'REFEREE', 'HOME_PLAYERS_COUNT', 'HOME_PLAYERS_AVG_AGE',\n",
       "       'HOME_LEGIONARIES_COUNT', 'HOME_AVG_MARKET_VALUE',\n",
       "       'HOME_TOTAL_MARKET_VALUE', 'HOME_AVG_AGE_JOINING',\n",
       "       'HOME_AVG_AGE_LEAVING', 'HOME_TOTAL_VALUE_JOINING_MIO',\n",
       "       'HOME_TOTAL_VALUE_LEAVING_MIO', 'HOME_EXPENSES_JOINING_MIO',\n",
       "       'HOME_REVENUE_LEAVING_MIO', 'AWAY_PLAYERS_COUNT',\n",
       "       'AWAY_PLAYERS_AVG_AGE', 'AWAY_LEGIONARIES_COUNT',\n",
       "       'AWAY_AVG_MARKET_VALUE', 'AWAY_TOTAL_MARKET_VALUE',\n",
       "       'AWAY_AVG_AGE_JOINING', 'AWAY_AVG_AGE_LEAVING',\n",
       "       'AWAY_TOTAL_VALUE_JOINING_MIO', 'AWAY_TOTAL_VALUE_LEAVING_MIO',\n",
       "       'AWAY_EXPENSES_JOINING_MIO', 'AWAY_REVENUE_LEAVING_MIO'],\n",
       "      dtype='object')"
      ]
     },
     "execution_count": 19,
     "metadata": {},
     "output_type": "execute_result"
    }
   ],
   "source": [
    "df_merge = pd.read_pickle(\"./df_merge_club_transfer_data.pkl\")\n",
    "df_merge.columns"
   ]
  },
  {
   "cell_type": "code",
   "execution_count": 20,
   "metadata": {},
   "outputs": [
    {
     "data": {
      "text/plain": [
       "AWAY_TEAM    FC Schalke 04\n",
       "Name: 0, dtype: object"
      ]
     },
     "execution_count": 20,
     "metadata": {},
     "output_type": "execute_result"
    }
   ],
   "source": [
    "df_merge.iloc[0][['DATE']]\n",
    "df_merge.iloc[0][['HOME_TEAM']]\n",
    "df_merge.iloc[0][['AWAY_TEAM']]"
   ]
  },
  {
   "cell_type": "code",
   "execution_count": 22,
   "metadata": {},
   "outputs": [
    {
     "name": "stdout",
     "output_type": "stream",
     "text": [
      "Alle Werte in den Spalten HOME_TEAM und AWAY_TEAM haben ein Mapping.\n"
     ]
    }
   ],
   "source": [
    "# check mappping for complete merged dataframe\n",
    "missing_mappings = set()\n",
    "\n",
    "for index, row in df_merge.iterrows():\n",
    "    home_team = row['HOME_TEAM']\n",
    "    away_team = row['AWAY_TEAM']\n",
    "\n",
    "    if home_team not in helpers.Mapping:\n",
    "        missing_mappings.add(f\"Für {home_team} fehlt ein Mapping in der Spalte HOME_TEAM.\")\n",
    "    if away_team not in helpers.Mapping:\n",
    "        missing_mappings.add(f\"Für {away_team} fehlt ein Mapping in der Spalte AWAY_TEAM.\")\n",
    "\n",
    "if missing_mappings:\n",
    "    for msg in missing_mappings:\n",
    "        print(\"Warnung:\", msg)\n",
    "else:\n",
    "    print(\"Alle Werte in den Spalten HOME_TEAM und AWAY_TEAM haben ein Mapping.\")"
   ]
  },
  {
   "cell_type": "code",
   "execution_count": 23,
   "metadata": {},
   "outputs": [
    {
     "name": "stdout",
     "output_type": "stream",
     "text": [
      "Alle CSV-Dateien sind vorhanden.\n"
     ]
    }
   ],
   "source": [
    "# check all csv files\n",
    "missing_files = set()\n",
    "\n",
    "existing_files = set(os.listdir(PATH_ELO_CLUBS))\n",
    "\n",
    "# Überprüfen ob alle Werte in den Spalten 'HOME_TEAM' und 'AWAY_TEAM'\n",
    "for index, row in df_merge.iterrows():\n",
    "    home_team = row['HOME_TEAM']\n",
    "    away_team = row['AWAY_TEAM']\n",
    "\n",
    "    # Überprüfen, ob die Teams im mapping-Dictionary vorhanden sind\n",
    "    if home_team in helpers.Mapping:\n",
    "        if helpers.Mapping[home_team] not in existing_files:\n",
    "            missing_files.add(f\"Datei {helpers.Mapping[home_team]} für {home_team} fehlt.\")\n",
    "    else:\n",
    "        missing_files.add(f\"Mapping für {home_team} fehlt.\")\n",
    "\n",
    "    if away_team in Mapping:\n",
    "        if helpers.Mapping[away_team] not in existing_files:\n",
    "            missing_files.add(f\"Datei {helpers.Mapping[away_team]} für {away_team} fehlt.\")\n",
    "    else:\n",
    "        missing_files.add(f\"Mapping für {away_team} fehlt.\")\n",
    "\n",
    "# Ausgabe der fehlenden Dateien oder Mappings\n",
    "if missing_files:\n",
    "    for msg in missing_files:\n",
    "        print(\"Warnung:\", msg)\n",
    "else:\n",
    "    print(\"Alle CSV-Dateien sind vorhanden.\")"
   ]
  },
  {
   "cell_type": "code",
   "execution_count": 24,
   "metadata": {},
   "outputs": [
    {
     "name": "stdout",
     "output_type": "stream",
     "text": [
      "Ausgenommen für ['FC St. Pauli', 'RasenBallsport Leipzig', '1.FC Union Berlin'], konnte alle Elo-Werte berechnet werden.\n"
     ]
    }
   ],
   "source": [
    "for index, row in df_merge.iterrows():\n",
    "    if row['HOME_TEAM'] in helpers.Not_available or row['AWAY_TEAM'] in helpers.Not_available:\n",
    "        continue\n",
    "    elo = helpers.elo_rating(PATH_ELO_CLUBS,row['DATE'],row['HOME_TEAM'],row['AWAY_TEAM'])\n",
    "    if elo is None:\n",
    "        raise Exception(\"Kein Elo wert verfügbar\")\n",
    "    else:\n",
    "        pass\n",
    "print(f'Ausgenommen für {helpers.Not_available}, konnte alle Elo-Werte berechnet werden.')"
   ]
  }
 ],
 "metadata": {
  "kernelspec": {
   "display_name": "darts_org",
   "language": "python",
   "name": "python3"
  },
  "language_info": {
   "codemirror_mode": {
    "name": "ipython",
    "version": 3
   },
   "file_extension": ".py",
   "mimetype": "text/x-python",
   "name": "python",
   "nbconvert_exporter": "python",
   "pygments_lexer": "ipython3",
   "version": "3.9.16"
  },
  "orig_nbformat": 4
 },
 "nbformat": 4,
 "nbformat_minor": 2
}
