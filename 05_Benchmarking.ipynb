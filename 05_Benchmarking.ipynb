{
 "cells": [
  {
   "cell_type": "markdown",
   "metadata": {},
   "source": [
    "# Benchmarking"
   ]
  },
  {
   "cell_type": "markdown",
   "metadata": {},
   "source": [
    "# Elo benchmarking"
   ]
  },
  {
   "cell_type": "code",
   "execution_count": 1,
   "metadata": {},
   "outputs": [],
   "source": [
    "import helpers\n",
    "import pandas as pd\n",
    "import os\n",
    "from sklearn.preprocessing import LabelEncoder\n",
    "from collections import defaultdict\n",
    "from sklearn.model_selection import train_test_split\n",
    "from sklearn.metrics import classification_report, accuracy_score,  balanced_accuracy_score\n",
    "import json\n",
    "\n",
    "TEST_SIZE_PERCENT = 0.2\n",
    "PATH_ELO_CLUBS = './data/elo/elo-clubs/GER/'\n",
    "HOME_TEAM_WIN = 2\n",
    "AWAY_TEAM_WIN = 0\n",
    "DRAW = 1\n",
    "import warnings\n",
    "warnings.filterwarnings(\"ignore\", category=DeprecationWarning)"
   ]
  },
  {
   "cell_type": "code",
   "execution_count": 2,
   "metadata": {},
   "outputs": [],
   "source": [
    "df1 = pd.read_pickle(\"./df_merge_club_transfer_data_prep1.pkl\")\n",
    "df2 = df1.copy()"
   ]
  },
  {
   "cell_type": "code",
   "execution_count": 3,
   "metadata": {},
   "outputs": [
    {
     "name": "stdout",
     "output_type": "stream",
     "text": [
      "Label Mapping: {0: '1.FC Kaiserslautern', 1: '1.FC Köln', 2: '1.FC Nürnberg', 3: '1.FC Union Berlin', 4: '1.FSV Mainz 05', 5: 'Alemannia Aachen', 6: 'Arminia Bielefeld', 7: 'Bayer 04 Leverkusen', 8: 'Borussia Dortmund', 9: 'Borussia Mönchengladbach', 10: 'Eintracht Braunschweig', 11: 'Eintracht Frankfurt', 12: 'FC Augsburg', 13: 'FC Bayern München', 14: 'FC Energie Cottbus', 15: 'FC Hansa Rostock', 16: 'FC Ingolstadt 04', 17: 'FC Schalke 04', 18: 'FC St. Pauli', 19: 'Fortuna Düsseldorf', 20: 'Hamburger SV', 21: 'Hannover 96', 22: 'Hertha BSC', 23: 'Karlsruher SC', 24: 'MSV Duisburg', 25: 'RasenBallsport Leipzig', 26: 'SC Freiburg', 27: 'SC Paderborn 07', 28: 'SV Darmstadt 98', 29: 'SV Werder Bremen', 30: 'SpVgg Greuther Fürth', 31: 'TSG 1899 Hoffenheim', 32: 'VfB Stuttgart', 33: 'VfL Bochum', 34: 'VfL Wolfsburg'}\n"
     ]
    }
   ],
   "source": [
    "# Kombinieren die Werte beider Spalten in eine Serie\n",
    "combined_teams = pd.concat([df2['HOME_TEAM'], df2['AWAY_TEAM']])\n",
    "\n",
    "# Initialisieren und anpassen Sie den LabelEncoder\n",
    "le_teams = LabelEncoder()\n",
    "le_teams.fit(combined_teams)\n",
    "\n",
    "# Codieren Sie die 'HOME_TEAM' und 'AWAY_TEAM' Spalten\n",
    "df2['HOME_TEAM'] = le_teams.transform(df2['HOME_TEAM'])\n",
    "df2['AWAY_TEAM'] = le_teams.transform(df2['AWAY_TEAM'])\n",
    "\n",
    "# Erstellen ein Mapping-Dictionary für die Decodierung\n",
    "label_mapping_TEAM = {idx: label for idx, label in enumerate(le_teams.classes_)}\n",
    "\n",
    "print(\"Label Mapping:\", label_mapping_TEAM)"
   ]
  },
  {
   "cell_type": "code",
   "execution_count": 4,
   "metadata": {},
   "outputs": [
    {
     "name": "stdout",
     "output_type": "stream",
     "text": [
      "Label Mapping: {0: 'AWAY_WIN', 1: 'DRAW', 2: 'HOME_WIN'}\n"
     ]
    }
   ],
   "source": [
    "le_RESULT = LabelEncoder()\n",
    "encoded_RESULT = le_RESULT.fit_transform(df2['RESULT'])\n",
    "df2['RESULT'] = encoded_RESULT\n",
    "\n",
    "label_mapping_RESULT = {idx: label for idx, label in enumerate(le_RESULT.classes_)}\n",
    "print(\"Label Mapping:\", label_mapping_RESULT)"
   ]
  },
  {
   "cell_type": "code",
   "execution_count": 5,
   "metadata": {},
   "outputs": [],
   "source": [
    "selected_features = [\n",
    "\"DATE\", \"HOME_TEAM\", \"PLACE_HOME_TEAM\", \"HOME_PLAYERS_COUNT\", \"HOME_PLAYERS_AVG_AGE\", \"HOME_LEGIONARIES_COUNT\",\n",
    "\"HOME_AVG_MARKET_VALUE\", \"HOME_TOTAL_MARKET_VALUE\", \"HOME_AVG_AGE_JOINING\", \"HOME_AVG_AGE_LEAVING\", \n",
    "\"AWAY_TEAM\", \"PLACE_AWAY_TEAM\", \"AWAY_PLAYERS_COUNT\", \"AWAY_PLAYERS_AVG_AGE\", \"AWAY_LEGIONARIES_COUNT\",\n",
    "\"AWAY_AVG_MARKET_VALUE\", \"AWAY_TOTAL_MARKET_VALUE\", \"AWAY_AVG_AGE_JOINING\", \"AWAY_AVG_AGE_LEAVING\", \n",
    "\"MATCHDAY\"\n",
    "]"
   ]
  },
  {
   "cell_type": "code",
   "execution_count": 6,
   "metadata": {},
   "outputs": [],
   "source": [
    "X = df2[selected_features]\n",
    "y = df2['RESULT']\n",
    "X_train, X_test, y_train, y_test = train_test_split(X, y, test_size=TEST_SIZE_PERCENT, shuffle=False)\n",
    "\n",
    "X_test = X_test.reset_index(drop=True)\n",
    "y_test = y_test.reset_index(drop=True)"
   ]
  },
  {
   "cell_type": "code",
   "execution_count": 7,
   "metadata": {},
   "outputs": [
    {
     "name": "stdout",
     "output_type": "stream",
     "text": [
      "<class 'pandas.core.series.Series'>\n",
      "1163\n",
      "2\n"
     ]
    }
   ],
   "source": [
    "print(type(y_test))\n",
    "print(len(y_test))\n",
    "print(y_test.iloc[0])"
   ]
  },
  {
   "cell_type": "code",
   "execution_count": 8,
   "metadata": {},
   "outputs": [
    {
     "name": "stdout",
     "output_type": "stream",
     "text": [
      "1163\n",
      "2019-10-06 00:00:00\n"
     ]
    }
   ],
   "source": [
    "print(len(X_test))\n",
    "print(X_test['DATE'].iloc[0])"
   ]
  },
  {
   "cell_type": "code",
   "execution_count": 9,
   "metadata": {},
   "outputs": [
    {
     "name": "stdout",
     "output_type": "stream",
     "text": [
      "Total Accuracy: 0.4961580680570801\n"
     ]
    }
   ],
   "source": [
    "warnings.filterwarnings(\"ignore\", category=UserWarning, message=\".*Precision and F-score are ill-defined.*\") \n",
    "results = helpers.get_elo_forecast_results(X_test, y_test, label_mapping_TEAM, PATH_ELO_CLUBS, HOME_TEAM_WIN, AWAY_TEAM_WIN, DRAW, le_teams)\n",
    "with open('./results/elo_results.json', 'w') as f:\n",
    "    json.dump(results, f)"
   ]
  }
 ],
 "metadata": {
  "kernelspec": {
   "display_name": "darts_org",
   "language": "python",
   "name": "python3"
  },
  "language_info": {
   "codemirror_mode": {
    "name": "ipython",
    "version": 3
   },
   "file_extension": ".py",
   "mimetype": "text/x-python",
   "name": "python",
   "nbconvert_exporter": "python",
   "pygments_lexer": "ipython3",
   "version": "3.9.16"
  },
  "orig_nbformat": 4
 },
 "nbformat": 4,
 "nbformat_minor": 2
}
