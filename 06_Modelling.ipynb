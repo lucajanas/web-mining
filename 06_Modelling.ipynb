{
 "cells": [
  {
   "cell_type": "markdown",
   "metadata": {},
   "source": [
    "# Modelling"
   ]
  },
  {
   "cell_type": "code",
   "execution_count": 60,
   "metadata": {},
   "outputs": [],
   "source": [
    "import helpers\n",
    "import pandas as pd\n",
    "from sklearn.preprocessing import LabelEncoder\n",
    "from sklearn.model_selection import train_test_split\n",
    "from sklearn.ensemble import RandomForestClassifier\n",
    "from xgboost import XGBClassifier\n",
    "from sklearn.metrics import classification_report, accuracy_score,  balanced_accuracy_score\n",
    "from sklearn.metrics import confusion_matrix\n",
    "import numpy as np\n",
    "import matplotlib.pyplot as plt\n",
    "from skopt import BayesSearchCV\n",
    "from skopt.space import Integer\n",
    "from skopt.space import Categorical\n",
    "from skopt.space import Real\n",
    "import warnings\n",
    "import json\n",
    "warnings.filterwarnings(\"ignore\", category=DeprecationWarning)"
   ]
  },
  {
   "cell_type": "code",
   "execution_count": 61,
   "metadata": {},
   "outputs": [],
   "source": [
    "df = pd.read_pickle(\"./df_merge_club_transfer_data.pkl\")\n",
    "df1 = pd.read_pickle(\"./df_merge_club_transfer_data_prep1.pkl\")\n",
    "object_columns = df.select_dtypes(include=['object']).columns\n",
    "RANDOM_STATE = 42\n",
    "TEST_SIZE_PERCENT = 0.2"
   ]
  },
  {
   "cell_type": "markdown",
   "metadata": {},
   "source": [
    "## 2nd step of data preparation"
   ]
  },
  {
   "cell_type": "code",
   "execution_count": 66,
   "metadata": {},
   "outputs": [],
   "source": [
    "df2 = df1.copy()"
   ]
  },
  {
   "cell_type": "code",
   "execution_count": 67,
   "metadata": {},
   "outputs": [
    {
     "name": "stdout",
     "output_type": "stream",
     "text": [
      "Label Mapping: {0: '1.FC Kaiserslautern', 1: '1.FC Köln', 2: '1.FC Nürnberg', 3: '1.FC Union Berlin', 4: '1.FSV Mainz 05', 5: 'Alemannia Aachen', 6: 'Arminia Bielefeld', 7: 'Bayer 04 Leverkusen', 8: 'Borussia Dortmund', 9: 'Borussia Mönchengladbach', 10: 'Eintracht Braunschweig', 11: 'Eintracht Frankfurt', 12: 'FC Augsburg', 13: 'FC Bayern München', 14: 'FC Energie Cottbus', 15: 'FC Hansa Rostock', 16: 'FC Ingolstadt 04', 17: 'FC Schalke 04', 18: 'FC St. Pauli', 19: 'Fortuna Düsseldorf', 20: 'Hamburger SV', 21: 'Hannover 96', 22: 'Hertha BSC', 23: 'Karlsruher SC', 24: 'MSV Duisburg', 25: 'RasenBallsport Leipzig', 26: 'SC Freiburg', 27: 'SC Paderborn 07', 28: 'SV Darmstadt 98', 29: 'SV Werder Bremen', 30: 'SpVgg Greuther Fürth', 31: 'TSG 1899 Hoffenheim', 32: 'VfB Stuttgart', 33: 'VfL Bochum', 34: 'VfL Wolfsburg'}\n"
     ]
    }
   ],
   "source": [
    "# Kombinieren die Werte beider Spalten in eine Serie\n",
    "combined_teams = pd.concat([df2['HOME_TEAM'], df2['AWAY_TEAM']])\n",
    "\n",
    "# Initialisieren und anpassen Sie den LabelEncoder\n",
    "le_teams = LabelEncoder()\n",
    "le_teams.fit(combined_teams)\n",
    "\n",
    "# Codieren Sie die 'HOME_TEAM' und 'AWAY_TEAM' Spalten\n",
    "df2['HOME_TEAM'] = le_teams.transform(df2['HOME_TEAM'])\n",
    "df2['AWAY_TEAM'] = le_teams.transform(df2['AWAY_TEAM'])\n",
    "\n",
    "# Erstellen ein Mapping-Dictionary für die Decodierung\n",
    "label_mapping_TEAM = {idx: label for idx, label in enumerate(le_teams.classes_)}\n",
    "\n",
    "print(\"Label Mapping:\", label_mapping_TEAM)"
   ]
  },
  {
   "cell_type": "code",
   "execution_count": 68,
   "metadata": {},
   "outputs": [
    {
     "name": "stdout",
     "output_type": "stream",
     "text": [
      "Label Mapping: {0: 'Babak Rafati', 1: 'Bastian Dankert', 2: 'Benjamin Brand', 3: 'Benjamin Cortus', 4: 'Bibiana Steinhaus-Webb', 5: 'Christian Dingert', 6: 'Daniel Schlager', 7: 'Daniel Siebert', 8: 'Deniz Aytekin', 9: 'Dr. Arne Aarnink', 10: 'Dr. Felix Brych', 11: 'Dr. Franz-Xaver Wack', 12: 'Dr. Helmut Fleischer', 13: 'Dr. Jochen Drees', 14: 'Dr. Markus Merk', 15: 'Dr. Martin Thomsen', 16: 'Dr. Matthias Jöllenbeck', 17: 'Dr. Robert Kampka', 18: 'Dr. Robin Braun', 19: 'Felix Zwayer', 20: 'Florian Badstübner', 21: 'Florian Meyer', 22: 'Frank Willenborg', 23: 'Guido Winkmann', 24: 'Günter Perl', 25: 'Harm Osmers', 26: 'Herbert Fandel', 27: 'Hermann Albrecht', 28: 'Jörg Keßler', 29: 'Jürgen Jansen', 30: 'Knut Kircher', 31: 'Lutz Wagner', 32: 'Lutz-Michael Fröhlich', 33: 'Manuel Gräfe', 34: 'Marc Seemann', 35: 'Marco Fritz', 36: 'Markus Schmidt', 37: 'Markus Wingenbach', 38: 'Martin Petersen', 39: 'Michael Kempter', 40: 'Michael Weiner', 41: 'Patrick Ittrich', 42: 'Peter Gagelmann', 43: 'Peter Sippel', 44: 'Robert Hartmann', 45: 'Robert Schröder', 46: 'Sascha Stegemann', 47: 'Stefan Trautmann', 48: 'Sven Jablonski', 49: 'Sören Storks', 50: 'Thorsten Kinhöfer', 51: 'Timo Gerach', 52: 'Tobias Reichel', 53: 'Tobias Stieler', 54: 'Tobias Welz', 55: 'Uwe Kemmling', 56: 'Wolfgang Stark'}\n"
     ]
    }
   ],
   "source": [
    "le_REFEREE = LabelEncoder()\n",
    "encoded_REFEREE = le_REFEREE.fit_transform(df2['REFEREE'])\n",
    "df2['REFEREE'] = encoded_REFEREE\n",
    "\n",
    "label_mapping_REFEREE = {idx: label for idx, label in enumerate(le_REFEREE.classes_)}\n",
    "print(\"Label Mapping:\", label_mapping_REFEREE)"
   ]
  },
  {
   "cell_type": "code",
   "execution_count": 69,
   "metadata": {},
   "outputs": [
    {
     "name": "stdout",
     "output_type": "stream",
     "text": [
      "Label Mapping: {0: 'AWAY_WIN', 1: 'DRAW', 2: 'HOME_WIN'}\n"
     ]
    }
   ],
   "source": [
    "le_RESULT = LabelEncoder()\n",
    "encoded_RESULT = le_RESULT.fit_transform(df2['RESULT'])\n",
    "df2['RESULT'] = encoded_RESULT\n",
    "\n",
    "label_mapping_RESULT = {idx: label for idx, label in enumerate(le_RESULT.classes_)}\n",
    "print(\"Label Mapping:\", label_mapping_RESULT)"
   ]
  },
  {
   "cell_type": "code",
   "execution_count": 8,
   "metadata": {},
   "outputs": [
    {
     "name": "stdout",
     "output_type": "stream",
     "text": [
      "DATE                            datetime64[ns]\n",
      "WEEKDAY                                  int64\n",
      "MONTH                                    int64\n",
      "SEASON                                   int32\n",
      "MATCHDAY                                 int64\n",
      "HOME_TEAM                                int32\n",
      "PLACE_HOME_TEAM                          int64\n",
      "AWAY_TEAM                                int32\n",
      "PLACE_AWAY_TEAM                          int64\n",
      "WIN_PERC_HOME                          float64\n",
      "REMIS_PERC                             float64\n",
      "WIN_PERC_AWAY                          float64\n",
      "HOME_GOALS                             float64\n",
      "AWAY_GOALS                             float64\n",
      "RESULT                                   int32\n",
      "REFEREE                                  int32\n",
      "HOME_PLAYERS_COUNT                       int64\n",
      "HOME_PLAYERS_AVG_AGE                   float64\n",
      "HOME_LEGIONARIES_COUNT                   int64\n",
      "HOME_AVG_MARKET_VALUE                  float64\n",
      "HOME_TOTAL_MARKET_VALUE                float64\n",
      "HOME_AVG_AGE_JOINING                   float64\n",
      "HOME_AVG_AGE_LEAVING                   float64\n",
      "HOME_TOTAL_VALUE_JOINING_MIO           float64\n",
      "HOME_TOTAL_VALUE_LEAVING_MIO           float64\n",
      "HOME_EXPENSES_JOINING_MIO              float64\n",
      "HOME_REVENUE_LEAVING_MIO               float64\n",
      "AWAY_PLAYERS_COUNT                       int64\n",
      "AWAY_PLAYERS_AVG_AGE                   float64\n",
      "AWAY_LEGIONARIES_COUNT                   int64\n",
      "AWAY_AVG_MARKET_VALUE                  float64\n",
      "AWAY_TOTAL_MARKET_VALUE                float64\n",
      "AWAY_AVG_AGE_JOINING                   float64\n",
      "AWAY_AVG_AGE_LEAVING                   float64\n",
      "AWAY_TOTAL_VALUE_JOINING_MIO           float64\n",
      "AWAY_TOTAL_VALUE_LEAVING_MIO           float64\n",
      "AWAY_EXPENSES_JOINING_MIO              float64\n",
      "AWAY_REVENUE_LEAVING_MIO               float64\n",
      "dtype: object\n"
     ]
    }
   ],
   "source": [
    "print(df2.dtypes)"
   ]
  },
  {
   "cell_type": "code",
   "execution_count": 9,
   "metadata": {},
   "outputs": [
    {
     "name": "stdout",
     "output_type": "stream",
     "text": [
      "HOME_TEAM                             29.00\n",
      "PLACE_HOME_TEAM                        3.00\n",
      "AWAY_TEAM                             17.00\n",
      "PLACE_AWAY_TEAM                        2.00\n",
      "RESULT                                 2.00\n",
      "REFEREE                               47.00\n",
      "HOME_PLAYERS_COUNT                    29.00\n",
      "HOME_PLAYERS_AVG_AGE                  25.00\n",
      "HOME_LEGIONARIES_COUNT                14.00\n",
      "HOME_AVG_MARKET_VALUE            3400000.00\n",
      "HOME_TOTAL_MARKET_VALUE         98480000.00\n",
      "HOME_AVG_AGE_LEAVING                  26.40\n",
      "HOME_TOTAL_VALUE_JOINING_MIO            NaN\n",
      "HOME_TOTAL_VALUE_LEAVING_MIO            NaN\n",
      "HOME_EXPENSES_JOINING_MIO              9.00\n",
      "HOME_REVENUE_LEAVING_MIO               6.45\n",
      "AWAY_PLAYERS_COUNT                    33.00\n",
      "AWAY_PLAYERS_AVG_AGE                  25.60\n",
      "AWAY_LEGIONARIES_COUNT                15.00\n",
      "AWAY_AVG_MARKET_VALUE            2620000.00\n",
      "AWAY_TOTAL_MARKET_VALUE         86330000.00\n",
      "AWAY_AVG_AGE_LEAVING                  27.80\n",
      "AWAY_TOTAL_VALUE_JOINING_MIO            NaN\n",
      "AWAY_TOTAL_VALUE_LEAVING_MIO            NaN\n",
      "AWAY_EXPENSES_JOINING_MIO              4.65\n",
      "AWAY_REVENUE_LEAVING_MIO               0.05\n",
      "Name: 0, dtype: float64\n"
     ]
    }
   ],
   "source": [
    "print(df2[object_columns].iloc[0])"
   ]
  },
  {
   "cell_type": "code",
   "execution_count": 10,
   "metadata": {},
   "outputs": [
    {
     "name": "stdout",
     "output_type": "stream",
     "text": [
      "DATE                               0\n",
      "WEEKDAY                            0\n",
      "MONTH                              0\n",
      "SEASON                             0\n",
      "MATCHDAY                           0\n",
      "HOME_TEAM                          0\n",
      "PLACE_HOME_TEAM                    0\n",
      "AWAY_TEAM                          0\n",
      "PLACE_AWAY_TEAM                    0\n",
      "WIN_PERC_HOME                   1530\n",
      "REMIS_PERC                      1530\n",
      "WIN_PERC_AWAY                   1530\n",
      "HOME_GOALS                         0\n",
      "AWAY_GOALS                         0\n",
      "RESULT                             0\n",
      "REFEREE                            0\n",
      "HOME_PLAYERS_COUNT                 0\n",
      "HOME_PLAYERS_AVG_AGE               0\n",
      "HOME_LEGIONARIES_COUNT             0\n",
      "HOME_AVG_MARKET_VALUE              0\n",
      "HOME_TOTAL_MARKET_VALUE            0\n",
      "HOME_AVG_AGE_JOINING               0\n",
      "HOME_AVG_AGE_LEAVING               0\n",
      "HOME_TOTAL_VALUE_JOINING_MIO     748\n",
      "HOME_TOTAL_VALUE_LEAVING_MIO    1224\n",
      "HOME_EXPENSES_JOINING_MIO         85\n",
      "HOME_REVENUE_LEAVING_MIO         272\n",
      "AWAY_PLAYERS_COUNT                 0\n",
      "AWAY_PLAYERS_AVG_AGE               0\n",
      "AWAY_LEGIONARIES_COUNT             0\n",
      "AWAY_AVG_MARKET_VALUE              0\n",
      "AWAY_TOTAL_MARKET_VALUE            0\n",
      "AWAY_AVG_AGE_JOINING               0\n",
      "AWAY_AVG_AGE_LEAVING               0\n",
      "AWAY_TOTAL_VALUE_JOINING_MIO     748\n",
      "AWAY_TOTAL_VALUE_LEAVING_MIO    1224\n",
      "AWAY_EXPENSES_JOINING_MIO         85\n",
      "AWAY_REVENUE_LEAVING_MIO         272\n",
      "dtype: int64\n",
      "5814\n"
     ]
    }
   ],
   "source": [
    "nan_count = df2.isna().sum()\n",
    "print(nan_count)\n",
    "print(len(df))"
   ]
  },
  {
   "cell_type": "code",
   "execution_count": 11,
   "metadata": {},
   "outputs": [],
   "source": [
    "df2.to_pickle(\"df_merge_club_transfer_data_prep2.pkl\")"
   ]
  },
  {
   "cell_type": "markdown",
   "metadata": {},
   "source": [
    "## Modelling"
   ]
  },
  {
   "cell_type": "code",
   "execution_count": 70,
   "metadata": {},
   "outputs": [],
   "source": [
    "selected_features = [\n",
    "\"HOME_TEAM\", \"PLACE_HOME_TEAM\", \"HOME_PLAYERS_COUNT\", \"HOME_PLAYERS_AVG_AGE\", \"HOME_LEGIONARIES_COUNT\",\n",
    "\"HOME_AVG_MARKET_VALUE\", \"HOME_TOTAL_MARKET_VALUE\", \"HOME_AVG_AGE_JOINING\", \"HOME_AVG_AGE_LEAVING\", \n",
    "#\"HOME_TOTAL_VALUE_JOINING_MIO\",\"HOME_TOTAL_VALUE_LEAVING_MIO\",\n",
    "\"AWAY_TEAM\", \"PLACE_AWAY_TEAM\", \"AWAY_PLAYERS_COUNT\", \"AWAY_PLAYERS_AVG_AGE\", \"AWAY_LEGIONARIES_COUNT\",\n",
    "\"AWAY_AVG_MARKET_VALUE\", \"AWAY_TOTAL_MARKET_VALUE\", \"AWAY_AVG_AGE_JOINING\", \"AWAY_AVG_AGE_LEAVING\", \n",
    "#\"AWAY_TOTAL_VALUE_JOINING_MIO\", \"AWAY_TOTAL_VALUE_LEAVING_MIO\",\n",
    "\"MATCHDAY\"\n",
    "]"
   ]
  },
  {
   "cell_type": "code",
   "execution_count": 71,
   "metadata": {},
   "outputs": [],
   "source": [
    "X = df2[selected_features]\n",
    "y = df2['RESULT']\n",
    "# Daten aufteilen\n",
    "X_train, X_test, y_train, y_test = train_test_split(X, y, test_size=TEST_SIZE_PERCENT, shuffle=False)\n",
    "\n",
    "X_test = X_test.reset_index(drop=True)\n",
    "y_test = y_test.reset_index(drop=True)"
   ]
  },
  {
   "cell_type": "code",
   "execution_count": 72,
   "metadata": {},
   "outputs": [
    {
     "data": {
      "text/html": [
       "<div>\n",
       "<style scoped>\n",
       "    .dataframe tbody tr th:only-of-type {\n",
       "        vertical-align: middle;\n",
       "    }\n",
       "\n",
       "    .dataframe tbody tr th {\n",
       "        vertical-align: top;\n",
       "    }\n",
       "\n",
       "    .dataframe thead th {\n",
       "        text-align: right;\n",
       "    }\n",
       "</style>\n",
       "<table border=\"1\" class=\"dataframe\">\n",
       "  <thead>\n",
       "    <tr style=\"text-align: right;\">\n",
       "      <th></th>\n",
       "      <th>HOME_TEAM</th>\n",
       "      <th>PLACE_HOME_TEAM</th>\n",
       "      <th>HOME_PLAYERS_COUNT</th>\n",
       "      <th>HOME_PLAYERS_AVG_AGE</th>\n",
       "      <th>HOME_LEGIONARIES_COUNT</th>\n",
       "      <th>HOME_AVG_MARKET_VALUE</th>\n",
       "      <th>HOME_TOTAL_MARKET_VALUE</th>\n",
       "      <th>HOME_AVG_AGE_JOINING</th>\n",
       "      <th>HOME_AVG_AGE_LEAVING</th>\n",
       "      <th>AWAY_TEAM</th>\n",
       "      <th>PLACE_AWAY_TEAM</th>\n",
       "      <th>AWAY_PLAYERS_COUNT</th>\n",
       "      <th>AWAY_PLAYERS_AVG_AGE</th>\n",
       "      <th>AWAY_LEGIONARIES_COUNT</th>\n",
       "      <th>AWAY_AVG_MARKET_VALUE</th>\n",
       "      <th>AWAY_TOTAL_MARKET_VALUE</th>\n",
       "      <th>AWAY_AVG_AGE_JOINING</th>\n",
       "      <th>AWAY_AVG_AGE_LEAVING</th>\n",
       "      <th>MATCHDAY</th>\n",
       "    </tr>\n",
       "  </thead>\n",
       "  <tbody>\n",
       "    <tr>\n",
       "      <th>0</th>\n",
       "      <td>34</td>\n",
       "      <td>7</td>\n",
       "      <td>38</td>\n",
       "      <td>24.7</td>\n",
       "      <td>23</td>\n",
       "      <td>5460000.0</td>\n",
       "      <td>207600000.0</td>\n",
       "      <td>22.8</td>\n",
       "      <td>24.0</td>\n",
       "      <td>3</td>\n",
       "      <td>15</td>\n",
       "      <td>34</td>\n",
       "      <td>26.2</td>\n",
       "      <td>11</td>\n",
       "      <td>1210000.0</td>\n",
       "      <td>41200000.0</td>\n",
       "      <td>23.5</td>\n",
       "      <td>24.0</td>\n",
       "      <td>7</td>\n",
       "    </tr>\n",
       "    <tr>\n",
       "      <th>1</th>\n",
       "      <td>11</td>\n",
       "      <td>9</td>\n",
       "      <td>35</td>\n",
       "      <td>26.4</td>\n",
       "      <td>23</td>\n",
       "      <td>5970000.0</td>\n",
       "      <td>208980000.0</td>\n",
       "      <td>24.4</td>\n",
       "      <td>23.5</td>\n",
       "      <td>29</td>\n",
       "      <td>11</td>\n",
       "      <td>36</td>\n",
       "      <td>26.2</td>\n",
       "      <td>18</td>\n",
       "      <td>3750000.0</td>\n",
       "      <td>135130000.0</td>\n",
       "      <td>23.3</td>\n",
       "      <td>23.5</td>\n",
       "      <td>7</td>\n",
       "    </tr>\n",
       "    <tr>\n",
       "      <th>2</th>\n",
       "      <td>11</td>\n",
       "      <td>9</td>\n",
       "      <td>35</td>\n",
       "      <td>26.4</td>\n",
       "      <td>23</td>\n",
       "      <td>5970000.0</td>\n",
       "      <td>208980000.0</td>\n",
       "      <td>24.4</td>\n",
       "      <td>23.5</td>\n",
       "      <td>7</td>\n",
       "      <td>7</td>\n",
       "      <td>29</td>\n",
       "      <td>25.1</td>\n",
       "      <td>18</td>\n",
       "      <td>13760000.0</td>\n",
       "      <td>398950000.0</td>\n",
       "      <td>21.4</td>\n",
       "      <td>23.5</td>\n",
       "      <td>8</td>\n",
       "    </tr>\n",
       "    <tr>\n",
       "      <th>3</th>\n",
       "      <td>25</td>\n",
       "      <td>4</td>\n",
       "      <td>38</td>\n",
       "      <td>23.0</td>\n",
       "      <td>26</td>\n",
       "      <td>15010000.0</td>\n",
       "      <td>570480000.0</td>\n",
       "      <td>20.7</td>\n",
       "      <td>22.5</td>\n",
       "      <td>34</td>\n",
       "      <td>2</td>\n",
       "      <td>38</td>\n",
       "      <td>24.7</td>\n",
       "      <td>23</td>\n",
       "      <td>5460000.0</td>\n",
       "      <td>207600000.0</td>\n",
       "      <td>22.8</td>\n",
       "      <td>24.0</td>\n",
       "      <td>8</td>\n",
       "    </tr>\n",
       "    <tr>\n",
       "      <th>4</th>\n",
       "      <td>29</td>\n",
       "      <td>11</td>\n",
       "      <td>36</td>\n",
       "      <td>26.2</td>\n",
       "      <td>18</td>\n",
       "      <td>3750000.0</td>\n",
       "      <td>135130000.0</td>\n",
       "      <td>23.3</td>\n",
       "      <td>23.5</td>\n",
       "      <td>22</td>\n",
       "      <td>10</td>\n",
       "      <td>42</td>\n",
       "      <td>24.2</td>\n",
       "      <td>22</td>\n",
       "      <td>5170000.0</td>\n",
       "      <td>217200000.0</td>\n",
       "      <td>22.1</td>\n",
       "      <td>22.5</td>\n",
       "      <td>8</td>\n",
       "    </tr>\n",
       "    <tr>\n",
       "      <th>...</th>\n",
       "      <td>...</td>\n",
       "      <td>...</td>\n",
       "      <td>...</td>\n",
       "      <td>...</td>\n",
       "      <td>...</td>\n",
       "      <td>...</td>\n",
       "      <td>...</td>\n",
       "      <td>...</td>\n",
       "      <td>...</td>\n",
       "      <td>...</td>\n",
       "      <td>...</td>\n",
       "      <td>...</td>\n",
       "      <td>...</td>\n",
       "      <td>...</td>\n",
       "      <td>...</td>\n",
       "      <td>...</td>\n",
       "      <td>...</td>\n",
       "      <td>...</td>\n",
       "      <td>...</td>\n",
       "    </tr>\n",
       "    <tr>\n",
       "      <th>1158</th>\n",
       "      <td>9</td>\n",
       "      <td>11</td>\n",
       "      <td>35</td>\n",
       "      <td>25.4</td>\n",
       "      <td>16</td>\n",
       "      <td>6910000.0</td>\n",
       "      <td>241680000.0</td>\n",
       "      <td>22.1</td>\n",
       "      <td>23.8</td>\n",
       "      <td>12</td>\n",
       "      <td>14</td>\n",
       "      <td>42</td>\n",
       "      <td>25.0</td>\n",
       "      <td>23</td>\n",
       "      <td>3150000.0</td>\n",
       "      <td>132280000.0</td>\n",
       "      <td>22.6</td>\n",
       "      <td>24.6</td>\n",
       "      <td>34</td>\n",
       "    </tr>\n",
       "    <tr>\n",
       "      <th>1159</th>\n",
       "      <td>11</td>\n",
       "      <td>8</td>\n",
       "      <td>36</td>\n",
       "      <td>25.0</td>\n",
       "      <td>22</td>\n",
       "      <td>9020000.0</td>\n",
       "      <td>324550000.0</td>\n",
       "      <td>22.6</td>\n",
       "      <td>24.2</td>\n",
       "      <td>26</td>\n",
       "      <td>5</td>\n",
       "      <td>29</td>\n",
       "      <td>26.0</td>\n",
       "      <td>11</td>\n",
       "      <td>6930000.0</td>\n",
       "      <td>200950000.0</td>\n",
       "      <td>23.3</td>\n",
       "      <td>23.1</td>\n",
       "      <td>34</td>\n",
       "    </tr>\n",
       "    <tr>\n",
       "      <th>1160</th>\n",
       "      <td>34</td>\n",
       "      <td>7</td>\n",
       "      <td>33</td>\n",
       "      <td>24.7</td>\n",
       "      <td>20</td>\n",
       "      <td>7220000.0</td>\n",
       "      <td>238300000.0</td>\n",
       "      <td>22.3</td>\n",
       "      <td>24.6</td>\n",
       "      <td>22</td>\n",
       "      <td>18</td>\n",
       "      <td>41</td>\n",
       "      <td>25.4</td>\n",
       "      <td>21</td>\n",
       "      <td>2290000.0</td>\n",
       "      <td>94000000.0</td>\n",
       "      <td>23.7</td>\n",
       "      <td>24.4</td>\n",
       "      <td>34</td>\n",
       "    </tr>\n",
       "    <tr>\n",
       "      <th>1161</th>\n",
       "      <td>33</td>\n",
       "      <td>16</td>\n",
       "      <td>32</td>\n",
       "      <td>27.7</td>\n",
       "      <td>18</td>\n",
       "      <td>1680000.0</td>\n",
       "      <td>53700000.0</td>\n",
       "      <td>25.4</td>\n",
       "      <td>26.0</td>\n",
       "      <td>7</td>\n",
       "      <td>6</td>\n",
       "      <td>35</td>\n",
       "      <td>24.2</td>\n",
       "      <td>24</td>\n",
       "      <td>12930000.0</td>\n",
       "      <td>452550000.0</td>\n",
       "      <td>21.8</td>\n",
       "      <td>24.6</td>\n",
       "      <td>34</td>\n",
       "    </tr>\n",
       "    <tr>\n",
       "      <th>1162</th>\n",
       "      <td>32</td>\n",
       "      <td>15</td>\n",
       "      <td>39</td>\n",
       "      <td>23.2</td>\n",
       "      <td>21</td>\n",
       "      <td>3870000.0</td>\n",
       "      <td>151050000.0</td>\n",
       "      <td>22.8</td>\n",
       "      <td>22.8</td>\n",
       "      <td>31</td>\n",
       "      <td>13</td>\n",
       "      <td>37</td>\n",
       "      <td>25.8</td>\n",
       "      <td>21</td>\n",
       "      <td>4830000.0</td>\n",
       "      <td>178800000.0</td>\n",
       "      <td>23.9</td>\n",
       "      <td>25.0</td>\n",
       "      <td>34</td>\n",
       "    </tr>\n",
       "  </tbody>\n",
       "</table>\n",
       "<p>1163 rows × 19 columns</p>\n",
       "</div>"
      ],
      "text/plain": [
       "      HOME_TEAM  PLACE_HOME_TEAM  HOME_PLAYERS_COUNT  HOME_PLAYERS_AVG_AGE  \\\n",
       "0            34                7                  38                  24.7   \n",
       "1            11                9                  35                  26.4   \n",
       "2            11                9                  35                  26.4   \n",
       "3            25                4                  38                  23.0   \n",
       "4            29               11                  36                  26.2   \n",
       "...         ...              ...                 ...                   ...   \n",
       "1158          9               11                  35                  25.4   \n",
       "1159         11                8                  36                  25.0   \n",
       "1160         34                7                  33                  24.7   \n",
       "1161         33               16                  32                  27.7   \n",
       "1162         32               15                  39                  23.2   \n",
       "\n",
       "      HOME_LEGIONARIES_COUNT  HOME_AVG_MARKET_VALUE  HOME_TOTAL_MARKET_VALUE  \\\n",
       "0                         23              5460000.0              207600000.0   \n",
       "1                         23              5970000.0              208980000.0   \n",
       "2                         23              5970000.0              208980000.0   \n",
       "3                         26             15010000.0              570480000.0   \n",
       "4                         18              3750000.0              135130000.0   \n",
       "...                      ...                    ...                      ...   \n",
       "1158                      16              6910000.0              241680000.0   \n",
       "1159                      22              9020000.0              324550000.0   \n",
       "1160                      20              7220000.0              238300000.0   \n",
       "1161                      18              1680000.0               53700000.0   \n",
       "1162                      21              3870000.0              151050000.0   \n",
       "\n",
       "      HOME_AVG_AGE_JOINING  HOME_AVG_AGE_LEAVING  AWAY_TEAM  PLACE_AWAY_TEAM  \\\n",
       "0                     22.8                  24.0          3               15   \n",
       "1                     24.4                  23.5         29               11   \n",
       "2                     24.4                  23.5          7                7   \n",
       "3                     20.7                  22.5         34                2   \n",
       "4                     23.3                  23.5         22               10   \n",
       "...                    ...                   ...        ...              ...   \n",
       "1158                  22.1                  23.8         12               14   \n",
       "1159                  22.6                  24.2         26                5   \n",
       "1160                  22.3                  24.6         22               18   \n",
       "1161                  25.4                  26.0          7                6   \n",
       "1162                  22.8                  22.8         31               13   \n",
       "\n",
       "      AWAY_PLAYERS_COUNT  AWAY_PLAYERS_AVG_AGE  AWAY_LEGIONARIES_COUNT  \\\n",
       "0                     34                  26.2                      11   \n",
       "1                     36                  26.2                      18   \n",
       "2                     29                  25.1                      18   \n",
       "3                     38                  24.7                      23   \n",
       "4                     42                  24.2                      22   \n",
       "...                  ...                   ...                     ...   \n",
       "1158                  42                  25.0                      23   \n",
       "1159                  29                  26.0                      11   \n",
       "1160                  41                  25.4                      21   \n",
       "1161                  35                  24.2                      24   \n",
       "1162                  37                  25.8                      21   \n",
       "\n",
       "      AWAY_AVG_MARKET_VALUE  AWAY_TOTAL_MARKET_VALUE  AWAY_AVG_AGE_JOINING  \\\n",
       "0                 1210000.0               41200000.0                  23.5   \n",
       "1                 3750000.0              135130000.0                  23.3   \n",
       "2                13760000.0              398950000.0                  21.4   \n",
       "3                 5460000.0              207600000.0                  22.8   \n",
       "4                 5170000.0              217200000.0                  22.1   \n",
       "...                     ...                      ...                   ...   \n",
       "1158              3150000.0              132280000.0                  22.6   \n",
       "1159              6930000.0              200950000.0                  23.3   \n",
       "1160              2290000.0               94000000.0                  23.7   \n",
       "1161             12930000.0              452550000.0                  21.8   \n",
       "1162              4830000.0              178800000.0                  23.9   \n",
       "\n",
       "      AWAY_AVG_AGE_LEAVING  MATCHDAY  \n",
       "0                     24.0         7  \n",
       "1                     23.5         7  \n",
       "2                     23.5         8  \n",
       "3                     24.0         8  \n",
       "4                     22.5         8  \n",
       "...                    ...       ...  \n",
       "1158                  24.6        34  \n",
       "1159                  23.1        34  \n",
       "1160                  24.4        34  \n",
       "1161                  24.6        34  \n",
       "1162                  25.0        34  \n",
       "\n",
       "[1163 rows x 19 columns]"
      ]
     },
     "execution_count": 72,
     "metadata": {},
     "output_type": "execute_result"
    }
   ],
   "source": [
    "X_test"
   ]
  },
  {
   "cell_type": "code",
   "execution_count": 36,
   "metadata": {},
   "outputs": [
    {
     "name": "stdout",
     "output_type": "stream",
     "text": [
      "Prozentuale Verteilung der Werte in der Spalte 'RESULT':\n",
      "2    45.252838\n",
      "0    29.944960\n",
      "1    24.802202\n",
      "Name: RESULT, dtype: float64\n"
     ]
    }
   ],
   "source": [
    "total_rows = len(df2)\n",
    "\n",
    "# Zähle die Anzahl jeder eindeutigen Werte in der Spalte \"result\"\n",
    "value_counts = df2['RESULT'].value_counts()\n",
    "\n",
    "# Berechne die prozentuale Verteilung\n",
    "percentage_distribution = (value_counts / total_rows) * 100\n",
    "\n",
    "print(\"Prozentuale Verteilung der Werte in der Spalte 'RESULT':\")\n",
    "print(percentage_distribution)"
   ]
  },
  {
   "cell_type": "code",
   "execution_count": 37,
   "metadata": {},
   "outputs": [],
   "source": [
    "total_samples = total_rows  # Gewichtung der Klassen\n",
    "weights_for_classes = {\n",
    "    0: total_samples / (3 * 29.944960),  # 3 Klassen, daher durch 3 teilen\n",
    "    1: total_samples / (3 * 24.802202),\n",
    "    2: total_samples / (3 * 45.252838)\n",
    "}"
   ]
  },
  {
   "cell_type": "markdown",
   "metadata": {},
   "source": [
    "## RandomForestClassifier"
   ]
  },
  {
   "cell_type": "code",
   "execution_count": 73,
   "metadata": {},
   "outputs": [
    {
     "name": "stdout",
     "output_type": "stream",
     "text": [
      "Best parameters found: OrderedDict([('class_weight', None), ('criterion', 'gini'), ('max_depth', 6), ('max_features', 0.42156565750356567), ('n_estimators', 300)])\n"
     ]
    }
   ],
   "source": [
    "warnings.filterwarnings(\"ignore\", category=UserWarning, message=\".*Precision and F-score are ill-defined.*\") \n",
    "search_space = {\n",
    "    'n_estimators': Integer(10, 300),          # Ganzzahlige Variable\n",
    "    'max_depth': Integer(3, 10),               # Ganzzahlige Variable\n",
    "    'criterion': Categorical(['gini', 'entropy']),  # Kategorische Variable\n",
    "    'class_weight': Categorical([None, 'balanced']),  # Keine Klassengewichtung, Automatische Klassengweichtung\n",
    "    'max_features': Real(0.1, 0.999, prior='uniform')  # Reelle Variable\n",
    "    # 'min_samples_split': Integer(2, 20),\n",
    "    # 'min_samples_leaf': Integer(1, 20),\n",
    "}\n",
    "\n",
    "# Bayes'sche Optimierung\n",
    "opt_rmforest = BayesSearchCV(\n",
    "    RandomForestClassifier(),\n",
    "    search_space,\n",
    "    cv=5,  # 5-fache Kreuzvalidierung\n",
    "    n_iter=50,  # Anzahl der Iterationen\n",
    "    n_jobs=-1  # Parallelisierung (-1: alle Kerne verwenden)\n",
    ")\n",
    "\n",
    "# Optimierung auf dem Trainings- und Validierungsdatensatz\n",
    "opt_rmforest.fit(X_train, y_train)\n",
    "\n",
    "# Beste Parameter ausgeben\n",
    "print(\"Best parameters found:\", opt_rmforest.best_params_)"
   ]
  },
  {
   "cell_type": "code",
   "execution_count": 74,
   "metadata": {},
   "outputs": [
    {
     "name": "stdout",
     "output_type": "stream",
     "text": [
      "Accuracy: 0.5090283748925194\n",
      "Balanced Accuracy: 0.43419583751075463\n",
      "\n",
      "Classification Report:\n",
      "               precision    recall  f1-score   support\n",
      "\n",
      "           0       0.47      0.53      0.50       362\n",
      "           1       0.00      0.00      0.00       283\n",
      "           2       0.53      0.77      0.63       518\n",
      "\n",
      "    accuracy                           0.51      1163\n",
      "   macro avg       0.33      0.43      0.38      1163\n",
      "weighted avg       0.38      0.51      0.44      1163\n",
      "\n"
     ]
    }
   ],
   "source": [
    "model_name = 'random_forest'\n",
    "result = helpers.get_model_forecast_results(opt_rmforest, X_test, y_test, le_teams, is_optimizer=True)\n",
    "with open(f'./results/{model_name}_results.json', 'w') as f:\n",
    "  json.dump(result, f) "
   ]
  },
  {
   "cell_type": "code",
   "execution_count": 75,
   "metadata": {},
   "outputs": [
    {
     "data": {
      "image/png": "[encoded data removed]",
      "text/plain": [
       "<Figure size 1000x600 with 1 Axes>"
      ]
     },
     "metadata": {},
     "output_type": "display_data"
    }
   ],
   "source": [
    "best_model = opt_rmforest.best_estimator_\n",
    "\n",
    "# Feature-Importance auslesen\n",
    "feature_importance = best_model.feature_importances_\n",
    "\n",
    "feature_names = X.columns.tolist()  # Ersetzen Sie dies durch die echten Feature-Namen\n",
    "feature_importance_df = pd.DataFrame({\n",
    "    'Feature': feature_names,\n",
    "    'Importance': feature_importance\n",
    "})\n",
    "\n",
    "feature_importance_df.sort_values(by='Importance', ascending=True, inplace=True)\n",
    "\n",
    "# Plot\n",
    "plt.figure(figsize=(10, 6))\n",
    "plt.barh(feature_importance_df['Feature'], feature_importance_df['Importance'])\n",
    "plt.xlabel('Importance')\n",
    "plt.ylabel('Feature')\n",
    "plt.title('Feature Importance')\n",
    "plt.show()"
   ]
  },
  {
   "cell_type": "code",
   "execution_count": null,
   "metadata": {},
   "outputs": [],
   "source": []
  },
  {
   "cell_type": "markdown",
   "metadata": {},
   "source": [
    "## KNeighborsClassifier"
   ]
  },
  {
   "cell_type": "code",
   "execution_count": 17,
   "metadata": {},
   "outputs": [
    {
     "name": "stdout",
     "output_type": "stream",
     "text": [
      "Best parameters found: OrderedDict([('algorithm', 'auto'), ('metric', 'minkowski'), ('n_neighbors', 30), ('p', 6), ('weights', 'uniform')])\n"
     ]
    }
   ],
   "source": [
    "from sklearn.neighbors import KNeighborsClassifier\n",
    "warnings.filterwarnings(\"ignore\", message=\"The objective has been evaluated at this point before.\")\n",
    "search_space = {\n",
    "  'n_neighbors': Integer(1, 30),\n",
    "    'weights': Categorical(['uniform', 'distance']),\n",
    "    'metric': Categorical(['euclidean', 'manhattan', 'minkowski']),\n",
    "    'p': Integer(1, 6),\n",
    "    'algorithm': Categorical(['auto', 'ball_tree', 'kd_tree', 'brute'])\n",
    "}\n",
    "\n",
    "# Bayes'sche Optimierung\n",
    "opt_knn = BayesSearchCV(\n",
    "    KNeighborsClassifier(),\n",
    "    search_space,\n",
    "    cv=5,  # 5-fache Kreuzvalidierung\n",
    "    n_iter=40,  # Anzahl der Iterationen\n",
    "    n_jobs=-1  # Parallelisierung (-1: alle Kerne verwenden)\n",
    ")\n",
    "\n",
    "# Optimierung auf dem Trainings- und Validierungsdatensatz\n",
    "opt_knn.fit(X_train, y_train)\n",
    "\n",
    "# Beste Parameter ausgeben\n",
    "print(\"Best parameters found:\", opt_knn.best_params_)"
   ]
  },
  {
   "cell_type": "code",
   "execution_count": 18,
   "metadata": {},
   "outputs": [
    {
     "name": "stdout",
     "output_type": "stream",
     "text": [
      "Accuracy: 0.5081685296646603\n",
      "Balanced Accuracy: 0.43834127410841\n",
      "\n",
      "Classification Report:\n",
      "               precision    recall  f1-score   support\n",
      "\n",
      "           0       0.47      0.52      0.50       362\n",
      "           1       0.29      0.04      0.06       283\n",
      "           2       0.54      0.75      0.63       518\n",
      "\n",
      "    accuracy                           0.51      1163\n",
      "   macro avg       0.44      0.44      0.40      1163\n",
      "weighted avg       0.46      0.51      0.45      1163\n",
      "\n"
     ]
    }
   ],
   "source": [
    "model_name = 'kneighbors'\n",
    "result = helpers.get_model_forecast_results(opt_knn, X_test, y_test, le_teams, is_optimizer=True)\n",
    "with open(f'./results/{model_name}_results.json', 'w') as f:\n",
    "  json.dump(result, f) "
   ]
  },
  {
   "cell_type": "markdown",
   "metadata": {},
   "source": [
    "## MultinomialNB"
   ]
  },
  {
   "cell_type": "code",
   "execution_count": 19,
   "metadata": {},
   "outputs": [
    {
     "name": "stdout",
     "output_type": "stream",
     "text": [
      "Best parameters found: OrderedDict([('alpha', 0.23334165941032675), ('fit_prior', False)])\n"
     ]
    }
   ],
   "source": [
    "from sklearn.naive_bayes import MultinomialNB\n",
    "warnings.filterwarnings(\"ignore\", message=\"`np.int` is a deprecated alias for the builtin `int`\")\n",
    "search_space = {\n",
    "    'alpha': Real(0, 1, prior='uniform'),  # oder auch Integer, wenn Sie diskrete Werte möchten\n",
    "    'fit_prior': Categorical([True, False])\n",
    "}\n",
    "\n",
    "# Bayes'sche Optimierung\n",
    "opt_mnb = BayesSearchCV(\n",
    "    MultinomialNB(),\n",
    "    search_space,\n",
    "    cv=5,  # 5-fache Kreuzvalidierung\n",
    "    n_iter=40,  # Anzahl der Iterationen\n",
    "    n_jobs=-1  # Parallelisierung (-1: alle Kerne verwenden)\n",
    ")\n",
    "\n",
    "# Optimierung auf dem Trainings- und Validierungsdatensatz\n",
    "opt_mnb.fit(X_train, y_train)\n",
    "\n",
    "# Beste Parameter ausgeben\n",
    "print(\"Best parameters found:\", opt_mnb.best_params_)"
   ]
  },
  {
   "cell_type": "code",
   "execution_count": 20,
   "metadata": {},
   "outputs": [
    {
     "name": "stdout",
     "output_type": "stream",
     "text": [
      "Accuracy: 0.4858125537403267\n",
      "Balanced Accuracy: 0.4461159447884162\n",
      "\n",
      "Classification Report:\n",
      "               precision    recall  f1-score   support\n",
      "\n",
      "           0       0.45      0.58      0.50       362\n",
      "           1       0.27      0.16      0.20       283\n",
      "           2       0.59      0.60      0.59       518\n",
      "\n",
      "    accuracy                           0.49      1163\n",
      "   macro avg       0.44      0.45      0.43      1163\n",
      "weighted avg       0.47      0.49      0.47      1163\n",
      "\n"
     ]
    }
   ],
   "source": [
    "model_name = 'multinominalNB'\n",
    "result = helpers.get_model_forecast_results(opt_mnb, X_test, y_test, le_teams, is_optimizer=True)\n",
    "with open(f'./results/{model_name}_results.json', 'w') as f:\n",
    "  json.dump(result, f) "
   ]
  },
  {
   "cell_type": "markdown",
   "metadata": {},
   "source": [
    "## GaussianNB"
   ]
  },
  {
   "cell_type": "code",
   "execution_count": 21,
   "metadata": {},
   "outputs": [
    {
     "data": {
      "text/html": [
       "<style>#sk-container-id-1 {color: black;background-color: white;}#sk-container-id-1 pre{padding: 0;}#sk-container-id-1 div.sk-toggleable {background-color: white;}#sk-container-id-1 label.sk-toggleable__label {cursor: pointer;display: block;width: 100%;margin-bottom: 0;padding: 0.3em;box-sizing: border-box;text-align: center;}#sk-container-id-1 label.sk-toggleable__label-arrow:before {content: \"▸\";float: left;margin-right: 0.25em;color: #696969;}#sk-container-id-1 label.sk-toggleable__label-arrow:hover:before {color: black;}#sk-container-id-1 div.sk-estimator:hover label.sk-toggleable__label-arrow:before {color: black;}#sk-container-id-1 div.sk-toggleable__content {max-height: 0;max-width: 0;overflow: hidden;text-align: left;background-color: #f0f8ff;}#sk-container-id-1 div.sk-toggleable__content pre {margin: 0.2em;color: black;border-radius: 0.25em;background-color: #f0f8ff;}#sk-container-id-1 input.sk-toggleable__control:checked~div.sk-toggleable__content {max-height: 200px;max-width: 100%;overflow: auto;}#sk-container-id-1 input.sk-toggleable__control:checked~label.sk-toggleable__label-arrow:before {content: \"▾\";}#sk-container-id-1 div.sk-estimator input.sk-toggleable__control:checked~label.sk-toggleable__label {background-color: #d4ebff;}#sk-container-id-1 div.sk-label input.sk-toggleable__control:checked~label.sk-toggleable__label {background-color: #d4ebff;}#sk-container-id-1 input.sk-hidden--visually {border: 0;clip: rect(1px 1px 1px 1px);clip: rect(1px, 1px, 1px, 1px);height: 1px;margin: -1px;overflow: hidden;padding: 0;position: absolute;width: 1px;}#sk-container-id-1 div.sk-estimator {font-family: monospace;background-color: #f0f8ff;border: 1px dotted black;border-radius: 0.25em;box-sizing: border-box;margin-bottom: 0.5em;}#sk-container-id-1 div.sk-estimator:hover {background-color: #d4ebff;}#sk-container-id-1 div.sk-parallel-item::after {content: \"\";width: 100%;border-bottom: 1px solid gray;flex-grow: 1;}#sk-container-id-1 div.sk-label:hover label.sk-toggleable__label {background-color: #d4ebff;}#sk-container-id-1 div.sk-serial::before {content: \"\";position: absolute;border-left: 1px solid gray;box-sizing: border-box;top: 0;bottom: 0;left: 50%;z-index: 0;}#sk-container-id-1 div.sk-serial {display: flex;flex-direction: column;align-items: center;background-color: white;padding-right: 0.2em;padding-left: 0.2em;position: relative;}#sk-container-id-1 div.sk-item {position: relative;z-index: 1;}#sk-container-id-1 div.sk-parallel {display: flex;align-items: stretch;justify-content: center;background-color: white;position: relative;}#sk-container-id-1 div.sk-item::before, #sk-container-id-1 div.sk-parallel-item::before {content: \"\";position: absolute;border-left: 1px solid gray;box-sizing: border-box;top: 0;bottom: 0;left: 50%;z-index: -1;}#sk-container-id-1 div.sk-parallel-item {display: flex;flex-direction: column;z-index: 1;position: relative;background-color: white;}#sk-container-id-1 div.sk-parallel-item:first-child::after {align-self: flex-end;width: 50%;}#sk-container-id-1 div.sk-parallel-item:last-child::after {align-self: flex-start;width: 50%;}#sk-container-id-1 div.sk-parallel-item:only-child::after {width: 0;}#sk-container-id-1 div.sk-dashed-wrapped {border: 1px dashed gray;margin: 0 0.4em 0.5em 0.4em;box-sizing: border-box;padding-bottom: 0.4em;background-color: white;}#sk-container-id-1 div.sk-label label {font-family: monospace;font-weight: bold;display: inline-block;line-height: 1.2em;}#sk-container-id-1 div.sk-label-container {text-align: center;}#sk-container-id-1 div.sk-container {/* jupyter's `normalize.less` sets `[hidden] { display: none; }` but bootstrap.min.css set `[hidden] { display: none !important; }` so we also need the `!important` here to be able to override the default hidden behavior on the sphinx rendered scikit-learn.org. See: https://github.com/scikit-learn/scikit-learn/issues/21755 */display: inline-block !important;position: relative;}#sk-container-id-1 div.sk-text-repr-fallback {display: none;}</style><div id=\"sk-container-id-1\" class=\"sk-top-container\"><div class=\"sk-text-repr-fallback\"><pre>GaussianNB()</pre><b>In a Jupyter environment, please rerun this cell to show the HTML representation or trust the notebook. <br />On GitHub, the HTML representation is unable to render, please try loading this page with nbviewer.org.</b></div><div class=\"sk-container\" hidden><div class=\"sk-item\"><div class=\"sk-estimator sk-toggleable\"><input class=\"sk-toggleable__control sk-hidden--visually\" id=\"sk-estimator-id-1\" type=\"checkbox\" checked><label for=\"sk-estimator-id-1\" class=\"sk-toggleable__label sk-toggleable__label-arrow\">GaussianNB</label><div class=\"sk-toggleable__content\"><pre>GaussianNB()</pre></div></div></div></div></div>"
      ],
      "text/plain": [
       "GaussianNB()"
      ]
     },
     "execution_count": 21,
     "metadata": {},
     "output_type": "execute_result"
    }
   ],
   "source": [
    "from sklearn.naive_bayes import GaussianNB\n",
    "\n",
    "gnb = GaussianNB()\n",
    "gnb.fit(X_train, y_train)"
   ]
  },
  {
   "cell_type": "code",
   "execution_count": 22,
   "metadata": {},
   "outputs": [
    {
     "name": "stdout",
     "output_type": "stream",
     "text": [
      "Accuracy: 0.5064488392089423\n",
      "Balanced Accuracy: 0.43660097188785474\n",
      "\n",
      "Classification Report:\n",
      "               precision    recall  f1-score   support\n",
      "\n",
      "           0       0.46      0.55      0.50       362\n",
      "           1       0.24      0.02      0.03       283\n",
      "           2       0.54      0.75      0.63       518\n",
      "\n",
      "    accuracy                           0.51      1163\n",
      "   macro avg       0.41      0.44      0.39      1163\n",
      "weighted avg       0.44      0.51      0.44      1163\n",
      "\n"
     ]
    }
   ],
   "source": [
    "model_name = 'gaussian_naive_bayes'\n",
    "result = helpers.get_model_forecast_results(gnb, X_test, y_test, le_teams, is_optimizer=False)\n",
    "with open(f'./results/{model_name}_results.json', 'w') as f:\n",
    "  json.dump(result, f) "
   ]
  },
  {
   "cell_type": "markdown",
   "metadata": {},
   "source": [
    "## QuadraticDiscriminantAnalysis"
   ]
  },
  {
   "cell_type": "code",
   "execution_count": 23,
   "metadata": {},
   "outputs": [
    {
     "name": "stdout",
     "output_type": "stream",
     "text": [
      "Best parameters found: OrderedDict([('reg_param', 0.031043668392755665), ('store_covariance', True), ('tol', 0.00020004089942541345)])\n"
     ]
    }
   ],
   "source": [
    "from sklearn.discriminant_analysis import QuadraticDiscriminantAnalysis\n",
    "warnings.filterwarnings(\"ignore\", message=\"`np.int` is a deprecated alias for the builtin `int`\")\n",
    "search_space = {\n",
    "    'tol': Real(1e-4,  1e-2, prior='uniform'),  # Annahme von 2 Klassen\n",
    "    'reg_param': Real(0, 1, prior='uniform'),\n",
    "    'store_covariance': Categorical([True, False])\n",
    "}\n",
    "# Bayes'sche Optimierung\n",
    "opt_qda = BayesSearchCV(\n",
    "    QuadraticDiscriminantAnalysis(),\n",
    "    search_space,\n",
    "    cv=5,  # 5-fache Kreuzvalidierung\n",
    "    n_iter=40,  # Anzahl der Iterationen\n",
    "    n_jobs=-1  # Parallelisierung (-1: alle Kerne verwenden)\n",
    ")\n",
    "\n",
    "# Optimierung auf dem Trainings- und Validierungsdatensatz\n",
    "opt_qda.fit(X_train, y_train)\n",
    "\n",
    "# Beste Parameter ausgeben\n",
    "print(\"Best parameters found:\", opt_qda.best_params_)"
   ]
  },
  {
   "cell_type": "code",
   "execution_count": 24,
   "metadata": {},
   "outputs": [
    {
     "name": "stdout",
     "output_type": "stream",
     "text": [
      "Accuracy: 0.5030094582975064\n",
      "Balanced Accuracy: 0.4453497565380899\n",
      "\n",
      "Classification Report:\n",
      "               precision    recall  f1-score   support\n",
      "\n",
      "           0       0.45      0.57      0.51       362\n",
      "           1       0.25      0.07      0.11       283\n",
      "           2       0.57      0.69      0.63       518\n",
      "\n",
      "    accuracy                           0.50      1163\n",
      "   macro avg       0.43      0.45      0.42      1163\n",
      "weighted avg       0.46      0.50      0.46      1163\n",
      "\n"
     ]
    }
   ],
   "source": [
    "model_name = 'quadratic_discriminant_analysis'\n",
    "result = helpers.get_model_forecast_results(opt_qda, X_test, y_test, le_teams, is_optimizer=False)\n",
    "with open(f'./results/{model_name}_results.json', 'w') as f:\n",
    "  json.dump(result, f) "
   ]
  }
 ],
 "metadata": {
  "kernelspec": {
   "display_name": "darts_org",
   "language": "python",
   "name": "python3"
  },
  "language_info": {
   "codemirror_mode": {
    "name": "ipython",
    "version": 3
   },
   "file_extension": ".py",
   "mimetype": "text/x-python",
   "name": "python",
   "nbconvert_exporter": "python",
   "pygments_lexer": "ipython3",
   "version": "3.9.16"
  },
  "orig_nbformat": 4
 },
 "nbformat": 4,
 "nbformat_minor": 2
}
